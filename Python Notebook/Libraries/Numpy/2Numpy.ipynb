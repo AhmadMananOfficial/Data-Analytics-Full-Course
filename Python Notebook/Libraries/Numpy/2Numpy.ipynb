{
 "cells": [
  {
   "cell_type": "markdown",
   "id": "47328795",
   "metadata": {},
   "source": [
    "\n",
    "# 1.1 Introduction to NumPy\n",
    "\n",
    "👋 Hey there, aspiring data scientist and programmer\\! Are you ready to dive into the exciting world of numerical computing? Today, we're embarking on an awesome journey to explore **NumPy**, one of the most fundamental and powerful libraries in the Python ecosystem.\n",
    "\n",
    "NumPy is like the superhero of numbers in Python, and by the end of this notebook, you'll understand why it's so incredibly important for anyone working with data\\! 📊\n",
    "\n",
    "-----\n",
    "\n",
    "## 📚 Table of Contents\n",
    "\n",
    "  * **1.1 Introduction to NumPy**\n",
    "      * 1.1.1 What is NumPy? Why is it Important?\n",
    "      * 1.1.2 NumPy vs. Python Lists: A Showdown\\!\n",
    "      * 1.1.3 How is NumPy So Fast? The Secret Sauce\\! 🚀\n",
    "      * 1.1.4 Installing NumPy: Getting Started\\!\n"
   ]
  },
  {
   "cell_type": "markdown",
   "id": "b1a6f78a",
   "metadata": {},
   "source": [
    "\n",
    "-----\n",
    "\n",
    "### 1.1.1 What is NumPy? Why is it Important? 🤔\n",
    "\n",
    "NumPy, short for **Numerical Python**, is a core library for scientific computing in Python. It provides a high-performance multidimensional array object, and tools for working with these arrays. Think of it as a super-efficient way to store and manipulate large collections of numbers.\n",
    "\n",
    "**Why is it so important?**\n",
    "\n",
    "  * **Foundation of Data Science:** Almost every other scientific or data science library in Python (like Pandas, SciPy, Scikit-learn) is built on top of NumPy. If you understand NumPy, you're building a strong foundation for your data science journey\\! 🏗️\n",
    "  * **Speed & Efficiency:** When you're dealing with millions or billions of data points, standard Python lists just don't cut it. NumPy is incredibly fast and memory-efficient, making it ideal for large-scale numerical operations. We'll explore *why* it's so fast in a bit\\! 💨\n",
    "  * **Powerful Operations:** NumPy provides a vast collection of high-level mathematical functions to operate on these arrays, from basic arithmetic to complex linear algebra and Fourier transforms. It's like having a super calculator for your data\\! ➕➖✖️➗\n"
   ]
  },
  {
   "cell_type": "markdown",
   "id": "ee24f14c",
   "metadata": {},
   "source": [
    "\n",
    "-----\n",
    "\n",
    "### 1.1.2 NumPy vs. Python Lists: A Showdown\\! 🥊\n",
    "\n",
    "You might be thinking, \"I already know about Python lists, why do I need NumPy arrays?\" Great question\\! Let's see how they stack up against each other.\n",
    "\n",
    "Imagine you want to perform the same operation (like adding 5 to every number) on a large collection of numbers.\n",
    "\n",
    "**Python Lists:**\n"
   ]
  },
  {
   "cell_type": "code",
   "execution_count": 1,
   "id": "48d77d94",
   "metadata": {},
   "outputs": [
    {
     "name": "stdout",
     "output_type": "stream",
     "text": [
      "[6, 7, 8, 9, 10]\n"
     ]
    }
   ],
   "source": [
    "# Python List Example\n",
    "my_python_list = [1, 2, 3, 4, 5]\n",
    "new_list = []\n",
    "for number in my_python_list:\n",
    "    new_list.append(number + 5)\n",
    "print(new_list)"
   ]
  },
  {
   "cell_type": "markdown",
   "id": "602bf69a",
   "metadata": {},
   "source": [
    "\n",
    "**`NumPy Arrays:`**\n"
   ]
  },
  {
   "cell_type": "code",
   "execution_count": 2,
   "id": "19d34f1d",
   "metadata": {},
   "outputs": [
    {
     "name": "stdout",
     "output_type": "stream",
     "text": [
      "[ 6  7  8  9 10]\n"
     ]
    }
   ],
   "source": [
    "# NumPy Array Example (don't worry if this syntax is new, we'll cover it soon!)\n",
    "import numpy as np # This is how we usually import NumPy\n",
    "\n",
    "my_numpy_array = np.array([1, 2, 3, 4, 5])\n",
    "new_array = my_numpy_array + 5\n",
    "print(new_array)"
   ]
  },
  {
   "cell_type": "markdown",
   "id": "e16e3c6e",
   "metadata": {},
   "source": [
    "Notice the difference? With NumPy, we can perform operations on the *entire array* directly, without needing to loop through each element. This is called **vectorization**, and it's a huge reason for NumPy's speed\\! 🚀"
   ]
  },
  {
   "cell_type": "markdown",
   "id": "7c90215e",
   "metadata": {},
   "source": [
    "\n",
    "-----\n",
    "\n",
    "### 1.1.3 How is NumPy So Fast? The Secret Sauce\\! 🚀\n",
    "\n",
    "This is where NumPy truly shines\\! There are a few key reasons why NumPy arrays are significantly faster and more memory-efficient than standard Python lists:\n",
    "\n",
    "1.  **Fixed Data Type:** NumPy arrays are designed to hold elements of a *single, uniform data type*. For example, an array might only contain integers, or only floating-point numbers. Python lists, on the other hand, can hold elements of different data types (e.g., an integer, a string, and a float all in the same list).\n",
    "      * **Pro Tip:** Because NumPy knows all elements are the same type, it can optimize memory storage and operations. Python lists need to store type information for *each* element, which takes up more space and slows things down.\n",
    "2.  **C-level Implementation:** The core of NumPy is actually written in C and Fortran, which are much faster programming languages than Python. When you perform an operation on a NumPy array, the heavy lifting is done by these highly optimized C routines, not by slower Python loops.\n",
    "      * **Think of it like this:** Python is great for telling *what* to do, but for the actual \"heavy lifting\" of calculations, NumPy hands it over to its super-fast C-coded engine\\! 🏎️\n",
    "3.  **Contiguous Memory Allocation:** NumPy arrays store their elements in a contiguous (back-to-back) block of memory. This allows for more efficient access to elements and makes it easier for processors to work with the data. Python lists, however, store pointers to elements that can be scattered across memory.\n",
    "      * **Common Pitfall:** Trying to use Python lists for large-scale numerical computations will often lead to slow performance and high memory consumption. Always consider NumPy for numerical data\\!\n"
   ]
  },
  {
   "cell_type": "markdown",
   "id": "67459525",
   "metadata": {},
   "source": [
    "\n",
    "-----\n",
    "\n",
    "### 1.1.4 Installing NumPy: Getting Started\\! 💻\n",
    "\n",
    "Before we can unleash the power of NumPy, we need to install it\\! Luckily, it's super easy.\n",
    "\n",
    "If you have Anaconda (a popular Python distribution for data science), NumPy comes pre-installed, so you might not need to do anything\\! 👍\n",
    "\n",
    "If you don't have Anaconda or want to install it separately, you can use `pip`, the Python package installer.\n",
    "\n",
    "Open your terminal or command prompt (not within this Jupyter Notebook, but your system's terminal) and run the following command:\n",
    "\n",
    "```bash\n",
    "pip install numpy\n",
    "```\n",
    "\n",
    "It's that simple\\! Once it's installed, you can start using it in your Python scripts and Jupyter Notebooks by importing it:\n",
    "\n",
    "```python\n",
    "import numpy as np\n",
    "```\n",
    "\n",
    "The `as np` part is a common convention (a widely accepted shorthand) in the Python community. It just means we can now refer to NumPy functions using `np.` instead of `numpy.`, which saves us some typing\\! ⌨️"
   ]
  },
  {
   "cell_type": "markdown",
   "id": "b2237881",
   "metadata": {},
   "source": [
    "\n",
    "-----\n",
    "\n",
    "### ❓ Quick Quiz\\!\n",
    "\n",
    "To check your understanding, answer these quick questions\\!\n",
    "\n",
    "1.  What does NumPy stand for?\n",
    "2.  Name one key reason why NumPy is faster than standard Python lists for numerical operations.\n",
    "3.  What is the common alias used when importing NumPy?\n",
    "\n",
    "**Think about your answers, and we'll reveal them in the next section\\!** 😉\n",
    "\n",
    "-----\n",
    "\n",
    "### 💡 Pro Tips\\!\n",
    "\n",
    "  * **Always import NumPy as `np`**: This is the standard, and it makes your code more readable and consistent with what others expect.\n",
    "  * **Don't reinvent the wheel**: Before writing complex loops for numerical tasks, check if NumPy already has a vectorized function for it. Chances are, it does, and it will be much faster\\!\n",
    "  * **Start small**: When experimenting with new NumPy concepts, begin with small arrays to easily visualize the results.\n",
    "\n",
    "-----\n",
    "\n",
    "That's it for our first deep dive into NumPy\\! You've learned what it is, why it's a game-changer, how it outperforms Python lists, and how to get it set up. Next up, we'll start getting our hands dirty with creating and manipulating NumPy arrays\\! Stay tuned\\! 🤩"
   ]
  },
  {
   "cell_type": "markdown",
   "id": "31aad28e",
   "metadata": {},
   "source": [
    "\n",
    "----\n",
    "\n",
    "# 1.2 NumPy Arrays (`ndarray`)\n",
    "\n",
    "Welcome back, data explorer\\! Now that we know *why* NumPy is awesome, let's learn about its core component: the **NumPy Array**, also known as `ndarray` (N-dimensional array). This is the fundamental building block for all numerical operations in NumPy. Think of it as a grid or a table of numbers\\! 📊\n",
    "\n",
    "\n",
    "## 📚 Table of Contents\n",
    "\n",
    "  * **1.2 NumPy Arrays (ndarray)**\n",
    "      * 1.2.1 Creating 1D Arrays: `np.array()`, `np.zeros()`, `np.ones()`, `np.empty()`, `np.arange()`, `np.linspace()`\n",
    "      * 1.2.2 Creating 2D Arrays: Nested lists, `np.zeros((rows, cols))`, `np.ones((rows, cols))`\n",
    "      * 1.2.3 Creating Higher-Dimensional Arrays\n",
    "      * 1.2.4 Data Types (`dtype`): Understanding and Specifying\n",
    "      * 1.2.5 Array Attributes: `shape`, `ndim`, `size`, `dtype`, `itemsize`, `nbytes`"
   ]
  },
  {
   "cell_type": "markdown",
   "id": "339f9d3d",
   "metadata": {},
   "source": [
    "\n",
    "-----\n",
    "\n",
    "\n",
    "### 1.2.1 Creating 1D Arrays: Your First Steps\\! 🚶‍♀️\n",
    "\n",
    "A 1D array is like a single row or column of numbers – similar to a simple list of values. Let's explore various ways to create them\\!\n",
    "\n",
    "#### 🔸 `np.array()`: From Python Lists to NumPy Power\\!\n",
    "\n",
    "This is your go-to function for converting existing Python lists (or tuples) into NumPy arrays.\n"
   ]
  },
  {
   "cell_type": "code",
   "execution_count": 2,
   "id": "5ed33375",
   "metadata": {},
   "outputs": [
    {
     "name": "stdout",
     "output_type": "stream",
     "text": [
      "[10 20 30 40 50]\n",
      "<class 'numpy.ndarray'>\n"
     ]
    }
   ],
   "source": [
    "import numpy as np # Don't forget to import!\n",
    "\n",
    "# Creating a 1D array from a list\n",
    "my_list = [10, 20, 30, 40, 50]\n",
    "my_1d_array = np.array(my_list)\n",
    "print(my_1d_array)\n",
    "print(type(my_1d_array)) # See, it's a numpy.ndarray!"
   ]
  },
  {
   "cell_type": "markdown",
   "id": "1755e5d0",
   "metadata": {},
   "source": [
    "\n",
    "#### 🔸 `np.zeros()`: All Zeros, All Good\\! 📏\n",
    "\n",
    "Need an array filled with zeros? `np.zeros()` is your friend\\! You just tell it how many elements you want.\n"
   ]
  },
  {
   "cell_type": "code",
   "execution_count": 4,
   "id": "c3010864",
   "metadata": {},
   "outputs": [
    {
     "name": "stdout",
     "output_type": "stream",
     "text": [
      "[0. 0. 0. 0. 0.]\n"
     ]
    }
   ],
   "source": [
    "# Creating a 1D array of 5 zeros\n",
    "zeros_array = np.zeros(5)\n",
    "print(zeros_array)"
   ]
  },
  {
   "cell_type": "markdown",
   "id": "a705ea18",
   "metadata": {},
   "source": [
    "\n",
    "**💡 Pro Tip:** Notice how `np.zeros()` automatically creates floating-point numbers (e.g., `0.`)? This is the default data type for these functions, but you can change it, which we'll see soon\\!"
   ]
  },
  {
   "cell_type": "markdown",
   "id": "20e3ed9f",
   "metadata": {},
   "source": [
    "\n",
    "#### 🔸 `np.ones()`: Ready for Action with Ones\\! 🔢\n",
    "\n",
    "Similar to `np.zeros()`, but this time, your array will be filled with ones\\!\n"
   ]
  },
  {
   "cell_type": "code",
   "execution_count": 5,
   "id": "efc6e6bc",
   "metadata": {},
   "outputs": [
    {
     "name": "stdout",
     "output_type": "stream",
     "text": [
      "[1. 1. 1. 1. 1. 1. 1.]\n"
     ]
    }
   ],
   "source": [
    "# Creating a 1D array of 7 ones\n",
    "ones_array = np.ones(7)\n",
    "print(ones_array)"
   ]
  },
  {
   "cell_type": "markdown",
   "id": "177c67a9",
   "metadata": {},
   "source": [
    "\n",
    "#### 🔸 `np.empty()`: Fast, but Be Careful\\! 🚧\n",
    "\n",
    "`np.empty()` creates an array without initializing its elements to any specific value. This means it will contain whatever random values were already in that memory location. It's faster than `zeros` or `ones` if you immediately plan to fill the array yourself, but otherwise, it can lead to unexpected results\\!\n"
   ]
  },
  {
   "cell_type": "code",
   "execution_count": 5,
   "id": "2e3e1640",
   "metadata": {},
   "outputs": [
    {
     "name": "stdout",
     "output_type": "stream",
     "text": [
      "[0. 0. 0. 0. 0.]\n"
     ]
    }
   ],
   "source": [
    "# Creating an empty 1D array of size 4\n",
    "# The values here will be random \"garbage\" from memory!\n",
    "empty_array = np.empty(5)\n",
    "print(empty_array)"
   ]
  },
  {
   "cell_type": "markdown",
   "id": "d06db95b",
   "metadata": {},
   "source": [
    "\n",
    "**Common Pitfall:** Never rely on the initial values of an array created with `np.empty()`. Always fill it with your own data immediately\\!\n",
    "\n",
    "#### 🔸 `np.arange()`: Your Range-Generating Buddy\\! ➡️\n",
    "\n",
    "This function is very similar to Python's built-in `range()` function, but it returns a NumPy array. It generates evenly spaced values within a given interval.\n"
   ]
  },
  {
   "cell_type": "code",
   "execution_count": 7,
   "id": "010d75c3",
   "metadata": {},
   "outputs": [
    {
     "name": "stdout",
     "output_type": "stream",
     "text": [
      "[0 1 2 3 4 5 6 7 8 9]\n",
      "[ 5  6  7  8  9 10 11 12 13 14]\n",
      "[0 2 4 6 8]\n"
     ]
    }
   ],
   "source": [
    "# Create an array from 0 up to (but not including) 10\n",
    "range_array_1 = np.arange(10)\n",
    "print(range_array_1)\n",
    "\n",
    "# Create an array from 5 up to (but not including) 15\n",
    "range_array_2 = np.arange(5, 15)\n",
    "print(range_array_2)\n",
    "\n",
    "# Create an array from 0 up to (but not including) 10, with a step of 2\n",
    "range_array_3 = np.arange(0, 10, 2)\n",
    "print(range_array_3)"
   ]
  },
  {
   "cell_type": "markdown",
   "id": "af53d66b",
   "metadata": {},
   "source": [
    "\n",
    "#### 🔸 `np.linspace()`: Evenly Spaced, Precisely\\! ✨\n",
    "\n",
    "`np.linspace()` is incredibly useful when you need a specific number of evenly spaced values over a defined interval. Instead of a step size, you specify the number of elements you want.\n"
   ]
  },
  {
   "cell_type": "code",
   "execution_count": 8,
   "id": "da9dad39",
   "metadata": {},
   "outputs": [
    {
     "name": "stdout",
     "output_type": "stream",
     "text": [
      "[ 0.   2.5  5.   7.5 10. ]\n",
      "[1.         1.11111111 1.22222222 1.33333333 1.44444444 1.55555556\n",
      " 1.66666667 1.77777778 1.88888889 2.        ]\n"
     ]
    }
   ],
   "source": [
    "# Create 5 evenly spaced numbers between 0 and 10 (inclusive)\n",
    "linspace_array_1 = np.linspace(0, 10, 5)\n",
    "print(linspace_array_1)\n",
    "\n",
    "# Create 10 evenly spaced numbers between 1 and 2, including 1 and 2\n",
    "linspace_array_2 = np.linspace(1, 2, 10)\n",
    "print(linspace_array_2)"
   ]
  },
  {
   "cell_type": "markdown",
   "id": "608d0884",
   "metadata": {},
   "source": [
    "### 1.2.2 Creating 2D Arrays: Rows and Columns\\! 🧩\n",
    "\n",
    "A 2D array is like a table or a matrix, with rows and columns. This is super common for representing tabular data or images (where pixels have rows and columns).\n",
    "\n",
    "#### 🔸 Nested Lists: From Table to Array\\!\n",
    "\n",
    "You can create a 2D array by passing a list of lists to `np.array()`. Each inner list represents a row.\n"
   ]
  },
  {
   "cell_type": "code",
   "execution_count": 9,
   "id": "85c20ce2",
   "metadata": {},
   "outputs": [
    {
     "name": "stdout",
     "output_type": "stream",
     "text": [
      "[[1 2 3]\n",
      " [4 5 6]]\n"
     ]
    }
   ],
   "source": [
    "# Creating a 2D array from a nested list (2 rows, 3 columns)\n",
    "matrix_list = [[1, 2, 3],\n",
    "               [4, 5, 6]]\n",
    "my_2d_array = np.array(matrix_list)\n",
    "print(my_2d_array)"
   ]
  },
  {
   "cell_type": "markdown",
   "id": "75ef11bc",
   "metadata": {},
   "source": [
    "\n",
    "#### 🔸 `np.zeros((rows, cols))`: Empty Grids of Zeros\n",
    "\n",
    "When creating arrays with specific dimensions (like 2D or higher), you pass a tuple representing the `(rows, columns)` or `(depth, rows, columns)` etc.\n"
   ]
  },
  {
   "cell_type": "code",
   "execution_count": 7,
   "id": "abed70e4",
   "metadata": {},
   "outputs": [
    {
     "name": "stdout",
     "output_type": "stream",
     "text": [
      "[[0. 0. 0. 0.]\n",
      " [0. 0. 0. 0.]]\n"
     ]
    }
   ],
   "source": [
    "# Create a 2x4 array filled with zeros (2 rows, 4 columns)\n",
    "zeros_2d = np.zeros((2, 4))\n",
    "print(zeros_2d)"
   ]
  },
  {
   "cell_type": "markdown",
   "id": "cc65db4b",
   "metadata": {},
   "source": [
    "#### 🔸 `np.ones((rows, cols))`: Grids of Ones\n",
    "\n",
    "Similarly, for ones:"
   ]
  },
  {
   "cell_type": "code",
   "execution_count": 11,
   "id": "42779588",
   "metadata": {},
   "outputs": [
    {
     "name": "stdout",
     "output_type": "stream",
     "text": [
      "[[1. 1. 1.]\n",
      " [1. 1. 1.]\n",
      " [1. 1. 1.]]\n"
     ]
    }
   ],
   "source": [
    "# Create a 3x3 array filled with ones (3 rows, 3 columns)\n",
    "ones_2d = np.ones((3, 3))\n",
    "print(ones_2d)"
   ]
  },
  {
   "cell_type": "markdown",
   "id": "e62d3920",
   "metadata": {},
   "source": [
    "\n",
    "### 1.2.3 Creating Higher-Dimensional Arrays: Beyond 2D\\! 🤯\n",
    "\n",
    "NumPy arrays can have any number of dimensions\\! While 1D (vectors) and 2D (matrices) are the most common, you might encounter 3D arrays (like color images with Red, Green, Blue channels, or video frames) or even higher dimensions in advanced applications.\n",
    "\n",
    "The principle remains the same: you pass a tuple of dimensions.\n"
   ]
  },
  {
   "cell_type": "code",
   "execution_count": 12,
   "id": "e4cd039c",
   "metadata": {},
   "outputs": [
    {
     "name": "stdout",
     "output_type": "stream",
     "text": [
      "[[[0. 0. 0. 0.]\n",
      "  [0. 0. 0. 0.]\n",
      "  [0. 0. 0. 0.]]\n",
      "\n",
      " [[0. 0. 0. 0.]\n",
      "  [0. 0. 0. 0.]\n",
      "  [0. 0. 0. 0.]]]\n",
      "[[[1 2]\n",
      "  [3 4]]\n",
      "\n",
      " [[5 6]\n",
      "  [7 8]]]\n"
     ]
    }
   ],
   "source": [
    "# Creating a 3D array (2 \"sheets\", each 3 rows by 4 columns)\n",
    "# Think of it as a stack of 2D arrays\n",
    "three_d_array = np.zeros((2, 3, 4))\n",
    "print(three_d_array)\n",
    "\n",
    "# You can also create them from nested lists:\n",
    "# A list of 2D lists, where each 2D list is a \"slice\" of the 3D array\n",
    "my_3d_data = [\n",
    "    [[1, 2], [3, 4]],\n",
    "    [[5, 6], [7, 8]]\n",
    "]\n",
    "complex_3d_array = np.array(my_3d_data)\n",
    "print(complex_3d_array)"
   ]
  },
  {
   "cell_type": "markdown",
   "id": "2836f899",
   "metadata": {},
   "source": [
    "\n",
    "---\n",
    "\n",
    "**❓ Mini-Challenge\\!**\n",
    "- Try creating a 1D array of 6 numbers ranging from 0 to 5 using `np.arange()`.\n",
    "- Then, try creating a 4x2 array filled with ones.\n"
   ]
  },
  {
   "cell_type": "code",
   "execution_count": 10,
   "id": "9a972cdd",
   "metadata": {},
   "outputs": [
    {
     "name": "stdout",
     "output_type": "stream",
     "text": [
      "[0 1 2 3 4 5]\n",
      "[[1. 1.]\n",
      " [1. 1.]\n",
      " [1. 1.]\n",
      " [1. 1.]]\n"
     ]
    }
   ],
   "source": [
    "# Your code for Mini-Challenge here!\n",
    "# Challenge 1: Create a 1D array of 6 numbers from 0 to 5 using np.arange()\n",
    "array = np.arange(0, 6)\n",
    "print(array)\n",
    "# Challenge 2: Create a 4x2 array filled with ones\n",
    "array_2nd = np.ones((4,2))\n",
    "print(array_2nd)"
   ]
  },
  {
   "cell_type": "markdown",
   "id": "19b9275c",
   "metadata": {},
   "source": [
    "\n",
    "-----\n",
    "\n",
    "### 1.2.4 Data Types (`dtype`): Understanding and Specifying 🔢\n",
    "\n",
    "Remember how NumPy arrays are fast because they have a fixed data type? This is controlled by the `dtype` (data type) attribute. When you create an array, NumPy tries to guess the most appropriate data type based on the values you provide. However, you can explicitly specify it\\!\n",
    "\n",
    "Common NumPy data types:\n",
    "\n",
    "  * `int`: Integers (e.g., `int32`, `int64`)\n",
    "  * `float`: Floating-point numbers (e.g., `float32`, `float64`)\n",
    "  * `bool`: Boolean values (`True`/`False`)\n",
    "  * `str` or `U`: Strings\n",
    "  * `complex`: Complex numbers\n",
    "\n",
    "<!-- end list -->\n"
   ]
  },
  {
   "cell_type": "code",
   "execution_count": 11,
   "id": "350f30e4",
   "metadata": {},
   "outputs": [
    {
     "name": "stdout",
     "output_type": "stream",
     "text": [
      "int64\n",
      "float64\n",
      "[1. 2. 3.]\n",
      "float64\n",
      "[ True False  True]\n",
      "bool\n",
      "[[0 0]\n",
      " [0 0]]\n",
      "int32\n"
     ]
    }
   ],
   "source": [
    "# Default dtype (NumPy infers it)\n",
    "int_array = np.array([1, 2, 3])\n",
    "print(int_array.dtype)\n",
    "\n",
    "float_array = np.array([1.0, 2.5, 3.0])\n",
    "print(float_array.dtype)\n",
    "\n",
    "# Specifying dtype explicitly\n",
    "explicit_float_array = np.array([1, 2, 3], dtype=np.float64)\n",
    "print(explicit_float_array)\n",
    "print(explicit_float_array.dtype)\n",
    "\n",
    "# Creating an array of booleans\n",
    "bool_array = np.array([True, False, True])\n",
    "print(bool_array)\n",
    "print(bool_array.dtype)\n",
    "\n",
    "# Using dtype with zeros/ones\n",
    "int_zeros = np.zeros((2, 2), dtype=np.int32)\n",
    "print(int_zeros)\n",
    "print(int_zeros.dtype)"
   ]
  },
  {
   "cell_type": "markdown",
   "id": "fb6c806f",
   "metadata": {},
   "source": [
    "**💡 Pro Tip:** Choosing the right `dtype` can save a lot of memory, especially with very large arrays. For example, if you know your numbers will never exceed 255, `np.uint8` (unsigned 8-bit integer) is much more efficient than `np.int64`.\n"
   ]
  },
  {
   "cell_type": "markdown",
   "id": "8ce3c744",
   "metadata": {},
   "source": [
    "\n",
    "-----\n",
    "\n",
    "### 1.2.5 Array Attributes: Getting to Know Your Array\\! 🧐\n",
    "\n",
    "NumPy arrays come with several useful attributes that tell you important things about their structure and content. Let's explore the most common ones:\n",
    "\n",
    "#### 🔸 `shape`: The Dimensions\\!\n",
    "\n",
    "This attribute returns a tuple indicating the size of the array in each dimension. It's super helpful for understanding the layout of your data.\n"
   ]
  },
  {
   "cell_type": "code",
   "execution_count": 14,
   "id": "383e3c4d",
   "metadata": {},
   "outputs": [
    {
     "name": "stdout",
     "output_type": "stream",
     "text": [
      "Array:\n",
      " [[1 2 3]\n",
      " [4 5 6]\n",
      " [7 8 9]]\n",
      "Shape: (3, 3)\n",
      "\n",
      "Another Array:\n",
      " [[0. 0. 0. 0. 0.]\n",
      " [0. 0. 0. 0. 0.]]\n",
      "Shape: (2, 5)\n",
      "\n",
      "1D Array:\n",
      " [0 1 2 3 4]\n",
      "Shape: (5,)\n"
     ]
    }
   ],
   "source": [
    "my_array = np.array([[1, 2, 3],\n",
    "                     [4, 5, 6],\n",
    "                     [7, 8, 9]])\n",
    "print(\"Array:\\n\", my_array)\n",
    "print(\"Shape:\", my_array.shape) # Output: (3, 3) -> 3 rows, 3 columns\n",
    "\n",
    "another_array = np.zeros((2, 5))\n",
    "print(\"\\nAnother Array:\\n\", another_array)\n",
    "print(\"Shape:\", another_array.shape) # Output: (2, 5) -> 2 rows, 5 columns\n",
    "\n",
    "one_d_array = np.arange(5)\n",
    "print(\"\\n1D Array:\\n\", one_d_array)\n",
    "print(\"Shape:\", one_d_array.shape) # Output: (5,) -> a tuple with one element"
   ]
  },
  {
   "cell_type": "markdown",
   "id": "9cb01ec2",
   "metadata": {},
   "source": [
    "\n",
    "#### 🔸 `ndim`: How Many Dimensions?\n",
    "\n",
    "This attribute tells you the number of dimensions (or axes) of the array.\n"
   ]
  },
  {
   "cell_type": "code",
   "execution_count": 15,
   "id": "a730172d",
   "metadata": {},
   "outputs": [
    {
     "name": "stdout",
     "output_type": "stream",
     "text": [
      "Dimensions of my_array: 2\n",
      "Dimensions of one_d_array: 1\n",
      "Dimensions of 3D example: 3\n"
     ]
    }
   ],
   "source": [
    "print(\"Dimensions of my_array:\", my_array.ndim) # Output: 2\n",
    "print(\"Dimensions of one_d_array:\", one_d_array.ndim) # Output: 1\n",
    "\n",
    "three_d_example = np.ones((2, 3, 4))\n",
    "print(\"Dimensions of 3D example:\", three_d_example.ndim) # Output: 3"
   ]
  },
  {
   "cell_type": "markdown",
   "id": "e3979c81",
   "metadata": {},
   "source": [
    "\n",
    "#### 🔸 `size`: Total Number of Elements\\!\n",
    "\n",
    "This attribute gives you the total number of elements in the array. It's simply the product of the elements in `shape`.\n"
   ]
  },
  {
   "cell_type": "code",
   "execution_count": 16,
   "id": "8ebf8c38",
   "metadata": {},
   "outputs": [
    {
     "name": "stdout",
     "output_type": "stream",
     "text": [
      "Total elements in my_array: 9\n",
      "Total elements in zeros_2d: 8\n",
      "Total elements in one_d_array: 5\n"
     ]
    }
   ],
   "source": [
    "print(\"Total elements in my_array:\", my_array.size) # Output: 3 * 3 = 9\n",
    "print(\"Total elements in zeros_2d:\", zeros_2d.size) # Output: 2 * 4 = 8\n",
    "print(\"Total elements in one_d_array:\", one_d_array.size) # Output: 5"
   ]
  },
  {
   "cell_type": "markdown",
   "id": "41d9d8f5",
   "metadata": {},
   "source": [
    "\n",
    "#### 🔸 `dtype`: What's Inside?\n",
    "\n",
    "We just covered this\\! It tells you the data type of the elements in the array.\n"
   ]
  },
  {
   "cell_type": "code",
   "execution_count": 17,
   "id": "c61b623d",
   "metadata": {},
   "outputs": [
    {
     "name": "stdout",
     "output_type": "stream",
     "text": [
      "Data type of my_array: int64\n",
      "Data type of linspace_array_1: float64\n"
     ]
    }
   ],
   "source": [
    "print(\"Data type of my_array:\", my_array.dtype) # Output: int64 (or int32 depending on your system)\n",
    "print(\"Data type of linspace_array_1:\", linspace_array_1.dtype) # Output: float64"
   ]
  },
  {
   "cell_type": "markdown",
   "id": "b8081e1f",
   "metadata": {},
   "source": [
    "\n",
    "#### 🔸 `itemsize`: Memory Footprint per Element\\!\n",
    "\n",
    "This attribute tells you the size in bytes of each element in the array.\n"
   ]
  },
  {
   "cell_type": "code",
   "execution_count": null,
   "id": "7f2e812c",
   "metadata": {},
   "outputs": [
    {
     "name": "stdout",
     "output_type": "stream",
     "text": [
      "Item size of int_array (bytes per element): 8\n",
      "Item size of float_array (bytes per element): 8\n",
      "[[1. 1.]\n",
      " [1. 1.]] 8\n"
     ]
    }
   ],
   "source": [
    "print(\"Item size of int_array (bytes per element):\", int_array.itemsize) # Typically 4 bytes for int32, 8 bytes for int64\n",
    "print(\"Item size of float_array (bytes per element):\", float_array.itemsize) # Typically 8 bytes for float64"
   ]
  },
  {
   "cell_type": "markdown",
   "id": "decd5636",
   "metadata": {},
   "source": [
    "\n",
    "**Why is this important?** If you have an array with millions of elements, knowing the `itemsize` helps you understand its memory usage.\n",
    "\n",
    "#### 🔸 `nbytes`: Total Memory Usage\\!\n",
    "\n",
    "This attribute gives you the total bytes consumed by the array's data. It's simply `size * itemsize`.\n"
   ]
  },
  {
   "cell_type": "code",
   "execution_count": 19,
   "id": "5c4813bb",
   "metadata": {},
   "outputs": [
    {
     "name": "stdout",
     "output_type": "stream",
     "text": [
      "Total bytes for my_array: 72\n",
      "Total bytes for float_array: 24\n"
     ]
    }
   ],
   "source": [
    "print(\"Total bytes for my_array:\", my_array.nbytes)\n",
    "# For my_array (3x3 int64, 8 bytes/item): 9 elements * 8 bytes/element = 72 bytes\n",
    "print(\"Total bytes for float_array:\", float_array.nbytes)\n",
    "# For float_array (3 float64, 8 bytes/item): 3 elements * 8 bytes/element = 24 bytes"
   ]
  },
  {
   "cell_type": "markdown",
   "id": "5b804125",
   "metadata": {},
   "source": [
    "**💡 Pro Tip:** Understanding `dtype`, `itemsize`, and `nbytes` is crucial for optimizing memory usage, especially when working with very large datasets that might not fit entirely in your computer's RAM."
   ]
  },
  {
   "cell_type": "markdown",
   "id": "8fea5574",
   "metadata": {},
   "source": [
    "\n",
    "-----\n",
    "\n",
    "### 🎯 Real-World Mini-Project: Temperature Data\\!\n",
    "\n",
    "Imagine you are a budding meteorologist, and you've collected some temperature data. Let's use what we've learned to represent it\\!\n",
    "\n",
    "**Challenge:**\n",
    "\n",
    "1.  Create a 1D NumPy array called `daily_temperatures` representing the average temperature for 7 days (e.g., `[25.5, 26.1, 24.9, 27.0, 23.8, 25.0, 26.5]`). Ensure it's stored as floating-point numbers.\n",
    "2.  Imagine you have temperature data for two cities over 3 days. Create a 2D NumPy array called `city_temps` where each row represents a city and each column represents a day's temperature. (e.g., City A: [20, 22, 19], City B: [25, 26, 24]).\n",
    "3.  For `city_temps`, print its `shape`, `ndim`, `size`, and `dtype`.\n",
    "\n",
    "<!-- end list -->"
   ]
  },
  {
   "cell_type": "code",
   "execution_count": 17,
   "id": "e01881a0",
   "metadata": {},
   "outputs": [
    {
     "name": "stdout",
     "output_type": "stream",
     "text": [
      "[25.5 26.1 24.9 27.  23.8 25.  26.5] float64\n",
      "[[20 22 19]\n",
      " [25 26 24]]\n",
      "\n",
      "DataType of the array: int64 \n",
      "Shape of the array: (2, 3) \n",
      "Dimension of the array: 2 \n",
      "Size of the array: 6\n"
     ]
    }
   ],
   "source": [
    "# Your code for Real-World Mini-Project here!\n",
    "\n",
    "# 1. Create daily_temperatures 1D array\n",
    "temperature = np.array([25.5, 26.1, 24.9, 27.0, 23.8, 25.0, 26.5])\n",
    "print(temperature, temperature.dtype)\n",
    "\n",
    "# 2. Create city_temps 2D array\n",
    "# City A: Day1, Day2, Day2\n",
    "# City B: Day1, Day2, Day2\n",
    "city_temps = np.array([[20,22,19],[25, 26, 24]])\n",
    "print(city_temps)\n",
    "\n",
    "# 3. Print attributes for city_temps\n",
    "print(\"\\nDataType of the array:\" ,city_temps.dtype,\n",
    "      \"\\nShape of the array:\" , city_temps.shape,\n",
    "      \"\\nDimension of the array:\" , city_temps.ndim,\n",
    "      \"\\nSize of the array:\" , city_temps.size)"
   ]
  },
  {
   "cell_type": "markdown",
   "id": "35be5f9c",
   "metadata": {},
   "source": [
    "\n",
    "---\n",
    "\n",
    "# 1.3 Basic Array Operations\n",
    "\n",
    "Now that you're a pro at creating NumPy arrays, let's unleash their true power by performing operations on them\\! This is where NumPy really shines, allowing you to do complex calculations with just a few lines of code, and at lightning speed\\! ⚡\n",
    "\n",
    "## 📚 Table of Contents\n",
    "\n",
    "  * **1.3 Basic Array Operations**\n",
    "      * 1.3.1 Arithmetic Operations: Addition, Subtraction, Multiplication (element-wise), Division\n",
    "      * 1.3.2 Broadcasting: The Rules and How it Works\n",
    "      * 1.3.3 Comparison Operations: `==`, `>`, `<`, `>=`, `<=`, `!=`\n",
    "      * 1.3.4 Logical Operations: `np.logical_and()`, `np.logical_or()`, `np.logical_not()`\n"
   ]
  },
  {
   "cell_type": "markdown",
   "id": "b0f381dc",
   "metadata": {},
   "source": [
    "\n",
    "-----\n",
    "\n",
    "### 1.3.1 Arithmetic Operations: Crunching Numbers\\! ➕➖✖️➗\n",
    "\n",
    "One of NumPy's greatest strengths is its ability to perform **element-wise** operations. This means that when you add, subtract, multiply, or divide two arrays, the operation happens between corresponding elements at the same position.\n",
    "\n",
    "#### Addition `+`\n"
   ]
  },
  {
   "cell_type": "code",
   "execution_count": 20,
   "id": "61f3bb05",
   "metadata": {},
   "outputs": [
    {
     "name": "stdout",
     "output_type": "stream",
     "text": [
      "Sum Array: [11 22 33]\n",
      "Scalar Addition: [15 25 35]\n"
     ]
    }
   ],
   "source": [
    "import numpy as np\n",
    "\n",
    "array1 = np.array([10, 20, 30])\n",
    "array2 = np.array([1, 2, 3])\n",
    "\n",
    "# Element-wise addition\n",
    "sum_array = array1 + array2\n",
    "print(\"Sum Array:\", sum_array)\n",
    "\n",
    "# Adding a scalar (a single number) to an array\n",
    "scalar_addition = array1 + 5\n",
    "print(\"Scalar Addition:\", scalar_addition)"
   ]
  },
  {
   "cell_type": "markdown",
   "id": "f53c30f9",
   "metadata": {},
   "source": [
    "\n",
    "**Explanation:** `10+1=11`, `20+2=22`, `30+3=33`. When adding a scalar, it's like adding `5` to *every single element* in `array1`. Super handy\\!\n",
    "\n",
    "#### Subtraction `-`\n"
   ]
  },
  {
   "cell_type": "code",
   "execution_count": 21,
   "id": "131cbb18",
   "metadata": {},
   "outputs": [
    {
     "name": "stdout",
     "output_type": "stream",
     "text": [
      "Difference Array: [ 9 18 27]\n",
      "Scalar Subtraction: [ 5 15 25]\n"
     ]
    }
   ],
   "source": [
    "# Element-wise subtraction\n",
    "diff_array = array1 - array2\n",
    "print(\"Difference Array:\", diff_array)\n",
    "\n",
    "# Subtracting a scalar\n",
    "scalar_subtraction = array1 - 5\n",
    "print(\"Scalar Subtraction:\", scalar_subtraction)"
   ]
  },
  {
   "cell_type": "markdown",
   "id": "cd2b07bd",
   "metadata": {},
   "source": [
    "\n",
    "#### Multiplication `*` (Element-wise\\!)\n",
    "\n",
    "**Important Note:** In NumPy, the `*` operator performs **element-wise multiplication**, not matrix multiplication. We'll cover matrix multiplication (`@` or `np.dot()`) later\\!\n"
   ]
  },
  {
   "cell_type": "code",
   "execution_count": 22,
   "id": "f796dd30",
   "metadata": {},
   "outputs": [
    {
     "name": "stdout",
     "output_type": "stream",
     "text": [
      "Product Array: [10 40 90]\n",
      "Scalar Multiplication: [20 40 60]\n"
     ]
    }
   ],
   "source": [
    "# Element-wise multiplication\n",
    "prod_array = array1 * array2\n",
    "print(\"Product Array:\", prod_array)\n",
    "\n",
    "# Multiplying by a scalar\n",
    "scalar_multiplication = array1 * 2\n",
    "print(\"Scalar Multiplication:\", scalar_multiplication)"
   ]
  },
  {
   "cell_type": "markdown",
   "id": "102790a3",
   "metadata": {},
   "source": [
    "\n",
    "**Common Pitfall:** If you're coming from a math background expecting matrix multiplication with `*`, remember that NumPy uses `*` for element-wise. Always be clear about the type of multiplication you intend\\!\n",
    "\n",
    "#### Division `/`\n"
   ]
  },
  {
   "cell_type": "code",
   "execution_count": 23,
   "id": "58f9d3db",
   "metadata": {},
   "outputs": [
    {
     "name": "stdout",
     "output_type": "stream",
     "text": [
      "Division Array: [10. 10. 10.]\n",
      "Scalar Division: [1. 2. 3.]\n"
     ]
    }
   ],
   "source": [
    "# Element-wise division\n",
    "div_array = array1 / array2\n",
    "print(\"Division Array:\", div_array)\n",
    "\n",
    "# Dividing by a scalar\n",
    "scalar_division = array1 / 10\n",
    "print(\"Scalar Division:\", scalar_division)"
   ]
  },
  {
   "cell_type": "markdown",
   "id": "97eefa1b",
   "metadata": {},
   "source": [
    "**💡 Pro Tip:** These arithmetic operations also work seamlessly with arrays of different dimensions, as long as they satisfy the rules of **broadcasting**, which we'll discuss next\\!\n"
   ]
  },
  {
   "attachments": {
    "numpy-array-broadcast.png": {
     "image/png": "[encoded data removed]"
    }
   },
   "cell_type": "markdown",
   "id": "14dbde57",
   "metadata": {},
   "source": [
    "\n",
    "-----\n",
    "\n",
    "### 1.3.2 Broadcasting: The Magical Stretch\\! ✨\n",
    "\n",
    "Broadcasting is a powerful feature in NumPy that allows arithmetic operations between arrays with different shapes. When the shapes of two arrays are \"compatible,\" NumPy automatically expands the smaller array to match the shape of the larger array without actually creating copies of the data. This saves memory and is very efficient\\!\n",
    "\n",
    "**The Rules of Broadcasting:**\n",
    "\n",
    "Two dimensions are compatible when:\n",
    "\n",
    "1.  They are equal, OR\n",
    "2.  One of them is 1.\n",
    "\n",
    "NumPy compares the shapes of the arrays starting from the **trailing dimensions** (i.e., from right to left). If these rules are met, the operation proceeds. If not, a `ValueError` is raised.\n",
    "\n",
    "Let's see some examples\\!\n",
    "\n",
    "#### Example 1: Scalar and Array (Simplest Broadcasting)\n",
    "\n",
    "We already saw this with arithmetic operations\\! When you add a scalar to an array, the scalar is \"stretched\" or \"broadcast\" across the entire array. Let's visualize it also\n",
    "\n",
    "![numpy-array-broadcast.png](attachment:numpy-array-broadcast.png)\n"
   ]
  },
  {
   "cell_type": "code",
   "execution_count": 25,
   "id": "e228f8d5",
   "metadata": {},
   "outputs": [
    {
     "name": "stdout",
     "output_type": "stream",
     "text": [
      "Scalar Broadcasting Result: [11 12 13]\n"
     ]
    }
   ],
   "source": [
    "array_a = np.array([1, 2, 3])\n",
    "scalar_b = 10\n",
    "\n",
    "result_scalar_broadcast = array_a + scalar_b\n",
    "print(\"Scalar Broadcasting Result:\", result_scalar_broadcast)"
   ]
  },
  {
   "cell_type": "markdown",
   "id": "0585583f",
   "metadata": {},
   "source": [
    "\n",
    "Here, `scalar_b` (shape `()`) is broadcast to match `array_a` (shape `(3,)`).\n",
    "\n",
    "#### Example 2: 1D Array and 2D Array\n",
    "\n",
    "This is a very common scenario\\!\n"
   ]
  },
  {
   "cell_type": "code",
   "execution_count": 26,
   "id": "11565cbf",
   "metadata": {},
   "outputs": [
    {
     "name": "stdout",
     "output_type": "stream",
     "text": [
      "1D Array Broadcast Result:\n",
      " [[11 22 33]\n",
      " [41 52 63]]\n"
     ]
    }
   ],
   "source": [
    "matrix_2d = np.array([[10, 20, 30],\n",
    "                      [40, 50, 60]]) # Shape: (2, 3)\n",
    "\n",
    "row_vector = np.array([1, 2, 3])    # Shape: (3,)\n",
    "\n",
    "# Broadcasting in action!\n",
    "result_broadcast_1 = matrix_2d + row_vector\n",
    "print(\"1D Array Broadcast Result:\\n\", result_broadcast_1)"
   ]
  },
  {
   "cell_type": "markdown",
   "id": "4c83f034",
   "metadata": {},
   "source": [
    "\n",
    "**How it works:**\n",
    "\n",
    "  * `matrix_2d` shape: `(2, 3)`\n",
    "  * `row_vector` shape: `(3,)`\n",
    "  * NumPy compares from right to left:\n",
    "      * Last dimensions: `3` and `3` are equal. (OK\\! ✅)\n",
    "      * Next dimensions (from `matrix_2d`): `2` and `None` (row\\_vector has no second dimension). Since `row_vector` effectively has a dimension of `1` (it can be considered `(1, 3)` for broadcasting purposes, or more formally, its missing dimension is treated as 1), it's compatible. (OK\\! ✅)\n",
    "\n",
    "So, `row_vector` is \"stretched\" down each row of `matrix_2d`. It's like adding `[1, 2, 3]` to the first row, and then *again* to the second row.\n",
    "\n",
    "#### Example 3: When Broadcasting Fails\\! ❌\n",
    "\n",
    "If the shapes are incompatible, you'll get an error.\n"
   ]
  },
  {
   "cell_type": "code",
   "execution_count": null,
   "id": "9f785cd5",
   "metadata": {},
   "outputs": [],
   "source": [
    "matrix_fail = np.array([[1, 2, 3],\n",
    "                        [4, 5, 6]]) # Shape: (2, 3)\n",
    "\n",
    "column_vector_fail = np.array([10, 20]) # Shape: (2,)\n",
    "\n",
    "# This will raise a ValueError because shapes are incompatible\n",
    "# Try uncommenting the line below to see the error!\n",
    "# result_broadcast_fail = matrix_fail + column_vector_fail\n",
    "# print(result_broadcast_fail)"
   ]
  },
  {
   "cell_type": "markdown",
   "id": "e8385a0e",
   "metadata": {},
   "source": [
    "\n",
    "**Why it fails:**\n",
    "\n",
    "  * `matrix_fail` shape: `(2, 3)`\n",
    "  * `column_vector_fail` shape: `(2,)`\n",
    "  * Comparing from right to left:\n",
    "      * Last dimensions: `3` and `2`. They are **not** equal, and neither is `1`. (FAIL\\! 🚫)\n",
    "      * NumPy cannot broadcast these shapes directly. To make it work, you'd typically need to reshape `column_vector_fail` to `(2, 1)` to make it a true column vector for broadcasting. We'll cover reshaping later\\!\n",
    "\n",
    "**💡 Pro Tip:** Broadcasting is fundamental to writing concise and efficient NumPy code. While it might seem a bit tricky at first, practicing with examples will make it intuitive\\! Always think about the dimensions from right to left\\!\n"
   ]
  },
  {
   "cell_type": "markdown",
   "id": "c96d0fb0",
   "metadata": {},
   "source": [
    "\n",
    "-----\n",
    "\n",
    "### 1.3.3 Comparison Operations: Asking Questions About Your Data\\! 🤔\n",
    "\n",
    "Just like arithmetic operations, comparison operators (`==`, `>`, `<`, `>=`, `<=`, `!=`) also work element-wise on NumPy arrays. The result is a **boolean array** (an array filled with `True` or `False` values) of the same shape as the input array(s).\n"
   ]
  },
  {
   "cell_type": "code",
   "execution_count": 29,
   "id": "4c541724",
   "metadata": {},
   "outputs": [
    {
     "name": "stdout",
     "output_type": "stream",
     "text": [
      "Equality (data_a == data_b): [False  True False False False]\n",
      "Greater than (data_a > data_b): [False False  True False False]\n",
      "Less than or equal to 30: [ True  True  True False False]\n",
      "Not equal (data_a != data_b): [ True False  True  True  True]\n"
     ]
    }
   ],
   "source": [
    "data_a = np.array([10, 20, 30, 40, 50])\n",
    "data_b = np.array([15, 20, 25, 45, 55])\n",
    "\n",
    "# Element-wise equality\n",
    "equal_elements = data_a == data_b\n",
    "print(\"Equality (data_a == data_b):\", equal_elements) # Output: [False  True False False False]\n",
    "\n",
    "# Greater than\n",
    "greater_than = data_a > data_b\n",
    "print(\"Greater than (data_a > data_b):\", greater_than) # Output: [False False  True False False]\n",
    "\n",
    "# Less than or equal to (with a scalar)\n",
    "less_than_equal_scalar = data_a <= 30\n",
    "print(\"Less than or equal to 30:\", less_than_equal_scalar) # Output: [ True  True  True False False]\n",
    "\n",
    "# Not equal\n",
    "not_equal = data_a != data_b\n",
    "print(\"Not equal (data_a != data_b):\", not_equal) # Output: [ True False  True  True  True]"
   ]
  },
  {
   "cell_type": "markdown",
   "id": "71537e72",
   "metadata": {},
   "source": [
    "\n",
    "These boolean arrays are incredibly powerful for filtering and selecting data, which we'll explore in detail in the indexing section\\! 🕵️‍♀️"
   ]
  },
  {
   "cell_type": "markdown",
   "id": "cbef6e13",
   "metadata": {},
   "source": [
    "\n",
    "-----\n",
    "\n",
    "### 1.3.4 Logical Operations: Combining Conditions\\! 🤝\n",
    "\n",
    "Sometimes you need to combine multiple comparison conditions. NumPy provides functions for element-wise logical operations: `np.logical_and()`, `np.logical_or()`, and `np.logical_not()`.\n",
    "\n",
    "**Common Pitfall:** Don't use Python's `and`, `or`, `not` keywords directly on NumPy arrays. These are for single boolean values and will raise an error when used with arrays. You **must** use NumPy's `logical` functions.\n",
    "\n",
    "#### `np.logical_and()`: Both Must Be True\\!\n",
    "\n",
    "Returns `True` where both conditions are `True`.\n"
   ]
  },
  {
   "cell_type": "code",
   "execution_count": 21,
   "id": "3f632863",
   "metadata": {},
   "outputs": [
    {
     "name": "stdout",
     "output_type": "stream",
     "text": [
      "Scores > 80: [ True  True False False  True  True]\n",
      "Scores < 90: [ True False  True  True False  True]\n",
      "Scores between 80 and 90: [ True False False False False  True]\n"
     ]
    }
   ],
   "source": [
    "scores = np.array([85, 92, 78, 65, 95, 88])\n",
    "\n",
    "# Condition 1: Score is greater than 80\n",
    "cond1 = scores > 80\n",
    "print(\"Scores > 80:\", cond1)\n",
    "\n",
    "# Condition 2: Score is less than 90\n",
    "cond2 = scores < 90\n",
    "print(\"Scores < 90:\", cond2)\n",
    "\n",
    "# Combine using logical AND: scores between 80 and 90 (exclusive)\n",
    "passing_and_not_too_high = np.logical_and(scores > 80, scores < 90)\n",
    "print(\"Scores between 80 and 90:\", passing_and_not_too_high)"
   ]
  },
  {
   "cell_type": "markdown",
   "id": "712fc50b",
   "metadata": {},
   "source": [
    "\n",
    "#### `np.logical_or()`: At Least One Must Be True\\!\n",
    "\n",
    "Returns `True` where at least one condition is `True`.\n"
   ]
  },
  {
   "cell_type": "code",
   "execution_count": 31,
   "id": "2db80b9a",
   "metadata": {},
   "outputs": [
    {
     "name": "stdout",
     "output_type": "stream",
     "text": [
      "Scores < 70: [False False False  True False False]\n",
      "Scores > 80 OR < 70: [ True  True False  True  True  True]\n"
     ]
    }
   ],
   "source": [
    "# Condition 3: Score is less than 70 (e.g., struggling)\n",
    "cond3 = scores < 70\n",
    "print(\"Scores < 70:\", cond3)\n",
    "\n",
    "# Combine using logical OR: scores > 90 OR scores < 70 (e.g., outliers)\n",
    "high_or_low_scores = np.logical_or(cond1, cond3)\n",
    "print(\"Scores > 80 OR < 70:\", high_or_low_scores)"
   ]
  },
  {
   "cell_type": "markdown",
   "id": "855c51cc",
   "metadata": {},
   "source": [
    "\n",
    "#### `np.logical_not()`: The Opposite\\!\n",
    "\n",
    "Returns `True` where the condition is `False`, and `False` where the condition is `True`.\n"
   ]
  },
  {
   "cell_type": "code",
   "execution_count": 32,
   "id": "cd0e0a4c",
   "metadata": {},
   "outputs": [
    {
     "name": "stdout",
     "output_type": "stream",
     "text": [
      "Scores NOT > 70: [False False False  True False False]\n"
     ]
    }
   ],
   "source": [
    "# Not passing (i.e., score <= 70)\n",
    "not_passing = np.logical_not(scores > 70)\n",
    "print(\"Scores NOT > 70:\", not_passing) # This is equivalent to scores <= 70"
   ]
  },
  {
   "cell_type": "markdown",
   "id": "e39a6e0a",
   "metadata": {},
   "source": [
    "\n",
    "-----\n",
    "\n",
    "### ❓ Quick Quiz\\!\n",
    "\n",
    "1.  If `arr1 = np.array([1, 2, 3])` and `arr2 = np.array([4, 5, 6])`, what will `arr1 * arr2` result in?\n",
    "2.  Explain in your own words what \"broadcasting\" means in NumPy.\n",
    "3.  You have `temperatures = np.array([20, 25, 18, 30, 22])`. How would you get a boolean array indicating which temperatures are strictly greater than 20 AND less than or equal to 25?\n"
   ]
  },
  {
   "cell_type": "code",
   "execution_count": 23,
   "id": "a33abbd9",
   "metadata": {},
   "outputs": [
    {
     "name": "stdout",
     "output_type": "stream",
     "text": [
      "[ 4 10 18]\n",
      "[False  True False False  True]\n"
     ]
    }
   ],
   "source": [
    "arr1 = np.array([1, 2, 3])\n",
    "arr2 = np.array([4, 5, 6])\n",
    "print(arr1 * arr2)\n",
    "\n",
    "temperatures = np.array([20, 25, 18, 30, 22])\n",
    "boolean_array = np.logical_and(temperatures > 20, temperatures <= 25)\n",
    "print(boolean_array)"
   ]
  },
  {
   "cell_type": "markdown",
   "id": "3d18658b",
   "metadata": {},
   "source": [
    "\n",
    "\n",
    "-----\n",
    "\n",
    "### 🎯 Real-World Mini-Project: Sales Data Analysis\\!\n",
    "\n",
    "Imagine you have sales data for a small shop. Let's apply our new knowledge\\!\n",
    "\n",
    "**Challenge:**\n",
    "\n",
    "1.  You have `product_prices = np.array([10.50, 25.00, 5.75, 12.25])` and `quantities_sold = np.array([3, 1, 5, 2])`. Calculate the total revenue for each product element-wise.\n",
    "2.  The shop decides to offer a 10% discount on all products. Create a new array `discounted_prices` by applying this discount to `product_prices` using scalar multiplication and subtraction.\n",
    "3.  Identify which products had a `total_revenue` (from step 1) greater than or equal to `50.00`. Store this as a boolean array called `high_revenue_products`.\n",
    "4.  There's a special bonus if a product's original price (`product_prices`) is under `10.00` **OR** if its `quantities_sold` is more than `3`. Create a boolean array `special_bonus_eligible` to identify these products.\n",
    "\n",
    "<!-- end list -->\n",
    "\n",
    "\n",
    "\n"
   ]
  },
  {
   "cell_type": "code",
   "execution_count": 29,
   "id": "70a89f53",
   "metadata": {},
   "outputs": [
    {
     "name": "stdout",
     "output_type": "stream",
     "text": [
      "Total revenue for each product is  [31.5  25.   28.75 24.5 ]\n",
      "Product prices with 10% discount [ 9.45  22.5    5.175 11.025]\n",
      "The product with greater than 50$ revenue  [False False False False]\n",
      "Products with special bonus [False False  True False]\n"
     ]
    }
   ],
   "source": [
    "# Your code for Real-World Mini-Project here!\n",
    "import numpy as np\n",
    "\n",
    "product_prices = np.array([10.50, 25.00, 5.75, 12.25])\n",
    "quantities_sold = np.array([3, 1, 5, 2])\n",
    "\n",
    "# 1. Calculate total revenue for each product (element-wise)\n",
    "total_revenue = product_prices * quantities_sold\n",
    "print(\"Total revenue for each product is \", total_revenue)\n",
    "\n",
    "# 2. Apply a 10% discount to prices\n",
    "discounted_prices = product_prices - (product_prices / 10)\n",
    "print(\"Product prices with 10% discount\", discounted_prices)\n",
    "\n",
    "# 3. Identify products with total revenue >= 50.00\n",
    "print(\"The product with greater than 50$ revenue \", total_revenue >= 50)\n",
    "\n",
    "# 4. Identify products eligible for special bonus\n",
    "special_bonus_eligible = np.logical_or(product_prices < 10.00, quantities_sold > 3)\n",
    "print(\"Products with special bonus\", special_bonus_eligible)"
   ]
  },
  {
   "cell_type": "markdown",
   "id": "bfad4704",
   "metadata": {},
   "source": [
    "\n",
    "-----\n",
    "\n",
    "# 1.4 Indexing and Slicing\n",
    "\n",
    "Imagine your NumPy array is a neatly organized shelf of books 📚. Indexing is like picking out a specific book, while slicing is like taking a whole section of books\\! These techniques are fundamental for accessing, modifying, and analyzing specific parts of your data.\n",
    "\n",
    "NumPy's indexing is very similar to Python's list indexing, but with powerful extensions for multi-dimensional arrays.\n",
    "\n",
    "## 📚 Table of Contents\n",
    "  * **1.4 Indexing and Slicing**\n",
    "      * 1.4.1 1D Array Indexing: Getting Specific Elements\n",
    "      * 1.4.2 2D Array Indexing: Row and Column Access\n",
    "      * 1.4.3 Slicing 1D Arrays: `start:stop:step`\n",
    "      * 1.4.4 Slicing 2D Arrays: `rows_slice, cols_slice`\n",
    "      * 1.4.5 Boolean Indexing: Selecting Elements Based on Conditions\n",
    "      * 1.4.6 Fancy Indexing: Using Integer Arrays for Selection\n"
   ]
  },
  {
   "cell_type": "markdown",
   "id": "b96d5672",
   "metadata": {},
   "source": [
    "\n",
    "---\n",
    "\n",
    "### 1.4.1 1D Array Indexing: Getting Specific Elements 📍\n",
    "\n",
    "For a 1D array, you use square brackets `[]` with the index number (position) of the element you want. Remember, Python (and NumPy) use **0-based indexing**, meaning the first element is at index 0, the second at index 1, and so on.\n"
   ]
  },
  {
   "cell_type": "code",
   "execution_count": 19,
   "id": "0ba3c363",
   "metadata": {},
   "outputs": [
    {
     "name": "stdout",
     "output_type": "stream",
     "text": [
      "Original 1D Array: [10 20 30 40 50]\n",
      "First element: 10\n",
      "Third element: 30\n",
      "Last element (negative indexing): 50\n",
      "Second to last element: 40\n",
      "Array after modifying first element: [99 20 30 40 50]\n"
     ]
    }
   ],
   "source": [
    "import numpy as np\n",
    "\n",
    "my_1d_array = np.array([10, 20, 30, 40, 50])\n",
    "print(\"Original 1D Array:\", my_1d_array)\n",
    "\n",
    "# Accessing the first element (index 0)\n",
    "first_element = my_1d_array[0]\n",
    "print(\"First element:\", first_element)\n",
    "\n",
    "# Accessing the third element (index 2)\n",
    "third_element = my_1d_array[2]\n",
    "print(\"Third element:\", third_element)\n",
    "\n",
    "# Accessing the last element using negative indexing\n",
    "last_element = my_1d_array[-1]\n",
    "print(\"Last element (negative indexing):\", last_element)\n",
    "\n",
    "# Accessing the second to last element\n",
    "second_to_last = my_1d_array[-2]\n",
    "print(\"Second to last element:\", second_to_last)\n",
    "\n",
    "# You can also modify elements using indexing\n",
    "my_1d_array[0] = 99\n",
    "print(\"Array after modifying first element:\", my_1d_array)"
   ]
  },
  {
   "cell_type": "markdown",
   "id": "a8c211ab",
   "metadata": {},
   "source": [
    "\n",
    "**Common Pitfall:** Trying to access an index that doesn't exist will result in an `IndexError`. For example, `my_1d_array[5]` for an array of size 5 (indices 0-4) would be an error.\n",
    "\n",
    "### **1.4.2 2D Array Indexing: Row and Column Access🗺️**\n",
    "\n",
    "For 2D arrays (matrices), you need to specify both the row and the column. The syntax is typically `array[row_index, col_index]`. Think of it as `[Y-coordinate, X-coordinate]`.\n"
   ]
  },
  {
   "cell_type": "code",
   "execution_count": null,
   "id": "86a163f3",
   "metadata": {},
   "outputs": [
    {
     "name": "stdout",
     "output_type": "stream",
     "text": [
      "Original 2D Array:\n",
      " [[1 2 3]\n",
      " [4 5 6]\n",
      " [7 8 9]]\n",
      "Element at (0, 0): 1\n",
      "Element at (1, 2): 6\n",
      "First row: [1 2 3]\n",
      "2D Array after modifying (1,1):\n",
      " [[ 1  2  3]\n",
      " [ 4 55  6]\n",
      " [ 7  8  9]]\n",
      "2D Array after modifying row 2:\n",
      " [[ 1  2  3]\n",
      " [ 4 55  6]\n",
      " [77 88 99]]\n"
     ]
    }
   ],
   "source": [
    "# Index of row = [(0,0), (0,1), (0,2)\n",
    "#                 (1,0), (1,1), (1,2)\n",
    "#                 (2,0), (2,1), (2,2)]\n",
    "my_2d_array = np.array([[1, 2, 3],\n",
    "                        [4, 5, 6],\n",
    "                        [7, 8, 9]])\n",
    "print(\"Original 2D Array:\\n\", my_2d_array)\n",
    "\n",
    "# Accessing element at row 0, column 0 (top-left)\n",
    "element_0_0 = my_2d_array[0, 0]\n",
    "print(\"Element at (0, 0):\", element_0_0)\n",
    "\n",
    "# Accessing element at row 1, column 2 (value 6)\n",
    "element_1_2 = my_2d_array[1, 2]\n",
    "print(\"Element at (1, 2):\", element_1_2)\n",
    "\n",
    "# Accessing an entire row (by just providing the row index)\n",
    "first_row = my_2d_array[0]\n",
    "print(\"First row:\", first_row)\n",
    "\n",
    "# Accessing an entire column (this requires slicing, coming next!)\n",
    "# For now, just know you can't get a column with a single index like `my_2d_array[,1]` (that's invalid syntax)\n",
    "\n",
    "# Modifying an element in a 2D array\n",
    "my_2d_array[1, 1] = 55 # Change the middle element\n",
    "print(\"2D Array after modifying (1,1):\\n\", my_2d_array)\n",
    "\n",
    "# Modifying an entire row\n",
    "my_2d_array[2] = np.array([77, 88, 99])\n",
    "print(\"2D Array after modifying row 2:\\n\", my_2d_array)"
   ]
  },
  {
   "cell_type": "markdown",
   "id": "d1629541",
   "metadata": {},
   "source": [
    "\n",
    "**💡 Pro Tip:** When dealing with higher-dimensional arrays (3D, 4D, etc.), you extend the indexing: `array[dim1_index, dim2_index, dim3_index, ...]`.\n",
    "\n",
    "### 1.4.3 Slicing 1D Arrays: `start:stop:step` 🔪\n",
    "\n",
    "Slicing allows you to extract a portion (a \"slice\") of an array. The syntax is `[start:stop:step]`.\n",
    "\n",
    "  * `start`: The starting index (inclusive). If omitted, defaults to 0.\n",
    "  * `stop`: The ending index (exclusive). If omitted, defaults to the end of the array.\n",
    "  * `step`: The step size between elements. If omitted, defaults to 1.\n",
    "\n",
    "<!-- end list -->\n"
   ]
  },
  {
   "cell_type": "code",
   "execution_count": 35,
   "id": "946c35b3",
   "metadata": {},
   "outputs": [
    {
     "name": "stdout",
     "output_type": "stream",
     "text": [
      "Original data: [0 1 2 3 4 5 6 7 8 9]\n",
      "data[2:7]: [2 3 4 5 6]\n",
      "data[:6]: [0 1 2 3 4 5]\n",
      "data[4:]: [4 5 6 7 8 9]\n",
      "data[::2]: [0 2 4 6 8]\n",
      "data[::-1]: [9 8 7 6 5 4 3 2 1 0]\n",
      "\n",
      "Original data before slice modification: [0 1 2 3 4 5 6 7 8 9]\n",
      "Sub-array view modified: [999   3   4]\n",
      "Original data after slice modification: [  0   1 999   3   4   5   6   7   8   9]\n",
      "\n",
      "Original data_copy before .copy() slice modification: [0 1 2 3 4 5 6 7 8 9]\n",
      "Sub-array copy modified: [777   3   4]\n",
      "Original data_copy after .copy() slice modification: [0 1 2 3 4 5 6 7 8 9]\n"
     ]
    }
   ],
   "source": [
    "data = np.arange(0, 10) # Array: [0, 1, 2, 3, 4, 5, 6, 7, 8, 9]\n",
    "print(\"Original data:\", data)\n",
    "\n",
    "# Get elements from index 2 up to (but not including) index 7\n",
    "slice_1 = data[2:7]\n",
    "print(\"data[2:7]:\", slice_1) # Output: [2, 3, 4, 5, 6]\n",
    "\n",
    "# Get elements from the beginning up to index 5\n",
    "slice_2 = data[:6]\n",
    "print(\"data[:6]:\", slice_2) # Output: [0, 1, 2, 3, 4, 5]\n",
    "\n",
    "# Get elements from index 4 to the end\n",
    "slice_3 = data[4:]\n",
    "print(\"data[4:]:\", slice_3) # Output: [4, 5, 6, 7, 8, 9]\n",
    "\n",
    "# Get every other element\n",
    "slice_4 = data[::2]\n",
    "print(\"data[::2]:\", slice_4) # Output: [0, 2, 4, 6, 8]\n",
    "\n",
    "# Get elements in reverse order\n",
    "reverse_slice = data[::-1]\n",
    "print(\"data[::-1]:\", reverse_slice) # Output: [9, 8, 7, 6, 5, 4, 3, 2, 1, 0]\n",
    "\n",
    "# Slices create a \"view\" on the original array, not a copy!\n",
    "# If you modify a slice, the original array also changes!\n",
    "print(\"\\nOriginal data before slice modification:\", data)\n",
    "sub_array_view = data[2:5]\n",
    "sub_array_view[0] = 999 # Change the first element of the view (which is index 2 of original data)\n",
    "print(\"Sub-array view modified:\", sub_array_view)\n",
    "print(\"Original data after slice modification:\", data) # Oh no! The original data changed!\n",
    "\n",
    "# To create a true copy, use .copy()\n",
    "data_copy = np.arange(0, 10).copy()\n",
    "print(\"\\nOriginal data_copy before .copy() slice modification:\", data_copy)\n",
    "sub_array_copy = data_copy[2:5].copy() # Explicitly make a copy\n",
    "sub_array_copy[0] = 777\n",
    "print(\"Sub-array copy modified:\", sub_array_copy)\n",
    "print(\"Original data_copy after .copy() slice modification:\", data_copy) # Original is unchanged!"
   ]
  },
  {
   "cell_type": "markdown",
   "id": "50d44e57",
   "metadata": {},
   "source": [
    "\n",
    "**💡 Pro Tip:** Be very mindful that slicing often returns a \"view\" of the original array. If you modify the view, you modify the original data\\! If you need an independent copy, use the `.copy()` method.\n",
    "\n",
    "### 1.4.4 Slicing 2D Arrays: `rows_slice, cols_slice` 🖼️\n",
    "\n",
    "Slicing 2D arrays involves specifying slices for both rows and columns, separated by a comma: `array[row_slice, col_slice]`.\n"
   ]
  },
  {
   "cell_type": "code",
   "execution_count": 36,
   "id": "87bc867a",
   "metadata": {},
   "outputs": [
    {
     "name": "stdout",
     "output_type": "stream",
     "text": [
      "Original 2D Matrix:\n",
      " [[10 11 12 13]\n",
      " [20 21 22 23]\n",
      " [30 31 32 33]\n",
      " [40 41 42 43]]\n",
      "\n",
      "First two rows:\n",
      " [[10 11 12 13]\n",
      " [20 21 22 23]]\n",
      "\n",
      "Last two columns:\n",
      " [[12 13]\n",
      " [22 23]\n",
      " [32 33]\n",
      " [42 43]]\n",
      "\n",
      "Sub-matrix (rows 1-2, cols 1-2):\n",
      " [[21 22]\n",
      " [31 32]]\n",
      "\n",
      "Specific row (index 1): [20 21 22 23]\n",
      "\n",
      "Specific column (index 0): [10 20 30 40]\n"
     ]
    }
   ],
   "source": [
    "matrix = np.array([[10, 11, 12, 13],\n",
    "                   [20, 21, 22, 23],\n",
    "                   [30, 31, 32, 33],\n",
    "                   [40, 41, 42, 43]])\n",
    "print(\"Original 2D Matrix:\\n\", matrix)\n",
    "\n",
    "# Get the first two rows, all columns\n",
    "slice_row_0_1 = matrix[0:2, :] # Or simply matrix[:2, :]\n",
    "print(\"\\nFirst two rows:\\n\", slice_row_0_1)\n",
    "\n",
    "# Get all rows, last two columns\n",
    "slice_col_2_3 = matrix[:, 2:]\n",
    "print(\"\\nLast two columns:\\n\", slice_col_2_3)\n",
    "\n",
    "# Get the sub-matrix: rows 1-2, columns 1-2 (elements 21, 22, 31, 32)\n",
    "sub_matrix = matrix[1:3, 1:3]\n",
    "print(\"\\nSub-matrix (rows 1-2, cols 1-2):\\n\", sub_matrix)\n",
    "\n",
    "# Get a specific row (as a 1D array)\n",
    "specific_row = matrix[1, :] # Or simply matrix[1]\n",
    "print(\"\\nSpecific row (index 1):\", specific_row)\n",
    "\n",
    "# Get a specific column (as a 1D array)\n",
    "specific_col = matrix[:, 0]\n",
    "print(\"\\nSpecific column (index 0):\", specific_col)"
   ]
  },
  {
   "cell_type": "markdown",
   "id": "ac8190c0",
   "metadata": {},
   "source": [
    "\n",
    "**❓ Mini-Challenge\\!**\n",
    "Given the matrix:\n",
    "`m = np.array([[1, 2, 3, 4], [5, 6, 7, 8], [9, 10, 11, 12]])`\n",
    "\n",
    "1.  Extract the element `7`.\n",
    "2.  Extract the last row.\n",
    "3.  Extract the sub-matrix `[[2, 3], [6, 7]]`.\n",
    "\n",
    "<!-- end list -->"
   ]
  },
  {
   "cell_type": "code",
   "execution_count": 12,
   "id": "510bff3a",
   "metadata": {},
   "outputs": [
    {
     "name": "stdout",
     "output_type": "stream",
     "text": [
      "7\n",
      "[ 9 10 11 12]\n",
      "[[ 4]\n",
      " [ 8]\n",
      " [12]]\n",
      "[[2 3]\n",
      " [6 7]]\n"
     ]
    }
   ],
   "source": [
    "# Your code for Mini-Challenge here!\n",
    "import numpy as np\n",
    "m = np.array([[1, 2, 3, 4],\n",
    "              [5, 6, 7, 8],\n",
    "              [9, 10, 11, 12]]\n",
    ")\n",
    "# Challenge 1\n",
    "print(m[1,2])       # Extract 7\n",
    "# Challenge 2\n",
    "print(m[2,])        # Last row\n",
    "print(m[ : , 3:] )  # Last Column\n",
    "# Challenge 3\n",
    "print(m[ 0:2 , 1:3])"
   ]
  },
  {
   "cell_type": "markdown",
   "id": "00b88cd6",
   "metadata": {},
   "source": [
    "\n",
    "-----\n",
    "\n",
    "### 1.4.5 Boolean Indexing: Selecting Elements Based on Conditions ✅\n",
    "\n",
    "This is incredibly powerful\\! You can use a boolean array (created from comparison operations) to select elements from another array. Wherever the boolean array has `True`, the corresponding element from the original array is selected.\n"
   ]
  },
  {
   "cell_type": "code",
   "execution_count": 14,
   "id": "4672053e",
   "metadata": {},
   "outputs": [
    {
     "name": "stdout",
     "output_type": "stream",
     "text": [
      "Original Data Values: [10 25  5 30 15 40  8]\n",
      "Condition (values > 20): [False  True False  True False  True False]\n",
      "Selected values (> 20): [25 30 40]\n",
      "High values (one line): [25 30 40]\n",
      "Even and > 10: [30 40]\n",
      "\n",
      "Original 2D Matrix:\n",
      " [[1 2 3]\n",
      " [4 5 6]\n",
      " [7 8 9]]\n",
      "Elements > 5 (flattened): [6 7 8 9]\n"
     ]
    }
   ],
   "source": [
    "data_values = np.array([10, 25, 5, 30, 15, 40, 8])\n",
    "print(\"Original Data Values:\", data_values)\n",
    "\n",
    "# Create a boolean array where values are greater than 20\n",
    "condition = data_values > 20\n",
    "print(\"Condition (values > 20):\", condition)\n",
    "\n",
    "# Use the boolean array to select elements\n",
    "selected_values = data_values[condition]\n",
    "print(\"Selected values (> 20):\", selected_values)\n",
    "\n",
    "# You can do this in one line!\n",
    "high_values = data_values[data_values > 20]\n",
    "print(\"High values (one line):\", high_values)\n",
    "\n",
    "# You can also use logical operations to combine conditions\n",
    "even_and_gt_10 = data_values[(data_values % 2 == 0) & (data_values > 10)]\n",
    "print(\"Even and > 10:\", even_and_gt_10)\n",
    "\n",
    "# Boolean indexing for 2D arrays\n",
    "matrix_2d = np.array([[1, 2, 3],\n",
    "                      [4, 5, 6],\n",
    "                      [7, 8, 9]])\n",
    "print(\"\\nOriginal 2D Matrix:\\n\", matrix_2d)\n",
    "\n",
    "# Select all elements greater than 5\n",
    "greater_than_5 = matrix_2d[matrix_2d > 5]\n",
    "print(\"Elements > 5 (flattened):\", greater_than_5) # Note: Result is a 1D array!\n",
    "\n",
    "# To keep the original shape, you might need where() or other techniques,\n",
    "# but for basic selection, boolean indexing flattens the result."
   ]
  },
  {
   "cell_type": "markdown",
   "id": "e98da41a",
   "metadata": {},
   "source": [
    "\n",
    "**💡 Pro Tip:** Boolean indexing is used extensively in data analysis with libraries like Pandas (which is built on NumPy) for filtering datasets. It's a must-know\\!\n"
   ]
  },
  {
   "cell_type": "markdown",
   "id": "68192086",
   "metadata": {},
   "source": [
    "### **`numpy.where()`: Conditional Element Selection**\n",
    "\n",
    "The `numpy.where()` function is a powerful tool for **conditional selection and replacement** in NumPy arrays. It works similarly to Excel's `IF` function or Python's ternary operator (`x if condition else y`).\n",
    "\n",
    "---\n",
    "\n",
    "#### **1. Basic Syntax**\n",
    "```python\n",
    "numpy.where(condition, x, y)\n",
    "```\n",
    "- **`condition`**: A boolean array (True/False values).\n",
    "- **`x`**: Values to pick where `condition` is **True**.\n",
    "- **`y`**: Values to pick where `condition` is **False**.\n",
    "\n",
    "---\n",
    "\n",
    "#### **2. Key Use Cases**\n",
    "**Case 1: Replace Values Based on a Condition**\n",
    "**Example:** Replace negative numbers with `0`."
   ]
  },
  {
   "cell_type": "code",
   "execution_count": 15,
   "id": "c5b602e2",
   "metadata": {},
   "outputs": [
    {
     "name": "stdout",
     "output_type": "stream",
     "text": [
      "[3 0 0 0 4]\n"
     ]
    }
   ],
   "source": [
    "import numpy as np\n",
    "\n",
    "arr = np.array([3, -1, 0, -5, 4])\n",
    "result = np.where(arr < 0, 0, arr)  # Replace negatives with 0\n",
    "print(result)  # Output: [3 0 0 0 4]"
   ]
  },
  {
   "cell_type": "markdown",
   "id": "efd70f1d",
   "metadata": {},
   "source": [
    "#### **3. Real-World Example**\n",
    "**Problem:**  \n",
    "You have sales data, and you want to:\n",
    "- Apply a **10% discount** if sales are **below 50**.\n",
    "- Apply a **20% discount** if sales are **50 or above**.\n",
    "\n",
    "**Solution:**"
   ]
  },
  {
   "cell_type": "code",
   "execution_count": 16,
   "id": "5c20e5d3",
   "metadata": {},
   "outputs": [
    {
     "name": "stdout",
     "output_type": "stream",
     "text": [
      "[27.  56.  40.5 64.  48. ]\n"
     ]
    }
   ],
   "source": [
    "sales = np.array([30, 70, 45, 80, 60])\n",
    "discounted_sales = np.where(\n",
    "    sales < 50,\n",
    "    sales * 0.9,   # 10% discount\n",
    "    sales * 0.8    # 20% discount\n",
    ")\n",
    "print(discounted_sales)  # Output: [27.  56.  40.5 64.  48. ]"
   ]
  },
  {
   "cell_type": "markdown",
   "id": "4ea56ca6",
   "metadata": {},
   "source": [
    "\n",
    "-----\n",
    "\n",
    "### 1.4.6 Fancy Indexing: Using Integer Arrays for Selection 🎩\n",
    "\n",
    "Fancy indexing involves passing an array of integer indices to select specific rows, columns, or elements in any arbitrary order. This is different from slicing, which only works for contiguous (or regularly spaced) blocks.\n",
    "\n",
    "#### 1D Fancy Indexing\n"
   ]
  },
  {
   "cell_type": "code",
   "execution_count": 39,
   "id": "83f42d71",
   "metadata": {},
   "outputs": [
    {
     "name": "stdout",
     "output_type": "stream",
     "text": [
      "Original Elements: ['apple' 'banana' 'cherry' 'date' 'elderberry']\n",
      "Fancy selection: ['apple' 'cherry' 'elderberry']\n",
      "Another fancy selection: ['banana' 'date']\n",
      "Duplicate selection: ['apple' 'apple' 'banana' 'banana']\n"
     ]
    }
   ],
   "source": [
    "elements = np.array(['apple', 'banana', 'cherry', 'date', 'elderberry'])\n",
    "print(\"Original Elements:\", elements)\n",
    "\n",
    "# Select elements at specific, non-contiguous indices\n",
    "selected_indices = np.array([0, 2, 4]) # Indices for 'apple', 'cherry', 'elderberry'\n",
    "fancy_selection = elements[selected_indices]\n",
    "print(\"Fancy selection:\", fancy_selection)\n",
    "\n",
    "# You can also use Python lists as indexers\n",
    "another_selection = elements[[1, 3]] # Indices for 'banana', 'date'\n",
    "print(\"Another fancy selection:\", another_selection)\n",
    "\n",
    "# Duplicates are allowed!\n",
    "duplicate_selection = elements[[0, 0, 1, 1]]\n",
    "print(\"Duplicate selection:\", duplicate_selection)"
   ]
  },
  {
   "cell_type": "markdown",
   "id": "0980a70a",
   "metadata": {},
   "source": [
    "\n",
    "#### 2D Fancy Indexing\n",
    "\n",
    "For 2D arrays, fancy indexing can be a bit more nuanced.\n",
    "\n",
    "**Selecting specific rows:**\n"
   ]
  },
  {
   "cell_type": "code",
   "execution_count": 40,
   "id": "c4b19673",
   "metadata": {},
   "outputs": [
    {
     "name": "stdout",
     "output_type": "stream",
     "text": [
      "Original Data Matrix:\n",
      " [[10 11 12]\n",
      " [20 21 22]\n",
      " [30 31 32]\n",
      " [40 41 42]]\n",
      "\n",
      "Selected rows (0 and 2):\n",
      " [[10 11 12]\n",
      " [30 31 32]]\n"
     ]
    }
   ],
   "source": [
    "data_matrix = np.array([[10, 11, 12],\n",
    "                        [20, 21, 22],\n",
    "                        [30, 31, 32],\n",
    "                        [40, 41, 42]])\n",
    "print(\"Original Data Matrix:\\n\", data_matrix)\n",
    "\n",
    "# Select rows at index 0 and 2\n",
    "selected_rows = data_matrix[[0, 2]]\n",
    "print(\"\\nSelected rows (0 and 2):\\n\", selected_rows)"
   ]
  },
  {
   "cell_type": "markdown",
   "id": "f0ae7ca3",
   "metadata": {},
   "source": [
    "\n",
    "**Selecting specific elements using paired indices:**\n",
    "\n",
    "If you provide two 1D arrays of indices, one for rows and one for columns, NumPy will select elements at the `(row_index, col_index)` pairs. The resulting array will have the same shape as the index arrays.\n"
   ]
  },
  {
   "cell_type": "code",
   "execution_count": 41,
   "id": "32a86d43",
   "metadata": {},
   "outputs": [
    {
     "name": "stdout",
     "output_type": "stream",
     "text": [
      "\n",
      "Paired selection (elements at (0,0), (1,2), (3,1)): [10 22 41]\n"
     ]
    }
   ],
   "source": [
    "# Select elements at (0, 0), (1, 2), and (3, 1)\n",
    "row_indices = np.array([0, 1, 3])\n",
    "col_indices = np.array([0, 2, 1])\n",
    "\n",
    "paired_selection = data_matrix[row_indices, col_indices]\n",
    "print(\"\\nPaired selection (elements at (0,0), (1,2), (3,1)):\", paired_selection) # Output: [10 22 41]"
   ]
  },
  {
   "cell_type": "markdown",
   "id": "f1de5dd7",
   "metadata": {},
   "source": [
    "\n",
    "**Common Pitfall:** Fancy indexing *always* returns a **copy** of the data, unlike basic slicing which often returns a view. Modifying a fancy indexed array will not change the original array.\n"
   ]
  },
  {
   "cell_type": "code",
   "execution_count": 42,
   "id": "60d7a0fe",
   "metadata": {},
   "outputs": [
    {
     "name": "stdout",
     "output_type": "stream",
     "text": [
      "Fancy indexed view: [99  3]\n",
      "Original after fancy modification: [1 2 3 4 5]\n"
     ]
    }
   ],
   "source": [
    "original_fancy_test = np.array([1, 2, 3, 4, 5])\n",
    "fancy_indexed_view = original_fancy_test[[0, 2]]\n",
    "fancy_indexed_view[0] = 99\n",
    "print(\"Fancy indexed view:\", fancy_indexed_view)\n",
    "print(\"Original after fancy modification:\", original_fancy_test) # Original is unchanged!"
   ]
  },
  {
   "cell_type": "markdown",
   "id": "3a48e470",
   "metadata": {},
   "source": [
    "\n",
    "-----\n",
    "\n",
    "### 🎯 Real-World Mini-Project: Student Grades Analysis\\!\n",
    "\n",
    "You have a `grades` array for a class, where each row is a student and each column is a score on an assignment.\n",
    "\n",
    "`grades = np.array([[85, 90, 78, 92], [70, 75, 80, 65], [95, 88, 91, 87], [60, 62, 58, 70]])`\n",
    "\n",
    "**Challenge:**\n",
    "\n",
    "1.  What was the score of the *second* student on the *third* assignment?\n",
    "2.  Extract all scores for the *first* student.\n",
    "3.  Extract the scores for all students on the *first* assignment.\n",
    "4.  Identify all scores in the `grades` array that are **below 70**.\n",
    "5.  Imagine the teacher wants to see the scores for student 0 and student 2 only, but specifically for their scores on assignment 0 and assignment 3. Use **fancy indexing** to retrieve these specific four scores. (i.e., `grades[0,0]`, `grades[0,3]`, `grades[2,0]`, `grades[2,3]`).\n",
    "\n",
    "<!-- end list -->\n"
   ]
  },
  {
   "cell_type": "code",
   "execution_count": null,
   "id": "725d8e2f",
   "metadata": {},
   "outputs": [
    {
     "name": "stdout",
     "output_type": "stream",
     "text": [
      "1. Second student, third assignment score:\n",
      "80\n",
      "\n",
      "2. All scores for the first student:\n",
      "[85 70 95 60]\n",
      "\n",
      "3. All scores for the first assignment:\n",
      "[85 90 78 92]\n",
      "\n",
      "4. Scores below 70:\n",
      "[65 60 62 58]\n",
      "\n",
      "5. Specific scores using fancy indexing:\n"
     ]
    }
   ],
   "source": [
    "# Your code for Real-World Mini-Project here!\n",
    "import numpy as np\n",
    "\n",
    "grades = np.array([[85, 90, 78, 92],\n",
    "                   [70, 75, 80, 65],\n",
    "                   [95, 88, 91, 87],\n",
    "                   [60, 62, 58, 70]])\n",
    "\n",
    "# 1. Second student, third assignment\n",
    "print(\"1. Second student, third assignment score:\")\n",
    "print(grades[1, 2])\n",
    "\n",
    "# 2. All scores for the first student\n",
    "print(\"\\n2. All scores for the first student:\")\n",
    "print(grades[:, 0])\n",
    "\n",
    "# 3. All scores for the first assignment\n",
    "print(\"\\n3. All scores for the first assignment:\")\n",
    "print(grades[0])\n",
    "# 4. Scores below 70 (using boolean indexing)\n",
    "print(\"\\n4. Scores below 70:\")\n",
    "print(grades[grades < 70])\n",
    "\n",
    "# 5. Scores for student 0 and 2 on assignment 0 and 3 (fancy indexing)\n",
    "print(\"\\n5. Specific scores using fancy indexing:\")\n",
    "# row_scores ="
   ]
  },
  {
   "cell_type": "markdown",
   "id": "f9698e57",
   "metadata": {},
   "source": [
    "\n",
    "-----\n",
    "\n",
    "# 1.5 Reshaping and Transposing Arrays\n",
    "\n",
    "Sometimes, your data might be stored in one shape, but for a particular operation or algorithm, you need it in another shape. That's where reshaping and transposing come in handy\\! They allow you to change the arrangement of elements in your array without actually changing the underlying data itself. It's like folding a piece of paper differently\\! 📄➡️📦\n"
   ]
  },
  {
   "cell_type": "markdown",
   "id": "e8412289",
   "metadata": {},
   "source": [
    "\n",
    "### 1.5.1 `reshape()`: Changing Array Dimensions (keeping data) 🔄\n",
    "\n",
    "The `reshape()` method lets you give a new shape to an array without changing its data. The total number of elements in the array *must* remain the same.\n"
   ]
  },
  {
   "cell_type": "code",
   "execution_count": 45,
   "id": "bf41b3bd",
   "metadata": {},
   "outputs": [
    {
     "name": "stdout",
     "output_type": "stream",
     "text": [
      "Original 1D Array: [ 0  1  2  3  4  5  6  7  8  9 10 11]\n",
      "Original Shape: (12,)\n",
      "\n",
      "Reshaped to 2x6:\n",
      " [[ 0  1  2  3  4  5]\n",
      " [ 6  7  8  9 10 11]]\n",
      "Shape: (2, 6)\n",
      "\n",
      "Reshaped to 3x4:\n",
      " [[ 0  1  2  3]\n",
      " [ 4  5  6  7]\n",
      " [ 8  9 10 11]]\n",
      "Shape: (3, 4)\n",
      "\n",
      "Reshaped to 4x3:\n",
      " [[ 0  1  2]\n",
      " [ 3  4  5]\n",
      " [ 6  7  8]\n",
      " [ 9 10 11]]\n",
      "Shape: (4, 3)\n",
      "\n",
      "Reshaped to 2x2x3 (3D):\n",
      " [[[ 0  1  2]\n",
      "  [ 3  4  5]]\n",
      "\n",
      " [[ 6  7  8]\n",
      "  [ 9 10 11]]]\n",
      "Shape: (2, 2, 3)\n"
     ]
    }
   ],
   "source": [
    "import numpy as np\n",
    "\n",
    "# Let's start with a 1D array of 12 elements\n",
    "my_1d_array = np.arange(12) # [0, 1, 2, ..., 11]\n",
    "print(\"Original 1D Array:\", my_1d_array)\n",
    "print(\"Original Shape:\", my_1d_array.shape)\n",
    "\n",
    "# Reshape to a 2x6 matrix (2 rows, 6 columns)\n",
    "matrix_2x6 = my_1d_array.reshape(2, 6)\n",
    "print(\"\\nReshaped to 2x6:\\n\", matrix_2x6)\n",
    "print(\"Shape:\", matrix_2x6.shape)\n",
    "\n",
    "# Reshape to a 3x4 matrix (3 rows, 4 columns)\n",
    "matrix_3x4 = my_1d_array.reshape(3, 4)\n",
    "print(\"\\nReshaped to 3x4:\\n\", matrix_3x4)\n",
    "print(\"Shape:\", matrix_3x4.shape)\n",
    "\n",
    "# Reshape to a 4x3 matrix\n",
    "matrix_4x3 = my_1d_array.reshape(4, 3)\n",
    "print(\"\\nReshaped to 4x3:\\n\", matrix_4x3)\n",
    "print(\"Shape:\", matrix_4x3.shape)\n",
    "\n",
    "# Reshape to a 2x2x3 3D array (2 'blocks', each 2 rows by 3 columns)\n",
    "three_d_array = my_1d_array.reshape(2, 2, 3)\n",
    "print(\"\\nReshaped to 2x2x3 (3D):\\n\", three_d_array)\n",
    "print(\"Shape:\", three_d_array.shape)"
   ]
  },
  {
   "cell_type": "markdown",
   "id": "0a0e26cd",
   "metadata": {},
   "source": [
    "\n",
    "#### Using `-1` for Unknown Dimension: NumPy Figures it Out\\! 🤖\n",
    "\n",
    "This is a super useful trick\\! You can specify `-1` for one of the dimensions, and NumPy will automatically calculate the correct size for that dimension to ensure the total number of elements matches.\n"
   ]
  },
  {
   "cell_type": "code",
   "execution_count": 46,
   "id": "0aaf468d",
   "metadata": {},
   "outputs": [
    {
     "name": "stdout",
     "output_type": "stream",
     "text": [
      "\n",
      "Reshaped with unknown rows (-1, 3):\n",
      " [[ 0  1  2]\n",
      " [ 3  4  5]\n",
      " [ 6  7  8]\n",
      " [ 9 10 11]]\n",
      "Shape: (4, 3)\n",
      "\n",
      "Reshaped with unknown columns (2, -1):\n",
      " [[ 0  1  2  3  4  5]\n",
      " [ 6  7  8  9 10 11]]\n",
      "Shape: (2, 6)\n"
     ]
    }
   ],
   "source": [
    "# Reshape to a 2D array with 3 columns, NumPy calculates the rows\n",
    "unknown_rows = my_1d_array.reshape(-1, 3)\n",
    "print(\"\\nReshaped with unknown rows (-1, 3):\\n\", unknown_rows)\n",
    "print(\"Shape:\", unknown_rows.shape) # Output: (4, 3) because 4*3 = 12\n",
    "\n",
    "# Reshape to a 2D array with 2 rows, NumPy calculates the columns\n",
    "unknown_cols = my_1d_array.reshape(2, -1)\n",
    "print(\"\\nReshaped with unknown columns (2, -1):\\n\", unknown_cols)\n",
    "print(\"Shape:\", unknown_cols.shape) # Output: (2, 6) because 2*6 = 12"
   ]
  },
  {
   "cell_type": "markdown",
   "id": "b3e03b9d",
   "metadata": {},
   "source": [
    "\n",
    "**Common Pitfall:** If the new shape you provide doesn't result in the same total number of elements as the original array, `reshape()` will raise a `ValueError`. For example, `my_1d_array.reshape(5, 3)` would fail because $5 \\\\times 3 = 15 \\\\neq 12$.\n",
    "\n",
    "### 1.5.2 `ravel()` and `flatten()`: Converting to 1D ↔️\n",
    "\n",
    "Both `ravel()` and `flatten()` are used to convert a multi-dimensional array into a 1D (flattened) array. However, there's a subtle but important difference:\n",
    "\n",
    "#### `ravel()`: Returns a View (if possible) 🧐\n",
    "\n",
    "  * Returns a **view** of the original array whenever possible. This means no new memory is allocated.\n",
    "  * If you modify the array returned by `ravel()`, the original array **will be affected**.\n",
    "  * It's generally faster because it avoids copying data.\n",
    "\n",
    "<!-- end list -->\n"
   ]
  },
  {
   "cell_type": "code",
   "execution_count": 47,
   "id": "06556eaa",
   "metadata": {},
   "outputs": [
    {
     "name": "stdout",
     "output_type": "stream",
     "text": [
      "Original Matrix:\n",
      " [[1 2 3]\n",
      " [4 5 6]]\n",
      "Raveled Array: [1 2 3 4 5 6]\n",
      "Raveled Array (modified): [999   2   3   4   5   6]\n",
      "Original Matrix (after ravel modify):\n",
      " [[999   2   3]\n",
      " [  4   5   6]]\n"
     ]
    }
   ],
   "source": [
    "matrix_orig = np.array([[1, 2, 3],\n",
    "                        [4, 5, 6]])\n",
    "print(\"Original Matrix:\\n\", matrix_orig)\n",
    "\n",
    "raveled_array = matrix_orig.ravel()\n",
    "print(\"Raveled Array:\", raveled_array)\n",
    "\n",
    "# Modify the raveled array\n",
    "raveled_array[0] = 999\n",
    "print(\"Raveled Array (modified):\", raveled_array)\n",
    "print(\"Original Matrix (after ravel modify):\\n\", matrix_orig) # Original is changed!"
   ]
  },
  {
   "cell_type": "markdown",
   "id": "c3a1c3eb",
   "metadata": {},
   "source": [
    "\n",
    "#### `flatten()`: Always Returns a Copy 🛡️\n",
    "\n",
    "  * Always returns a **copy** of the array. New memory is allocated.\n",
    "  * If you modify the array returned by `flatten()`, the original array **will NOT be affected**.\n",
    "  * It's safer if you want to ensure the original array remains untouched.\n",
    "\n",
    "<!-- end list -->\n"
   ]
  },
  {
   "cell_type": "code",
   "execution_count": 48,
   "id": "e95d193d",
   "metadata": {},
   "outputs": [
    {
     "name": "stdout",
     "output_type": "stream",
     "text": [
      "\n",
      "Original Matrix 2:\n",
      " [[10 20 30]\n",
      " [40 50 60]]\n",
      "Flattened Array: [10 20 30 40 50 60]\n",
      "Flattened Array (modified): [111  20  30  40  50  60]\n",
      "Original Matrix 2 (after flatten modify):\n",
      " [[10 20 30]\n",
      " [40 50 60]]\n"
     ]
    }
   ],
   "source": [
    "matrix_orig_2 = np.array([[10, 20, 30],\n",
    "                          [40, 50, 60]])\n",
    "print(\"\\nOriginal Matrix 2:\\n\", matrix_orig_2)\n",
    "\n",
    "flattened_array = matrix_orig_2.flatten()\n",
    "print(\"Flattened Array:\", flattened_array)\n",
    "\n",
    "# Modify the flattened array\n",
    "flattened_array[0] = 111\n",
    "print(\"Flattened Array (modified):\", flattened_array)\n",
    "print(\"Original Matrix 2 (after flatten modify):\\n\", matrix_orig_2) # Original is unchanged!"
   ]
  },
  {
   "cell_type": "markdown",
   "id": "70330c69",
   "metadata": {},
   "source": [
    "\n",
    "**💡 Pro Tip:**\n",
    "\n",
    "  * Use `ravel()` when performance is critical and you're okay with modifying the original data (or you know you won't modify the flattened result).\n",
    "  * Use `flatten()` when you explicitly need an independent copy of the flattened array and don't want to risk changing the original.\n",
    "\n",
    "### 1.5.3 `transpose()` and `.T`: Swapping Axes 🔄📊\n",
    "\n",
    "Transposing an array means swapping its axes. For a 2D array, this means rows become columns, and columns become rows. It's like rotating a table on its side\\!\n",
    "\n",
    "#### `.T` Attribute (for 2D arrays, most common)\n",
    "\n",
    "This is the simplest and most common way to transpose a 2D array.\n"
   ]
  },
  {
   "cell_type": "code",
   "execution_count": 49,
   "id": "0ebf2647",
   "metadata": {},
   "outputs": [
    {
     "name": "stdout",
     "output_type": "stream",
     "text": [
      "Original Matrix (2x3):\n",
      " [[1 2 3]\n",
      " [4 5 6]]\n",
      "Transposed Matrix (3x2):\n",
      " [[1 4]\n",
      " [2 5]\n",
      " [3 6]]\n",
      "Original Shape: (2, 3)\n",
      "Transposed Shape: (3, 2)\n"
     ]
    }
   ],
   "source": [
    "data_matrix = np.array([[1, 2, 3],\n",
    "                        [4, 5, 6]])\n",
    "print(\"Original Matrix (2x3):\\n\", data_matrix)\n",
    "\n",
    "transposed_matrix = data_matrix.T\n",
    "print(\"Transposed Matrix (3x2):\\n\", transposed_matrix)\n",
    "\n",
    "# Check shapes\n",
    "print(\"Original Shape:\", data_matrix.shape)\n",
    "print(\"Transposed Shape:\", transposed_matrix.shape)"
   ]
  },
  {
   "cell_type": "markdown",
   "id": "eeb7ab45",
   "metadata": {},
   "source": [
    "\n",
    "#### `np.transpose()` (for general N-D arrays)\n",
    "\n",
    "For higher-dimensional arrays, `np.transpose()` allows you to specify the new order of axes. For a 2D array, `.T` is equivalent to `np.transpose(array, (1, 0))`.\n"
   ]
  },
  {
   "cell_type": "code",
   "execution_count": 50,
   "id": "6533a425",
   "metadata": {},
   "outputs": [
    {
     "name": "stdout",
     "output_type": "stream",
     "text": [
      "Original 3D Array (shape (2, 3, 4)):\n",
      " [[[ 0  1  2  3]\n",
      "  [ 4  5  6  7]\n",
      "  [ 8  9 10 11]]\n",
      "\n",
      " [[12 13 14 15]\n",
      "  [16 17 18 19]\n",
      "  [20 21 22 23]]]\n",
      "\n",
      "Transposed (axes 0 and 1 swapped, shape (3, 2, 4)):\n",
      " [[[ 0  1  2  3]\n",
      "  [12 13 14 15]]\n",
      "\n",
      " [[ 4  5  6  7]\n",
      "  [16 17 18 19]]\n",
      "\n",
      " [[ 8  9 10 11]\n",
      "  [20 21 22 23]]]\n"
     ]
    }
   ],
   "source": [
    "# Example for a 3D array (e.g., image data: height, width, channels)\n",
    "img_data = np.arange(24).reshape((2, 3, 4)) # 2 blocks, 3 rows, 4 columns\n",
    "print(\"Original 3D Array (shape {}):\\n\".format(img_data.shape), img_data)\n",
    "\n",
    "# Swap axis 0 and 1 (depth and rows)\n",
    "transposed_3d = np.transpose(img_data, (1, 0, 2))\n",
    "print(\"\\nTransposed (axes 0 and 1 swapped, shape {}):\\n\".format(transposed_3d.shape), transposed_3d)"
   ]
  },
  {
   "cell_type": "markdown",
   "id": "0ac66d9f",
   "metadata": {},
   "source": [
    "\n",
    "This is more advanced, but good to know `np.transpose()` exists for more complex reordering if you ever need it\\!\n",
    "\n",
    "### 1.5.4 `newaxis`: Adding a New Dimension 📦➡️📦📦\n",
    "\n",
    "`np.newaxis` is a special constant used in array indexing to insert a new axis (a new dimension) into an array, usually with a length of one. This is super useful for making arrays compatible for broadcasting operations\\!\n",
    "\n",
    "Think of a 1D array `[1, 2, 3]`. If you want to treat it as a column vector `[[1], [2], [3]]` or a row vector `[[1, 2, 3]]` in a 2D context for broadcasting, `newaxis` is your tool\\!\n"
   ]
  },
  {
   "cell_type": "code",
   "execution_count": 51,
   "id": "38ecabc0",
   "metadata": {},
   "outputs": [
    {
     "name": "stdout",
     "output_type": "stream",
     "text": [
      "Original 1D Array: [10 20 30]\n",
      "Original Shape: (3,)\n",
      "\n",
      "Row Vector (newaxis before): [[10 20 30]]\n",
      "Shape: (1, 3)\n",
      "\n",
      "Column Vector (newaxis after):\n",
      " [[10]\n",
      " [20]\n",
      " [30]]\n",
      "Shape: (3, 1)\n",
      "\n",
      "Matrix + Row Vector (via newaxis for row_vector):\n",
      " [[11 22 33]\n",
      " [14 25 36]]\n",
      "\n",
      "Single feature vector for model input: [[1.5 2.3 0.8]]\n",
      "Shape of model input: (1, 3)\n"
     ]
    }
   ],
   "source": [
    "data_1d = np.array([10, 20, 30])\n",
    "print(\"Original 1D Array:\", data_1d)\n",
    "print(\"Original Shape:\", data_1d.shape)\n",
    "\n",
    "# Add a new axis (dimension) before the existing axis to make it a row vector (1 row, 3 columns)\n",
    "row_vector = data_1d[np.newaxis, :]\n",
    "print(\"\\nRow Vector (newaxis before):\", row_vector)\n",
    "print(\"Shape:\", row_vector.shape) # Output: (1, 3)\n",
    "\n",
    "# Add a new axis (dimension) after the existing axis to make it a column vector (3 rows, 1 column)\n",
    "col_vector = data_1d[:, np.newaxis]\n",
    "print(\"\\nColumn Vector (newaxis after):\\n\", col_vector)\n",
    "print(\"Shape:\", col_vector.shape) # Output: (3, 1)\n",
    "\n",
    "# Why is this useful for broadcasting?\n",
    "# Imagine adding a column vector to a matrix\n",
    "matrix_example = np.array([[1, 2, 3],\n",
    "                           [4, 5, 6]]) # Shape (2, 3)\n",
    "\n",
    "# This will broadcast because (3, 1) can broadcast with (2, 3)\n",
    "# (3, 1)  -> (2, 3)\n",
    "#  ^           ^\n",
    "# Check right to left: 1 and 3 are NOT equal and NOT 1. This would normally fail if it were (3,)\n",
    "# But because we made it (3,1), it works!\n",
    "# Let's re-verify broadcasting rules for (3,1) vs (2,3)\n",
    "# (2, 3)\n",
    "# (3, 1)   <-- No, this would not work. (3,1) is a column vector and needs to be compatible.\n",
    "# The `newaxis` use case is more for adding a dimension to a lower-dimensional array to make it compatible with a higher-dimensional one, *or* for making a 1D array explicitly a row/column.\n",
    "\n",
    "# Let's use it to add a row vector to a matrix (like in broadcasting example 2 from before)\n",
    "# `data_1d` (shape (3,)) can already broadcast with `matrix_example` (shape (2,3))\n",
    "# row_vector (shape (1,3)) can also broadcast with `matrix_example` (shape (2,3))\n",
    "result_with_newaxis = matrix_example + row_vector\n",
    "print(\"\\nMatrix + Row Vector (via newaxis for row_vector):\\n\", result_with_newaxis)\n",
    "\n",
    "# The most common use for `newaxis` is when you have a 1D array and need to perform an operation\n",
    "# that explicitly expects a 2D array (e.g., a single feature vector for a machine learning model).\n",
    "# E.g., a model might expect `(number_of_samples, number_of_features)`\n",
    "single_feature_vector = np.array([1.5, 2.3, 0.8]) # 3 features for one sample\n",
    "# A model expecting (1, 3) shape for a single sample would require:\n",
    "model_input = single_feature_vector[np.newaxis, :]\n",
    "print(\"\\nSingle feature vector for model input:\", model_input)\n",
    "print(\"Shape of model input:\", model_input.shape)"
   ]
  },
  {
   "cell_type": "markdown",
   "id": "d84b112e",
   "metadata": {},
   "source": [
    "\n",
    "-----\n",
    "\n",
    "### ❓ Quick Quiz\\!\n",
    "\n",
    "1.  You have an array `data = np.arange(16)`. How would you reshape it into a 4x4 matrix?\n",
    "2.  What is the key difference between `my_array.ravel()` and `my_array.flatten()` in terms of memory and modification?\n",
    "3.  Given a 2D array `M = np.array([[1, 2], [3, 4]])`, what will `M.T` produce?"
   ]
  },
  {
   "cell_type": "markdown",
   "id": "870d1f12",
   "metadata": {},
   "source": []
  },
  {
   "cell_type": "markdown",
   "id": "7547abf6",
   "metadata": {},
   "source": [
    "\n",
    "\n",
    "\n",
    "-----\n",
    "\n",
    "### 🎯 Real-World Mini-Project: Image Processing Basics\\!\n",
    "\n",
    "In image processing, images are often represented as NumPy arrays. A grayscale image might be a 2D array (height x width), and a color image a 3D array (height x width x color\\_channels).\n",
    "\n",
    "**Challenge:**\n",
    "\n",
    "1.  Imagine a tiny 5x5 grayscale image represented by a 1D array of 25 pixels from 0 to 24 (use `np.arange(25)`). Reshape this 1D array into a 5x5 2D array to represent the image correctly.\n",
    "2.  You want to \"rotate\" this grayscale image. Transpose the 5x5 image array.\n",
    "3.  Now, imagine you have a *single* row of pixel values `[255, 128, 0]` (representing Red, Green, Blue for one pixel). Your image processing function, however, expects input in the format of `(number_of_pixels, number_of_channels)`. Use `np.newaxis` to convert this 1D pixel array into the correct 2D shape for the function.\n",
    "\n",
    "<!-- end list -->\n",
    "\n"
   ]
  },
  {
   "cell_type": "code",
   "execution_count": null,
   "id": "5ea3e637",
   "metadata": {},
   "outputs": [],
   "source": [
    "# Your code for Real-World Mini-Project here!\n",
    "import numpy as np\n",
    "\n",
    "# 1. Create and reshape a 5x5 grayscale image\n",
    "print(\"1. Original 1D pixels:\")\n",
    "image_pixels_1d = np.arange(25)\n",
    "\n",
    "print(\"\\nReshaped 5x5 grayscale image:\\n\")\n",
    "\n",
    "\n",
    "# 2. Transpose the 5x5 image\n",
    "print(\"\\n2. Transposed image:\\n\")\n",
    "\n",
    "\n",
    "# 3. Prepare a single pixel for a function expecting (num_pixels, num_channels)\n",
    "print(\"\\n3. Original 1D pixel values:\")\n",
    "single_pixel_rgb = np.array([255, 128, 0])\n",
    "\n",
    "print(\"\\nPixel for model input (shape should be (1, 3)):\\n\")"
   ]
  },
  {
   "cell_type": "markdown",
   "id": "b64644a2",
   "metadata": {},
   "source": [
    "\n",
    "-----\n",
    "\n",
    "# **🌟 Section 2: Intermediate NumPy**\n",
    "\n",
    "Welcome to the next level of your NumPy journey\\! In this section, we'll dive into more advanced functionalities that make NumPy indispensable for data analysis, statistics, and machine learning. Get ready to crunch numbers like a pro\\! 🚀\n"
   ]
  },
  {
   "cell_type": "markdown",
   "id": "4c64128f",
   "metadata": {},
   "source": [
    "\n",
    "-----\n",
    "\n",
    "# 2.1 Aggregation Functions\n",
    "\n",
    "Aggregation functions (also known as reduction operations) are super useful for summarizing your data. Instead of looking at individual numbers, you can quickly get insights like the total sum, average, minimum, maximum, or how spread out your data is. It's like turning a huge table of numbers into a few key statistics\\! 📈\n",
    "\n",
    "### 2.1.1 Basic Aggregations: The Essentials\\! ✨\n",
    "\n",
    "NumPy provides highly optimized functions for common statistical operations. When applied to an entire array without specifying an `axis`, they return a single value summarizing all elements.\n"
   ]
  },
  {
   "cell_type": "code",
   "execution_count": 53,
   "id": "f1ddca6b",
   "metadata": {},
   "outputs": [
    {
     "name": "stdout",
     "output_type": "stream",
     "text": [
      "Original 1D Data: [10  2  8 15  5 12]\n",
      "Original 2D Data:\n",
      " [[1 2 3]\n",
      " [4 5 6]\n",
      " [7 8 9]]\n",
      "\n",
      "--- 1D Array Aggregations ---\n",
      "Sum: 52\n",
      "Mean: 8.666666666666666\n",
      "Min: 2\n",
      "Max: 15\n",
      "Standard Deviation (std): 4.307615994440028\n",
      "Variance (var): 18.555555555555554\n",
      "\n",
      "--- 2D Array Aggregations (across all elements) ---\n",
      "Sum (2D): 45\n",
      "Mean (2D): 5.0\n",
      "Min (2D): 1\n",
      "Max (2D): 9\n"
     ]
    }
   ],
   "source": [
    "import numpy as np\n",
    "\n",
    "# Let's create some sample data\n",
    "data_1d = np.array([10, 2, 8, 15, 5, 12])\n",
    "data_2d = np.array([[1, 2, 3],\n",
    "                    [4, 5, 6],\n",
    "                    [7, 8, 9]])\n",
    "\n",
    "print(\"Original 1D Data:\", data_1d)\n",
    "print(\"Original 2D Data:\\n\", data_2d)\n",
    "\n",
    "print(\"\\n--- 1D Array Aggregations ---\")\n",
    "# Sum of all elements\n",
    "print(\"Sum:\", data_1d.sum())\n",
    "# Alternative syntax: np.sum(data_1d)\n",
    "\n",
    "# Mean (average) of all elements\n",
    "print(\"Mean:\", data_1d.mean())\n",
    "# Alternative syntax: np.mean(data_1d)\n",
    "\n",
    "# Minimum element\n",
    "print(\"Min:\", data_1d.min())\n",
    "# Alternative syntax: np.min(data_1d)\n",
    "\n",
    "# Maximum element\n",
    "print(\"Max:\", data_1d.max())\n",
    "# Alternative syntax: np.max(data_1d)\n",
    "\n",
    "# Standard Deviation (measure of data dispersion/spread)\n",
    "print(\"Standard Deviation (std):\", data_1d.std())\n",
    "# Alternative syntax: np.std(data_1d)\n",
    "\n",
    "# Variance (average of the squared differences from the Mean)\n",
    "print(\"Variance (var):\", data_1d.var())\n",
    "# Alternative syntax: np.var(data_1d)\n",
    "\n",
    "print(\"\\n--- 2D Array Aggregations (across all elements) ---\")\n",
    "# When applied to 2D (or higher) arrays without an axis, they flatten the array mentally\n",
    "# and operate on all elements.\n",
    "print(\"Sum (2D):\", data_2d.sum())\n",
    "print(\"Mean (2D):\", data_2d.mean())\n",
    "print(\"Min (2D):\", data_2d.min())\n",
    "print(\"Max (2D):\", data_2d.max())"
   ]
  },
  {
   "cell_type": "markdown",
   "id": "6ff0e6bf",
   "metadata": {},
   "source": [
    "\n",
    "**💡 Pro Tip:** Using `array.method()` (e.g., `data_1d.sum()`) is generally preferred for readability and slightly better performance than `np.method(array)` (e.g., `np.sum(data_1d)`), though both work\\!\n",
    "\n",
    "### 2.1.2 Aggregating Along Axes: Rows vs. Columns\\! ↕️↔️\n",
    "\n",
    "This is where aggregations become truly powerful for multi-dimensional data. By using the `axis` parameter, you can specify along which dimension the aggregation should occur.\n",
    "\n",
    "  * `axis=0`: Operates down the **columns**. It collapses the rows. Think \"column-wise\" or \"per column\".\n",
    "  * `axis=1`: Operates across the **rows**. It collapses the columns. Think \"row-wise\" or \"per row\".\n",
    "\n",
    "Let's use our `data_2d` example:\n",
    "\n",
    "\n",
    "```\n",
    "[[1, 2, 3],   <-- Row 0\n",
    " [4, 5, 6],   <-- Row 1\n",
    " [7, 8, 9]]   <-- Row 2\n",
    "  ^  ^  ^\n",
    "  |  |  |\n",
    "Col 0 Col 1 Col 2\n",
    "```\n"
   ]
  },
  {
   "cell_type": "code",
   "execution_count": 54,
   "id": "a9aa0dae",
   "metadata": {},
   "outputs": [
    {
     "name": "stdout",
     "output_type": "stream",
     "text": [
      "Original 2D Data:\n",
      " [[1 2 3]\n",
      " [4 5 6]\n",
      " [7 8 9]]\n",
      "\n",
      "--- Aggregating along AXIS=0 (columns) ---\n",
      "Sum along axis=0 (columns): [12 15 18]\n",
      "Mean along axis=0 (columns): [4. 5. 6.]\n",
      "Min along axis=0 (columns): [1 2 3]\n",
      "\n",
      "--- Aggregating along AXIS=1 (rows) ---\n",
      "Sum along axis=1 (rows): [ 6 15 24]\n",
      "Mean along axis=1 (rows): [2. 5. 8.]\n",
      "Max along axis=1 (rows): [3 6 9]\n"
     ]
    }
   ],
   "source": [
    "# Our 2D data again\n",
    "data_2d = np.array([[1, 2, 3],\n",
    "                    [4, 5, 6],\n",
    "                    [7, 8, 9]])\n",
    "print(\"Original 2D Data:\\n\", data_2d)\n",
    "\n",
    "print(\"\\n--- Aggregating along AXIS=0 (columns) ---\")\n",
    "# Sum of each column\n",
    "# (1+4+7), (2+5+8), (3+6+9)\n",
    "sum_cols = data_2d.sum(axis=0)\n",
    "print(\"Sum along axis=0 (columns):\", sum_cols) # Output: [12 15 18]\n",
    "\n",
    "# Mean of each column\n",
    "mean_cols = data_2d.mean(axis=0)\n",
    "print(\"Mean along axis=0 (columns):\", mean_cols) # Output: [4. 5. 6.]\n",
    "\n",
    "# Min of each column\n",
    "min_cols = data_2d.min(axis=0)\n",
    "print(\"Min along axis=0 (columns):\", min_cols) # Output: [1 2 3]\n",
    "\n",
    "print(\"\\n--- Aggregating along AXIS=1 (rows) ---\")\n",
    "# Sum of each row\n",
    "# (1+2+3), (4+5+6), (7+8+9)\n",
    "sum_rows = data_2d.sum(axis=1)\n",
    "print(\"Sum along axis=1 (rows):\", sum_rows) # Output: [ 6 15 24]\n",
    "\n",
    "# Mean of each row\n",
    "mean_rows = data_2d.mean(axis=1)\n",
    "print(\"Mean along axis=1 (rows):\", mean_rows) # Output: [2. 5. 8.]\n",
    "\n",
    "# Max of each row\n",
    "max_rows = data_2d.max(axis=1)\n",
    "print(\"Max along axis=1 (rows):\", max_rows) # Output: [3 6 9]"
   ]
  },
  {
   "cell_type": "markdown",
   "id": "5abd3462",
   "metadata": {},
   "source": [
    "\n",
    "**Common Pitfall:** New learners often confuse `axis=0` and `axis=1`. A good way to remember:\n",
    "\n",
    "  * `axis=0` means the operation applies *down* the 0-th dimension (rows). The result has one less 0-th dimension, effectively summing *each column*.\n",
    "  * `axis=1` means the operation applies *across* the 1st dimension (columns). The result has one less 1st dimension, effectively summing *each row*.\n",
    "\n",
    "### 2.1.3 `cumsum()` and `cumprod()`: Cumulative Operations 🏃‍♀️📦\n",
    "\n",
    "Instead of just a single sum or product, cumulative operations give you a \"running total\" or \"running product\" of the elements.\n",
    "\n",
    "#### `cumsum()`: Running Sum\\!\n"
   ]
  },
  {
   "cell_type": "code",
   "execution_count": 55,
   "id": "73ea73c1",
   "metadata": {},
   "outputs": [
    {
     "name": "stdout",
     "output_type": "stream",
     "text": [
      "Original 1D Data for cumulative: [1 2 3 4 5]\n",
      "Cumulative Sum: [ 1  3  6 10 15]\n",
      "\n",
      "Original 2D Data for cumulative:\n",
      " [[1 2 3]\n",
      " [4 5 6]\n",
      " [7 8 9]]\n",
      "Cumulative Sum along axis=0:\n",
      " [[ 1  2  3]\n",
      " [ 5  7  9]\n",
      " [12 15 18]]\n",
      "Cumulative Sum along axis=1:\n",
      " [[ 1  3  6]\n",
      " [ 4  9 15]\n",
      " [ 7 15 24]]\n"
     ]
    }
   ],
   "source": [
    "# 1D Array\n",
    "data_1d_cumulative = np.array([1, 2, 3, 4, 5])\n",
    "print(\"Original 1D Data for cumulative:\", data_1d_cumulative)\n",
    "\n",
    "# Cumulative sum\n",
    "cumulative_sum = data_1d_cumulative.cumsum()\n",
    "print(\"Cumulative Sum:\", cumulative_sum) # Output: [ 1  3  6 10 15]\n",
    "# (1), (1+2), (1+2+3), ...\n",
    "\n",
    "# 2D Array with axis\n",
    "data_2d_cumulative = np.array([[1, 2, 3],\n",
    "                               [4, 5, 6],\n",
    "                               [7, 8, 9]])\n",
    "print(\"\\nOriginal 2D Data for cumulative:\\n\", data_2d_cumulative)\n",
    "\n",
    "# Cumulative sum along axis=0 (column-wise)\n",
    "# Each column gets its own running sum\n",
    "# Col 0: (1), (1+4), (1+4+7) => [1, 5, 12]\n",
    "# Col 1: (2), (2+5), (2+5+8) => [2, 7, 15]\n",
    "# Col 2: (3), (3+6), (3+6+9) => [3, 9, 18]\n",
    "cumsum_axis0 = data_2d_cumulative.cumsum(axis=0)\n",
    "print(\"Cumulative Sum along axis=0:\\n\", cumsum_axis0)\n",
    "\n",
    "# Cumulative sum along axis=1 (row-wise)\n",
    "# Each row gets its own running sum\n",
    "# Row 0: (1), (1+2), (1+2+3) => [1, 3, 6]\n",
    "# Row 1: (4), (4+5), (4+5+6) => [4, 9, 15]\n",
    "# Row 2: (7), (7+8), (7+8+9) => [7, 15, 24]\n",
    "cumsum_axis1 = data_2d_cumulative.cumsum(axis=1)\n",
    "print(\"Cumulative Sum along axis=1:\\n\", cumsum_axis1)"
   ]
  },
  {
   "cell_type": "markdown",
   "id": "aabdc8d7",
   "metadata": {},
   "source": [
    "#### `cumprod()`: Running Product\\!\n",
    "\n",
    "Works exactly like `cumsum()`, but calculates the running product instead.\n"
   ]
  },
  {
   "cell_type": "code",
   "execution_count": 56,
   "id": "13392246",
   "metadata": {},
   "outputs": [
    {
     "name": "stdout",
     "output_type": "stream",
     "text": [
      "\n",
      "Original 1D Data for cumulative product: [1 2 3 4]\n",
      "Cumulative Product: [ 1  2  6 24]\n",
      "\n",
      "Original 2D Data for cumulative product:\n",
      " [[1 2]\n",
      " [3 4]]\n",
      "Cumulative Product along axis=1:\n",
      " [[ 1  2]\n",
      " [ 3 12]]\n"
     ]
    }
   ],
   "source": [
    "data_1d_prod = np.array([1, 2, 3, 4])\n",
    "print(\"\\nOriginal 1D Data for cumulative product:\", data_1d_prod)\n",
    "\n",
    "# Cumulative product\n",
    "cumulative_prod = data_1d_prod.cumprod()\n",
    "print(\"Cumulative Product:\", cumulative_prod) # Output: [ 1  2  6 24]\n",
    "# (1), (1*2), (1*2*3), (1*2*3*4)\n",
    "\n",
    "# 2D Array cumulative product along axis=1\n",
    "data_2d_prod = np.array([[1, 2],\n",
    "                         [3, 4]])\n",
    "print(\"\\nOriginal 2D Data for cumulative product:\\n\", data_2d_prod)\n",
    "cumprod_axis1 = data_2d_prod.cumprod(axis=1)\n",
    "print(\"Cumulative Product along axis=1:\\n\", cumprod_axis1)"
   ]
  },
  {
   "cell_type": "markdown",
   "id": "0c8f6929",
   "metadata": {},
   "source": [
    "\n",
    "-----\n",
    "\n",
    "### ❓ Quick Quiz\\!\n",
    "\n",
    "1.  Given `arr = np.array([[10, 20], [30, 40]])`, what is `arr.max(axis=0)`?\n",
    "2.  If you have a 1D array of daily stock prices, and you want to calculate the total profit/loss up to each day, which cumulative function would you use?\n",
    "3.  When would you prefer to use `np.mean()` over manually summing and dividing using Python loops?\n"
   ]
  },
  {
   "cell_type": "markdown",
   "id": "df893e60",
   "metadata": {},
   "source": []
  },
  {
   "cell_type": "markdown",
   "id": "39065793",
   "metadata": {},
   "source": [
    "\n",
    "\n",
    "-----\n",
    "\n",
    "### 🎯 Real-World Mini-Project: E-commerce Sales Analysis\\!\n",
    "\n",
    "Imagine you are analyzing sales data for an e-commerce store. You have a 2D array representing sales figures, where rows are different product categories (e.g., Electronics, Clothing, Books) and columns are sales for each of the last 4 quarters.\n",
    "\n",
    "`sales_data = np.array([[100, 150, 120, 180], # Electronics [50, 60, 70, 80],    # Clothing [200, 220, 190, 210]]) # Books`\n",
    "\n",
    "**Challenge:**\n",
    "\n",
    "1.  Calculate the **total sales** across all products for all quarters.\n",
    "2.  Find the **average sales** for *each product category* across all quarters. (Hint: aggregate along the correct axis\\!)\n",
    "3.  Identify the **minimum sales figure** in *each quarter*. (Hint: aggregate along the correct axis\\!)\n",
    "4.  For the 'Books' category (last row), calculate the **cumulative sum of sales** quarter by quarter. This shows the running total of book sales.\n"
   ]
  },
  {
   "cell_type": "code",
   "execution_count": null,
   "id": "8d9c444a",
   "metadata": {},
   "outputs": [],
   "source": [
    "# Your code for Real-World Mini-Project here!\n",
    "import numpy as np\n",
    "\n",
    "sales_data = np.array([[100, 150, 120, 180], # Electronics\n",
    "                       [50, 60, 70, 80],    # Clothing\n",
    "                       [200, 220, 190, 210]]) # Books\n",
    "\n",
    "print(\"Sales Data:\\n\", sales_data)\n",
    "\n",
    "# 1. Total sales across all products for all quarters\n",
    "print(\"\\n1. Total Sales:\")\n",
    "\n",
    "\n",
    "# 2. Average sales for each product category (across quarters)\n",
    "print(\"\\n2. Average Sales Per Category:\")\n",
    "\n",
    "\n",
    "# 3. Minimum sales figure in each quarter (across categories)\n",
    "print(\"\\n3. Minimum Sales Per Quarter:\")\n",
    "\n",
    "\n",
    "# 4. Cumulative sum of sales for the 'Books' category\n",
    "print(\"\\n4. Cumulative Sales for Books Category:\")\n"
   ]
  },
  {
   "cell_type": "markdown",
   "id": "1345ac64",
   "metadata": {},
   "source": [
    "\n",
    "-----\n",
    "\n",
    "# 2.2 Array Manipulation\n",
    "\n",
    "NumPy offers a variety of functions to combine arrays, break them apart, or duplicate their content in interesting ways. These are essential tools for managing your data, especially when dealing with multiple datasets that need to be aligned or broken down. 🧩\n",
    "\n",
    "### 2.2.1 Concatenation: Sticking Arrays Together\\! 🔗\n",
    "\n",
    "Concatenation means joining arrays along an existing axis. Think of it like stacking Lego bricks\\! You can join them side-by-side or one on top of the other.\n",
    "\n",
    "#### `np.concatenate()`: The General Purpose Joiner\n",
    "\n",
    "This is the most versatile function for joining arrays. You pass it a sequence (like a list or tuple) of arrays to join and specify the `axis` along which to join them.\n",
    "\n",
    "  * `axis=0`: Stacks arrays vertically (along rows). Rows are added to the bottom.\n",
    "  * `axis=1`: Stacks arrays horizontally (along columns). Columns are added to the right.\n"
   ]
  },
  {
   "cell_type": "code",
   "execution_count": 57,
   "id": "702f5ac8",
   "metadata": {},
   "outputs": [
    {
     "name": "stdout",
     "output_type": "stream",
     "text": [
      "Concatenated 1D: [1 2 3 4 5 6]\n",
      "\n",
      "Vertical Concatenation (axis=0):\n",
      " [[10 20]\n",
      " [30 40]\n",
      " [50 60]\n",
      " [70 80]]\n",
      "\n",
      "Horizontal Concatenation (axis=1):\n",
      " [[10 20 50 60]\n",
      " [30 40 70 80]]\n"
     ]
    }
   ],
   "source": [
    "import numpy as np\n",
    "\n",
    "arr1_1d = np.array([1, 2, 3])\n",
    "arr2_1d = np.array([4, 5, 6])\n",
    "\n",
    "# Concatenate 1D arrays (always defaults to axis=0 if no axis specified for 1D)\n",
    "concatenated_1d = np.concatenate((arr1_1d, arr2_1d))\n",
    "print(\"Concatenated 1D:\", concatenated_1d)\n",
    "\n",
    "# 2D Arrays\n",
    "matrix1 = np.array([[10, 20],\n",
    "                    [30, 40]]) # Shape (2, 2)\n",
    "\n",
    "matrix2 = np.array([[50, 60],\n",
    "                    [70, 80]]) # Shape (2, 2)\n",
    "\n",
    "# Concatenate vertically (along axis=0): Stacks rows on top of each other\n",
    "# Resulting shape: (4, 2)\n",
    "vertical_concat = np.concatenate((matrix1, matrix2), axis=0)\n",
    "print(\"\\nVertical Concatenation (axis=0):\\n\", vertical_concat)\n",
    "\n",
    "# Concatenate horizontally (along axis=1): Stacks columns side-by-side\n",
    "# Resulting shape: (2, 4)\n",
    "horizontal_concat = np.concatenate((matrix1, matrix2), axis=1)\n",
    "print(\"\\nHorizontal Concatenation (axis=1):\\n\", horizontal_concat)\n",
    "\n",
    "# Important: Arrays must have compatible shapes along the non-concatenating axis.\n",
    "# E.g., for axis=0, columns must match. For axis=1, rows must match.\n",
    "# This would fail because the number of columns doesn't match for axis=0:\n",
    "# matrix3 = np.array([[1, 2, 3]])\n",
    "# failed_concat = np.concatenate((matrix1, matrix3), axis=0) # Will error!"
   ]
  },
  {
   "cell_type": "markdown",
   "id": "17074ebf",
   "metadata": {},
   "source": [
    "\n",
    "#### `np.vstack()`: Vertical Stack (Row-wise) ⬇️\n",
    "\n",
    "A convenient helper for `np.concatenate(..., axis=0)`. It stacks arrays as rows. They must have the same number of columns.\n"
   ]
  },
  {
   "cell_type": "code",
   "execution_count": 58,
   "id": "afdb90ff",
   "metadata": {},
   "outputs": [
    {
     "name": "stdout",
     "output_type": "stream",
     "text": [
      "\n",
      "Vertically Stacked (np.vstack):\n",
      " [[1 2]\n",
      " [3 4]\n",
      " [5 6]\n",
      " [7 8]]\n",
      "\n",
      "VStacking 1D arrays into 2D:\n",
      " [[10 20 30]\n",
      " [40 50 60]]\n"
     ]
    }
   ],
   "source": [
    "matrix_a = np.array([[1, 2], [3, 4]])\n",
    "matrix_b = np.array([[5, 6], [7, 8]])\n",
    "\n",
    "v_stacked = np.vstack((matrix_a, matrix_b))\n",
    "print(\"\\nVertically Stacked (np.vstack):\\n\", v_stacked)\n",
    "\n",
    "# Can also stack 1D arrays into rows of a 2D array\n",
    "row1_data = np.array([10, 20, 30])\n",
    "row2_data = np.array([40, 50, 60])\n",
    "v_stacked_1d_to_2d = np.vstack((row1_data, row2_data))\n",
    "print(\"\\nVStacking 1D arrays into 2D:\\n\", v_stacked_1d_to_2d)"
   ]
  },
  {
   "cell_type": "markdown",
   "id": "e93594ba",
   "metadata": {},
   "source": [
    "\n",
    "#### `np.hstack()`: Horizontal Stack (Column-wise) ➡️\n",
    "\n",
    "A convenient helper for `np.concatenate(..., axis=1)`. It stacks arrays as columns. They must have the same number of rows.\n"
   ]
  },
  {
   "cell_type": "code",
   "execution_count": 59,
   "id": "c9270004",
   "metadata": {},
   "outputs": [
    {
     "name": "stdout",
     "output_type": "stream",
     "text": [
      "\n",
      "Horizontally Stacked (np.hstack):\n",
      " [[10 30]\n",
      " [20 40]]\n",
      "\n",
      "HStacking 1D arrays:\n",
      " [1 2 3 4 5 6]\n"
     ]
    }
   ],
   "source": [
    "matrix_c = np.array([[10], [20]])\n",
    "matrix_d = np.array([[30], [40]])\n",
    "\n",
    "h_stacked = np.hstack((matrix_c, matrix_d))\n",
    "print(\"\\nHorizontally Stacked (np.hstack):\\n\", h_stacked)\n",
    "\n",
    "# Can also stack 1D arrays side-by-side to form a wider 1D array\n",
    "col1_data = np.array([1, 2, 3])\n",
    "col2_data = np.array([4, 5, 6])\n",
    "h_stacked_1d = np.hstack((col1_data, col2_data)) # For 1D, hstack behaves like basic concatenate\n",
    "print(\"\\nHStacking 1D arrays:\\n\", h_stacked_1d)"
   ]
  },
  {
   "cell_type": "markdown",
   "id": "6bb36c70",
   "metadata": {},
   "source": [
    "\n",
    "**💡 Pro Tip:** For simple vertical or horizontal stacking of 2D arrays, `vstack()` and `hstack()` are often more readable than `concatenate()` with the `axis` parameter.\n",
    "\n",
    "### 2.2.2 Splitting Arrays: Breaking Them Apart\\! ✂️\n",
    "\n",
    "Splitting is the opposite of concatenation\\! You can divide an array into multiple smaller arrays.\n",
    "\n",
    "#### `np.split()`: The General Purpose Splitter\n",
    "\n",
    "You pass it the array to split, and either:\n",
    "\n",
    "1.  An integer, `N`, for the number of equal sub-arrays to create. The array must be evenly divisible by `N` along the specified `axis`.\n",
    "2.  A list of indices where the array should be split.\n",
    "\n",
    "<!-- end list -->"
   ]
  },
  {
   "cell_type": "code",
   "execution_count": 60,
   "id": "80a6de5a",
   "metadata": {},
   "outputs": [
    {
     "name": "stdout",
     "output_type": "stream",
     "text": [
      "Original Data to Split:\n",
      " [[ 0  1  2  3]\n",
      " [ 4  5  6  7]\n",
      " [ 8  9 10 11]\n",
      " [12 13 14 15]]\n",
      "\n",
      "Split vertically into 2 parts (axis=0):\n",
      "Part 1:\n",
      " [[0 1 2 3]\n",
      " [4 5 6 7]]\n",
      "Part 2:\n",
      " [[ 8  9 10 11]\n",
      " [12 13 14 15]]\n",
      "\n",
      "Split horizontally into 4 parts (axis=1):\n",
      "Part 1 (column 0):\n",
      " [[ 0]\n",
      " [ 4]\n",
      " [ 8]\n",
      " [12]]\n",
      "Part 2 (column 1):\n",
      " [[ 1]\n",
      " [ 5]\n",
      " [ 9]\n",
      " [13]]\n",
      "\n",
      "1D array split at indices [3, 7]:\n",
      "[1 2 3]\n",
      "[4 5 6 7]\n",
      "[ 8  9 10]\n"
     ]
    }
   ],
   "source": [
    "data_to_split = np.arange(16).reshape(4, 4)\n",
    "print(\"Original Data to Split:\\n\", data_to_split)\n",
    "\n",
    "# Split into 2 equal parts vertically (axis=0)\n",
    "split_vertical = np.split(data_to_split, 2, axis=0)\n",
    "print(\"\\nSplit vertically into 2 parts (axis=0):\")\n",
    "print(\"Part 1:\\n\", split_vertical[0])\n",
    "print(\"Part 2:\\n\", split_vertical[1])\n",
    "\n",
    "# Split into 4 equal parts horizontally (axis=1)\n",
    "split_horizontal = np.split(data_to_split, 4, axis=1)\n",
    "print(\"\\nSplit horizontally into 4 parts (axis=1):\")\n",
    "print(\"Part 1 (column 0):\\n\", split_horizontal[0])\n",
    "print(\"Part 2 (column 1):\\n\", split_horizontal[1])\n",
    "# ... and so on\n",
    "\n",
    "# Splitting at specific indices (e.g., after index 1, and after index 3)\n",
    "# For a 1D array\n",
    "arr_1d_split = np.array([1, 2, 3, 4, 5, 6, 7, 8, 9, 10])\n",
    "split_at_indices = np.split(arr_1d_split, [3, 7]) # Split before index 3, and before index 7\n",
    "print(\"\\n1D array split at indices [3, 7]:\")\n",
    "print(split_at_indices[0]) # Elements before index 3\n",
    "print(split_at_indices[1]) # Elements from index 3 up to (but not including) 7\n",
    "print(split_at_indices[2]) # Elements from index 7 to end"
   ]
  },
  {
   "cell_type": "markdown",
   "id": "31fd50c1",
   "metadata": {},
   "source": [
    "\n",
    "#### `np.vsplit()`: Vertical Split (by rows) ⬆️⬇️\n",
    "\n",
    "A convenient helper for `np.split(..., axis=0)`. Splits an array into sub-arrays vertically (along rows).\n"
   ]
  },
  {
   "cell_type": "code",
   "execution_count": 61,
   "id": "3ecdc364",
   "metadata": {},
   "outputs": [
    {
     "name": "stdout",
     "output_type": "stream",
     "text": [
      "\n",
      "Matrix for VSplit:\n",
      " [[ 0  1  2  3]\n",
      " [ 4  5  6  7]\n",
      " [ 8  9 10 11]\n",
      " [12 13 14 15]\n",
      " [16 17 18 19]]\n",
      "\n",
      "V-split into 5 rows (first row):\n",
      " [[0 1 2 3]]\n",
      "\n",
      "V-split at row index 2:\n",
      "Top part:\n",
      " [[0 1 2 3]\n",
      " [4 5 6 7]]\n",
      "Bottom part:\n",
      " [[ 8  9 10 11]\n",
      " [12 13 14 15]\n",
      " [16 17 18 19]]\n"
     ]
    }
   ],
   "source": [
    "matrix_to_vsplit = np.arange(20).reshape(5, 4)\n",
    "print(\"\\nMatrix for VSplit:\\n\", matrix_to_vsplit)\n",
    "\n",
    "# Split into 5 rows (effectively a list of 1-row arrays)\n",
    "v_split_rows = np.vsplit(matrix_to_vsplit, 5)\n",
    "print(\"\\nV-split into 5 rows (first row):\\n\", v_split_rows[0])\n",
    "\n",
    "# Split into two parts at row index 2 (after the second row)\n",
    "v_split_at_index = np.vsplit(matrix_to_vsplit, [2])\n",
    "print(\"\\nV-split at row index 2:\")\n",
    "print(\"Top part:\\n\", v_split_at_index[0])\n",
    "print(\"Bottom part:\\n\", v_split_at_index[1])"
   ]
  },
  {
   "cell_type": "markdown",
   "id": "abd20b7f",
   "metadata": {},
   "source": [
    "\n",
    "#### `np.hsplit()`: Horizontal Split (by columns) ⬅️➡️\n",
    "\n",
    "A convenient helper for `np.split(..., axis=1)`. Splits an array into sub-arrays horizontally (along columns).\n"
   ]
  },
  {
   "cell_type": "code",
   "execution_count": 62,
   "id": "4a8d3f36",
   "metadata": {},
   "outputs": [
    {
     "name": "stdout",
     "output_type": "stream",
     "text": [
      "\n",
      "Matrix for HSplit:\n",
      " [[ 0  1  2  3  4]\n",
      " [ 5  6  7  8  9]\n",
      " [10 11 12 13 14]\n",
      " [15 16 17 18 19]]\n",
      "\n",
      "H-split into 5 columns (first column):\n",
      " [[ 0]\n",
      " [ 5]\n",
      " [10]\n",
      " [15]]\n",
      "\n",
      "H-split at column index 3:\n",
      "Left part:\n",
      " [[ 0  1  2]\n",
      " [ 5  6  7]\n",
      " [10 11 12]\n",
      " [15 16 17]]\n",
      "Right part:\n",
      " [[ 3  4]\n",
      " [ 8  9]\n",
      " [13 14]\n",
      " [18 19]]\n"
     ]
    }
   ],
   "source": [
    "matrix_to_hsplit = np.arange(20).reshape(4, 5)\n",
    "print(\"\\nMatrix for HSplit:\\n\", matrix_to_hsplit)\n",
    "\n",
    "# Split into 5 columns (effectively a list of 1-column arrays)\n",
    "h_split_cols = np.hsplit(matrix_to_hsplit, 5)\n",
    "print(\"\\nH-split into 5 columns (first column):\\n\", h_split_cols[0])\n",
    "\n",
    "# Split into two parts at column index 3 (after the third column)\n",
    "h_split_at_index = np.hsplit(matrix_to_hsplit, [3])\n",
    "print(\"\\nH-split at column index 3:\")\n",
    "print(\"Left part:\\n\", h_split_at_index[0])\n",
    "print(\"Right part:\\n\", h_split_at_index[1])"
   ]
  },
  {
   "cell_type": "markdown",
   "id": "d9c4a87f",
   "metadata": {},
   "source": [
    "\n",
    "**Common Pitfall:** When using `split()` with an integer `N`, ensure the array's dimension is evenly divisible by `N`. Otherwise, you'll get a `ValueError`. Use indices if you need unequal splits.\n"
   ]
  },
  {
   "cell_type": "markdown",
   "id": "7434576f",
   "metadata": {},
   "source": [
    "\n",
    "-----\n",
    "\n",
    "### 2.2.3 Adding/Removing Elements: Handle with Caution\\! ⚠️\n",
    "\n",
    "While NumPy offers functions like `append()`, `insert()`, and `delete()`, it's **crucial to understand they are generally inefficient for large arrays** because they return **new copies** of the array. This involves allocating new memory and copying all existing data, which can be very slow for frequent operations on big datasets.\n",
    "\n",
    "If you need to frequently add/remove elements, consider:\n",
    "\n",
    "  * Using Python lists and converting to a NumPy array once all modifications are done.\n",
    "  * Pre-allocating a larger NumPy array and filling it, resizing only when necessary.\n",
    "\n",
    "#### `np.append()`: Adding to the End\n"
   ]
  },
  {
   "cell_type": "code",
   "execution_count": 63,
   "id": "3e28afd2",
   "metadata": {},
   "outputs": [
    {
     "name": "stdout",
     "output_type": "stream",
     "text": [
      "Original for append: [1 2 3]\n",
      "After appending 4: [1 2 3 4]\n",
      "After appending [5,6,7]: [1 2 3 5 6 7]\n",
      "\n",
      "Original 2D for append:\n",
      " [[10 20]\n",
      " [30 40]]\n",
      "After appending a row:\n",
      " [[10 20]\n",
      " [30 40]\n",
      " [50 60]]\n",
      "After appending a column:\n",
      " [[ 10  20 100]\n",
      " [ 30  40 200]]\n"
     ]
    }
   ],
   "source": [
    "original_array = np.array([1, 2, 3])\n",
    "print(\"Original for append:\", original_array)\n",
    "\n",
    "# Append a single value\n",
    "appended_array_1 = np.append(original_array, 4)\n",
    "print(\"After appending 4:\", appended_array_1)\n",
    "\n",
    "# Append multiple values (as a list/array)\n",
    "appended_array_2 = np.append(original_array, [5, 6, 7])\n",
    "print(\"After appending [5,6,7]:\", appended_array_2)\n",
    "\n",
    "# For 2D arrays, you need to specify axis\n",
    "matrix_2d = np.array([[10, 20], [30, 40]])\n",
    "print(\"\\nOriginal 2D for append:\\n\", matrix_2d)\n",
    "\n",
    "# Append a row (axis=0) - The appended array must match the column count\n",
    "appended_row = np.append(matrix_2d, [[50, 60]], axis=0)\n",
    "print(\"After appending a row:\\n\", appended_row)\n",
    "\n",
    "# Append a column (axis=1) - The appended array must match the row count\n",
    "appended_col = np.append(matrix_2d, [[100], [200]], axis=1) # Need to provide as column vector\n",
    "print(\"After appending a column:\\n\", appended_col)"
   ]
  },
  {
   "cell_type": "markdown",
   "id": "e59f9bea",
   "metadata": {},
   "source": [
    "\n",
    "#### `np.insert()`: Inserting at Specific Positions\n"
   ]
  },
  {
   "cell_type": "code",
   "execution_count": 64,
   "id": "0b9bdd52",
   "metadata": {},
   "outputs": [
    {
     "name": "stdout",
     "output_type": "stream",
     "text": [
      "Original for insert: [1 2 3 4 5]\n",
      "After inserting 99 at index 2: [ 1  2 99  3  4  5]\n",
      "After inserting [77, 88] at index 2: [ 1  2 77 88  3  4  5]\n",
      "\n",
      "Original 2D for insert:\n",
      " [[1 2]\n",
      " [3 4]]\n",
      "After inserting row [5,6] at index 1:\n",
      " [[1 2]\n",
      " [5 6]\n",
      " [3 4]]\n",
      "After inserting col [7,8] at index 1:\n",
      " [[1 7 2]\n",
      " [3 8 4]]\n"
     ]
    }
   ],
   "source": [
    "original_insert = np.array([1, 2, 3, 4, 5])\n",
    "print(\"Original for insert:\", original_insert)\n",
    "\n",
    "# Insert value 99 at index 2\n",
    "inserted_array = np.insert(original_insert, 2, 99)\n",
    "print(\"After inserting 99 at index 2:\", inserted_array)\n",
    "\n",
    "# Insert multiple values at a specific index\n",
    "inserted_multiple = np.insert(original_insert, 2, [77, 88])\n",
    "print(\"After inserting [77, 88] at index 2:\", inserted_multiple)\n",
    "\n",
    "# For 2D arrays, specifying axis\n",
    "matrix_insert = np.array([[1, 2], [3, 4]])\n",
    "print(\"\\nOriginal 2D for insert:\\n\", matrix_insert)\n",
    "\n",
    "# Insert a row at index 1 (between row 0 and row 1)\n",
    "# The inserted values must match the number of columns.\n",
    "inserted_row_2d = np.insert(matrix_insert, 1, [5, 6], axis=0)\n",
    "print(\"After inserting row [5,6] at index 1:\\n\", inserted_row_2d)\n",
    "\n",
    "# Insert a column at index 1 (between col 0 and col 1)\n",
    "# The inserted values must match the number of rows (or be broadcastable).\n",
    "inserted_col_2d = np.insert(matrix_insert, 1, [7, 8], axis=1)\n",
    "print(\"After inserting col [7,8] at index 1:\\n\", inserted_col_2d)"
   ]
  },
  {
   "cell_type": "markdown",
   "id": "8842d385",
   "metadata": {},
   "source": [
    "#### `np.delete()`: Removing Elements"
   ]
  },
  {
   "cell_type": "code",
   "execution_count": 65,
   "id": "a59357d3",
   "metadata": {},
   "outputs": [
    {
     "name": "stdout",
     "output_type": "stream",
     "text": [
      "Original for delete: [10 20 30 40 50]\n",
      "After deleting element at index 2: [10 20 40 50]\n",
      "After deleting elements at indices 0 and 4: [20 30 40]\n",
      "\n",
      "Original 2D for delete:\n",
      " [[1 2 3]\n",
      " [4 5 6]\n",
      " [7 8 9]]\n",
      "After deleting row at index 1:\n",
      " [[1 2 3]\n",
      " [7 8 9]]\n",
      "After deleting column at index 0:\n",
      " [[2 3]\n",
      " [5 6]\n",
      " [8 9]]\n"
     ]
    }
   ],
   "source": [
    "original_delete = np.array([10, 20, 30, 40, 50])\n",
    "print(\"Original for delete:\", original_delete)\n",
    "\n",
    "# Delete element at index 2 (value 30)\n",
    "deleted_array = np.delete(original_delete, 2)\n",
    "print(\"After deleting element at index 2:\", deleted_array)\n",
    "\n",
    "# Delete elements at multiple indices\n",
    "deleted_multiple = np.delete(original_delete, [0, 4]) # Delete 10 and 50\n",
    "print(\"After deleting elements at indices 0 and 4:\", deleted_multiple)\n",
    "\n",
    "# For 2D arrays, specifying axis\n",
    "matrix_delete = np.array([[1, 2, 3],\n",
    "                          [4, 5, 6],\n",
    "                          [7, 8, 9]])\n",
    "print(\"\\nOriginal 2D for delete:\\n\", matrix_delete)\n",
    "\n",
    "# Delete row at index 1 (row [4,5,6])\n",
    "deleted_row_2d = np.delete(matrix_delete, 1, axis=0)\n",
    "print(\"After deleting row at index 1:\\n\", deleted_row_2d)\n",
    "\n",
    "# Delete column at index 0 (column [1,4,7])\n",
    "deleted_col_2d = np.delete(matrix_delete, 0, axis=1)\n",
    "print(\"After deleting column at index 0:\\n\", deleted_col_2d)"
   ]
  },
  {
   "cell_type": "markdown",
   "id": "5d3e14a1",
   "metadata": {},
   "source": [
    "\n",
    "### 2.2.4 Tiling and Repeating: Duplicating Data\\! 👯‍♀️\n",
    "\n",
    "These functions are great for creating larger arrays by duplicating existing patterns.\n",
    "\n",
    "#### `np.tile()`: Repeat the Whole Array\n",
    "\n",
    "`np.tile(A, reps)` constructs an array by repeating `A` the number of times given by `reps`. `reps` can be a single integer or a tuple indicating repetitions along each dimension.\n"
   ]
  },
  {
   "cell_type": "code",
   "execution_count": 66,
   "id": "f830a0f9",
   "metadata": {},
   "outputs": [
    {
     "name": "stdout",
     "output_type": "stream",
     "text": [
      "Tiling a single value 4 times: [5 5 5 5]\n",
      "Tiling a 1D pattern 3 times: [1 2 1 2 1 2]\n",
      "\n",
      "Original Matrix Pattern:\n",
      " [[1 2]\n",
      " [3 4]]\n",
      "\n",
      "Tiled 2D Matrix (3 rows, 2 columns of patterns):\n",
      " [[1 2 1 2]\n",
      " [3 4 3 4]\n",
      " [1 2 1 2]\n",
      " [3 4 3 4]\n",
      " [1 2 1 2]\n",
      " [3 4 3 4]]\n"
     ]
    }
   ],
   "source": [
    "single_value = np.array([5])\n",
    "tiled_single = np.tile(single_value, 4)\n",
    "print(\"Tiling a single value 4 times:\", tiled_single) # Output: [5 5 5 5]\n",
    "\n",
    "row_pattern = np.array([1, 2])\n",
    "tiled_pattern = np.tile(row_pattern, 3)\n",
    "print(\"Tiling a 1D pattern 3 times:\", tiled_pattern) # Output: [1 2 1 2 1 2]\n",
    "\n",
    "# Tiling a 2D array\n",
    "matrix_pattern = np.array([[1, 2], [3, 4]])\n",
    "print(\"\\nOriginal Matrix Pattern:\\n\", matrix_pattern)\n",
    "\n",
    "# Tile 2 times horizontally, 3 times vertically\n",
    "# reps = (vertical_repeats, horizontal_repeats)\n",
    "tiled_2d = np.tile(matrix_pattern, (3, 2))\n",
    "print(\"\\nTiled 2D Matrix (3 rows, 2 columns of patterns):\\n\", tiled_2d)"
   ]
  },
  {
   "cell_type": "markdown",
   "id": "85d3dc18",
   "metadata": {},
   "source": [
    "\n",
    "#### `np.repeat()`: Repeat Each Element\n",
    "\n",
    "`np.repeat(a, repeats, axis=None)` repeats each element of an array `a` `repeats` times.\n"
   ]
  },
  {
   "cell_type": "code",
   "execution_count": 67,
   "id": "2a8b648d",
   "metadata": {},
   "outputs": [
    {
     "name": "stdout",
     "output_type": "stream",
     "text": [
      "Original for repeat: [1 2 3]\n",
      "Repeating each element 3 times: [1 1 1 2 2 2 3 3 3]\n",
      "\n",
      "Original 2D for repeat:\n",
      " [[1 2]\n",
      " [3 4]]\n",
      "Repeating each element (rows) 2 times:\n",
      " [[1 2]\n",
      " [1 2]\n",
      " [3 4]\n",
      " [3 4]]\n",
      "Repeating each element (columns) 2 times:\n",
      " [[1 1 2 2]\n",
      " [3 3 4 4]]\n"
     ]
    }
   ],
   "source": [
    "data_for_repeat = np.array([1, 2, 3])\n",
    "print(\"Original for repeat:\", data_for_repeat)\n",
    "\n",
    "# Repeat each element 3 times\n",
    "repeated_elements = np.repeat(data_for_repeat, 3)\n",
    "print(\"Repeating each element 3 times:\", repeated_elements) # Output: [1 1 1 2 2 2 3 3 3]\n",
    "\n",
    "# For 2D arrays, specify axis\n",
    "matrix_for_repeat = np.array([[1, 2], [3, 4]])\n",
    "print(\"\\nOriginal 2D for repeat:\\n\", matrix_for_repeat)\n",
    "\n",
    "# Repeat each element along axis=0 (rows) - duplicates rows\n",
    "repeated_rows = np.repeat(matrix_for_repeat, 2, axis=0)\n",
    "print(\"Repeating each element (rows) 2 times:\\n\", repeated_rows)\n",
    "\n",
    "# Repeat each element along axis=1 (columns) - duplicates columns\n",
    "repeated_cols = np.repeat(matrix_for_repeat, 2, axis=1)\n",
    "print(\"Repeating each element (columns) 2 times:\\n\", repeated_cols)"
   ]
  },
  {
   "cell_type": "markdown",
   "id": "74f1ab5a",
   "metadata": {},
   "source": [
    "\n",
    "-----\n",
    "\n",
    "### ❓ Quick Quiz\\!\n",
    "\n",
    "1.  You have two arrays `A = np.array([1, 2])` and `B = np.array([3, 4])`. What is the result of `np.hstack((A, B))`?\n",
    "2.  You have `big_data = np.arange(1000)`. Why would it be a bad idea to frequently use `np.append()` to add elements to this array in a loop?\n",
    "3.  How would you split a 2D array `M` into its individual rows, with each row being a separate array in a list?"
   ]
  },
  {
   "cell_type": "markdown",
   "id": "5d669cbb",
   "metadata": {},
   "source": [
    "\n",
    "\n",
    "\n",
    "-----\n",
    "\n",
    "### 🎯 Real-World Mini-Project: Sensor Data Stream\\!\n",
    "\n",
    "Imagine you are collecting sensor data from an experiment.\n",
    "\n",
    "**Challenge:**\n",
    "\n",
    "1.  You have initial temperature readings: `temp_initial = np.array([22.5, 23.1, 22.8])`. Later, you get more readings: `temp_new = np.array([23.0, 24.5, 24.0])`. Combine these two sets of readings into a single array representing all temperatures recorded.\n",
    "2.  Your sensor sometimes transmits data in batches. You receive a batch `batch_data = np.array([[10, 11, 12, 13], [14, 15, 16, 17]])`. You want to process the first two columns (channels) separately from the last two. Split `batch_data` horizontally into two arrays.\n",
    "3.  A specific sensor `sensor_A_reading = np.array([5.5])` needs to be recorded 5 times for a statistical measure. Create an array that repeats this single reading 5 times.\n",
    "4.  You've recorded data `data_points = np.array([10, 20, 30, 40])`. Due to an error, the value `25` was supposed to be recorded at index 1. Insert `25` at index 1 to correct the data.\n"
   ]
  },
  {
   "cell_type": "code",
   "execution_count": null,
   "id": "1481067a",
   "metadata": {},
   "outputs": [],
   "source": [
    "# Your code for Real-World Mini-Project here!\n",
    "import numpy as np\n",
    "\n",
    "# 1. Combine temperature readings\n",
    "temp_initial = np.array([22.5, 23.1, 22.8])\n",
    "temp_new = np.array([23.0, 24.5, 24.0])\n",
    "print(\"1. Combined Temperatures:\")\n",
    "\n",
    "\n",
    "# 2. Split batch data horizontally\n",
    "batch_data = np.array([[10, 11, 12, 13],\n",
    "                       [14, 15, 16, 17]])\n",
    "print(\"\\n2. Split Batch Data:\")\n",
    "\n",
    "\n",
    "# 3. Repeat a single sensor reading\n",
    "sensor_A_reading = np.array([5.5])\n",
    "print(\"\\n3. Repeated Sensor Reading:\")\n",
    "\n",
    "\n",
    "# 4. Insert a value into data_points\n",
    "data_points = np.array([10, 20, 30, 40])\n",
    "print(\"\\n4. Data points after insertion:\")"
   ]
  },
  {
   "cell_type": "markdown",
   "id": "bba9c3cd",
   "metadata": {},
   "source": [
    "\n",
    "-----\n",
    "\n",
    "# 2.3 Universal Functions (ufuncs)\n",
    "\n",
    "Get ready to meet another powerful feature of NumPy: **Universal Functions**, often shortened to **ufuncs**\\! These are simply functions that operate element-wise on NumPy arrays. This means they apply the same operation independently to each element in the array, producing a new array with the results. They are incredibly fast and efficient because they are implemented in compiled C code, not Python loops. ⚡\n"
   ]
  },
  {
   "cell_type": "markdown",
   "id": "512414cf",
   "metadata": {},
   "source": [
    "\n",
    "### 2.3.1 Introduction to Ufuncs: Element-wise Operations 🌐\n",
    "\n",
    "You've actually been using ufuncs already without explicitly knowing it\\! Basic arithmetic operations like `+`, `-`, `*`, `/` between arrays or between an array and a scalar are implemented as ufuncs under the hood. They automatically handle broadcasting and work element by element.\n",
    "\n",
    "**Why are Ufuncs important?**\n",
    "\n",
    "  * **Speed:** They are highly optimized and much faster than writing your own Python loops to perform element-wise operations on large arrays.\n",
    "  * **Flexibility:** They seamlessly work with arrays of any shape and automatically handle broadcasting rules.\n",
    "  * **Completeness:** NumPy provides a comprehensive set of ufuncs covering various mathematical, trigonometric, comparison, and logical operations.\n",
    "\n",
    "Let's see some common mathematical ufuncs in action\\! 🧪\n",
    "\n",
    "### 2.3.2 Mathematical Ufuncs: Your Scientific Calculator for Arrays\\! 🧮\n",
    "\n",
    "NumPy offers a vast collection of ufuncs for common mathematical operations. They take an array (or arrays) as input and return a new array with the results of the operation applied element-wise."
   ]
  },
  {
   "cell_type": "code",
   "execution_count": null,
   "id": "cd8e1a49",
   "metadata": {},
   "outputs": [],
   "source": [
    "import numpy as np\n",
    "\n",
    "# Sample 1D array\n",
    "arr_1d = np.array([-1, 0, 1, 2, 3.14, 4])\n",
    "\n",
    "# Sample 2D array\n",
    "arr_2d = np.array([[1, 4, 9],\n",
    "                   [16, 25, 36]])\n",
    "\n",
    "print(\"Original 1D array:\", arr_1d)\n",
    "print(\"Original 2D array:\\n\", arr_2d)\n",
    "\n",
    "print(\"\\n--- Basic Mathematical Ufuncs ---\")\n",
    "\n",
    "# Absolute value (removes negative signs)\n",
    "print(\"np.abs(arr_1d):\", np.abs(arr_1d))\n",
    "\n",
    "# Square root (for positive values)\n",
    "print(\"np.sqrt(arr_2d):\\n\", np.sqrt(arr_2d)) # Note: sqrt of negative numbers will be NaN (Not a Number)\n",
    "\n",
    "# Exponentiation (e^x, where e is Euler's number ~2.718)\n",
    "print(\"np.exp(arr_1d):\", np.exp(arr_1d)) # e^each_element\n",
    "\n",
    "# Logarithm (natural log, base e)\n",
    "# np.log(0) will result in -inf (negative infinity)\n",
    "# np.log of negative numbers will result in NaN\n",
    "print(\"np.log(arr_1d[2:]):\", np.log(arr_1d[2:])) # Taking log from index 2 onwards (positive numbers)\n",
    "\n",
    "# Sine (trigonometric function, input in radians)\n",
    "angle_radians = np.array([0, np.pi/2, np.pi]) # 0, 90 degrees, 180 degrees\n",
    "print(\"\\nnp.sin(angle_radians):\", np.sin(angle_radians)) # sin(0)=0, sin(pi/2)=1, sin(pi)=0 (approx)\n",
    "\n",
    "# Cosine (trigonometric function, input in radians)\n",
    "print(\"np.cos(angle_radians):\", np.cos(angle_radians)) # cos(0)=1, cos(pi/2)=0, cos(pi)=-1 (approx)\n",
    "\n",
    "# Other common ufuncs include:\n",
    "# np.ceil() - round up to the nearest integer\n",
    "# np.floor() - round down to the nearest integer\n",
    "# np.round() - round to the nearest integer (standard rounding rules)\n",
    "# np.power(base_array, exponent_array_or_scalar) - raise elements to a power\n",
    "# np.mod(array1, array2) - element-wise remainder of division"
   ]
  },
  {
   "cell_type": "markdown",
   "id": "c03ab4cb",
   "metadata": {},
   "source": [
    "\n",
    "**Common Pitfall:** Be careful with mathematical operations like `np.log()` or `np.sqrt()` on arrays that might contain values for which the operation is undefined (e.g., non-positive numbers for log, negative for sqrt). NumPy will produce `nan` (Not a Number) or `inf` (infinity) and sometimes warnings.\n",
    "\n",
    "### 2.3.3 Custom Ufuncs (Optional, for advanced users) 🧑‍🔬\n",
    "\n",
    "Sometimes, you have a custom Python function that you want to apply element-wise across a NumPy array, just like built-in ufuncs. NumPy allows you to \"vectorize\" a regular Python function using `np.frompyfunc()`. This converts your Python function into a ufunc, allowing it to work efficiently on NumPy arrays.\n",
    "\n",
    "**Syntax:** `np.frompyfunc(func, nin, nout)`\n",
    "\n",
    "  * `func`: The Python function to convert.\n",
    "  * `nin`: Number of input arguments for `func`.\n",
    "  * `nout`: Number of output arguments for `func`.\n",
    "\n",
    "Let's create a simple custom function and then make it a ufunc\\!\n"
   ]
  },
  {
   "cell_type": "code",
   "execution_count": 68,
   "id": "4928c1ca",
   "metadata": {},
   "outputs": [
    {
     "name": "stdout",
     "output_type": "stream",
     "text": [
      "Original Numbers: [1 2 3 4 5 6 7]\n",
      "Are numbers even (using custom ufunc)? [False True False True False True False]\n",
      "Dtype of custom ufunc result: object\n",
      "Casting to bool: [False  True False  True False  True False]\n"
     ]
    }
   ],
   "source": [
    "# A regular Python function that checks if a number is even\n",
    "def is_even_custom(number):\n",
    "    if number % 2 == 0:\n",
    "        return True\n",
    "    else:\n",
    "        return False\n",
    "\n",
    "# Convert our custom function into a ufunc\n",
    "# It takes 1 input (number) and produces 1 output (True/False)\n",
    "is_even_ufunc = np.frompyfunc(is_even_custom, 1, 1)\n",
    "\n",
    "data_numbers = np.array([1, 2, 3, 4, 5, 6, 7])\n",
    "print(\"Original Numbers:\", data_numbers)\n",
    "\n",
    "# Now apply our custom ufunc to the NumPy array\n",
    "result_is_even = is_even_ufunc(data_numbers)\n",
    "print(\"Are numbers even (using custom ufunc)?\", result_is_even)\n",
    "\n",
    "# Note: The output dtype of frompyfunc is usually 'object' by default.\n",
    "# You might need to convert it if you expect a specific type (e.g., boolean).\n",
    "print(\"Dtype of custom ufunc result:\", result_is_even.dtype)\n",
    "\n",
    "# We can cast it to bool if needed\n",
    "print(\"Casting to bool:\", result_is_even.astype(bool))"
   ]
  },
  {
   "cell_type": "markdown",
   "id": "98cd3f17",
   "metadata": {},
   "source": [
    "\n",
    "**💡 Pro Tip:** While `np.frompyfunc()` is useful for quickly applying arbitrary Python functions element-wise, it won't be as fast as native, pre-compiled NumPy ufuncs. For maximum performance, especially with complex operations, try to use existing NumPy functions or rewrite your logic to use vectorized operations directly. If your custom function is truly performance-critical and complex, you might consider writing it in a compiled language like C or using Numba/Cython.\n",
    "\n",
    "-----\n",
    "\n",
    "### ❓ Quick Quiz\\!\n",
    "\n",
    "1.  What is the main advantage of using NumPy's ufuncs compared to writing a standard Python `for` loop to perform element-wise operations on a large array?\n",
    "2.  If you have an array `angles_deg = np.array([0, 90, 180])` and you want to calculate their sine values, what should be your first step before applying `np.sin()`? (Hint: `np.sin()` expects a specific unit).\n",
    "3.  Given `arr = np.array([-5, 0, 5])`, what would `np.abs(arr)` produce?"
   ]
  },
  {
   "cell_type": "markdown",
   "id": "49ef41a9",
   "metadata": {},
   "source": [
    "\n",
    "-----\n",
    "\n",
    "### 🎯 Real-World Mini-Project: Data Normalization\\!\n",
    "\n",
    "A common step in data preprocessing for machine learning is **normalization**, where you transform data to a common scale. One simple method is to take the logarithm of values (often used for positively skewed data) or the square root. Another is min-max scaling, where you subtract the minimum and divide by the range.\n",
    "\n",
    "**Challenge:**\n",
    "\n",
    "1.  You have sensor readings: `sensor_readings = np.array([100, 200, 50, 300, 150])`. Apply a natural logarithm transformation to these readings to `log_readings`. What happens if there was a `0` or negative number?\n",
    "2.  Now, let's normalize `sensor_readings` using the formula: $X\\_{normalized} = (X - X\\_{min}) / (X\\_{max} - X\\_{min})$.\n",
    "      * First, find the minimum (`min_val`) and maximum (`max_val`) of `sensor_readings`.\n",
    "      * Then, apply the formula to get `min_max_normalized_readings`.\n"
   ]
  },
  {
   "cell_type": "code",
   "execution_count": null,
   "id": "5db95d06",
   "metadata": {},
   "outputs": [],
   "source": [
    "# Your code for Real-World Mini-Project here!\n",
    "import numpy as np\n",
    "\n",
    "sensor_readings = np.array([100, 200, 50, 300, 150])\n",
    "print(\"Original Sensor Readings:\", sensor_readings)\n",
    "\n",
    "# 1. Apply natural logarithm transformation\n",
    "print(\"\\n1. Log-transformed Readings:\")\n",
    "\n",
    "\n",
    "# 2. Min-Max Normalization\n",
    "# Find min and max\n",
    "print(\"\\n2. Min-Max Normalized Readings:\")"
   ]
  },
  {
   "cell_type": "markdown",
   "id": "f57c5aa2",
   "metadata": {},
   "source": [
    "\n",
    "-----\n",
    "\n",
    "## 2.4 Working with Missing Data (`NaN`)\n",
    "\n",
    "In the real world, data is rarely perfect. Sensors fail, forms are incomplete, or measurements are simply impossible to obtain. This results in **missing data**, which, if not handled properly, can lead to incorrect analyses or errors in your code. NumPy offers special values and functions to deal with this reality. 🚧\n",
    "\n",
    "## 📚 Table of Contents\n",
    "\n",
    "  * **2.4 Working with Missing Data (NaN)**\n",
    "      * 2.4.1 Representing Missing Data: `np.nan`, `np.inf`\n",
    "      * 2.4.2 Identifying Missing Data: `np.isnan()`, `np.isinf()`\n",
    "      * 2.4.3 Handling Missing Data: Filtering, Imputation (basic concepts)\n"
   ]
  },
  {
   "cell_type": "markdown",
   "id": "e3bf2996",
   "metadata": {},
   "source": [
    "### 2.4.1 Representing Missing Data: `np.nan`, `np.inf` 🚫\n",
    "\n",
    "NumPy uses specific floating-point values to represent \"Not a Number\" and \"Infinity\".\n",
    "\n",
    "#### `np.nan` (Not a Number)\n",
    "\n",
    "  * `np.nan` (or `float('nan')`) is NumPy's primary way to denote missing or undefined numerical values.\n",
    "  * It's a special floating-point value. If an array contains `np.nan`, its `dtype` will automatically become `float` (if it wasn't already).\n",
    "  * **Crucial Property:** `np.nan` is unique in that it is never equal to itself. That is, `np.nan == np.nan` evaluates to `False`\\! This is why you need special functions to detect it.\n",
    "\n",
    "<!-- end list -->\n"
   ]
  },
  {
   "cell_type": "code",
   "execution_count": null,
   "id": "7114e640",
   "metadata": {},
   "outputs": [],
   "source": [
    "import numpy as np\n",
    "\n",
    "# Creating an array with missing data\n",
    "data_with_nan = np.array([1.0, 2.0, np.nan, 4.0, 5.0])\n",
    "print(\"Array with NaN:\", data_with_nan)\n",
    "print(\"Dtype:\", data_with_nan.dtype) # Notice it's float64 even if other numbers were integers\n",
    "\n",
    "# NaN is not equal to itself\n",
    "print(\"Is NaN == NaN?\", np.nan == np.nan)"
   ]
  },
  {
   "cell_type": "markdown",
   "id": "bd31ccc7",
   "metadata": {},
   "source": [
    "\n",
    "#### `np.inf` (Infinity)\n",
    "\n",
    "  * `np.inf` (or `float('inf')`) represents mathematical infinity. It can result from operations like dividing by zero or from very large numbers exceeding the floating-point limits.\n",
    "  * There's also `-np.inf` for negative infinity.\n",
    "\n",
    "<!-- end list -->\n"
   ]
  },
  {
   "cell_type": "code",
   "execution_count": null,
   "id": "6dc14788",
   "metadata": {},
   "outputs": [],
   "source": [
    "# Creating an array with infinity\n",
    "data_with_inf = np.array([1, 2, np.inf, 4, -np.inf])\n",
    "print(\"Array with Inf:\", data_with_inf)\n",
    "\n",
    "# Example of how inf can arise\n",
    "print(\"10 / 0 :\", 10 / 0)\n",
    "print(\"-5 / 0 :\", -5 / 0)\n",
    "print(\"np.inf + 1 :\", np.inf + 1)\n",
    "print(\"np.inf / np.inf :\", np.inf / np.inf) # This results in NaN!"
   ]
  },
  {
   "cell_type": "markdown",
   "id": "6ce8bce9",
   "metadata": {},
   "source": [
    "\n",
    "### 2.4.2 Identifying Missing Data: `np.isnan()`, `np.isinf()` 🔍\n",
    "\n",
    "Since `np.nan == np.nan` is `False`, you can't use standard equality checks. NumPy provides dedicated ufuncs to reliably identify `NaN` and `inf` values.\n",
    "\n",
    "#### `np.isnan()`: Is it NaN?\n",
    "\n",
    "Returns a boolean array of the same shape, where `True` indicates `NaN`.\n"
   ]
  },
  {
   "cell_type": "code",
   "execution_count": null,
   "id": "20a475b5",
   "metadata": {},
   "outputs": [],
   "source": [
    "data_unknown = np.array([1, 2, np.nan, 4, np.nan, 6])\n",
    "print(\"Data Unknown:\", data_unknown)\n",
    "\n",
    "# Identify where NaN values are\n",
    "is_nan_mask = np.isnan(data_unknown)\n",
    "print(\"Is NaN mask:\", is_nan_mask) # Output: [False False  True False  True False]\n",
    "\n",
    "# This mask is perfect for boolean indexing!"
   ]
  },
  {
   "cell_type": "markdown",
   "id": "82a45d39",
   "metadata": {},
   "source": [
    "\n",
    "#### `np.isinf()`: Is it Infinity?\n",
    "\n",
    "Returns a boolean array where `True` indicates `inf` or `-inf`.\n"
   ]
  },
  {
   "cell_type": "code",
   "execution_count": null,
   "id": "dd24ee33",
   "metadata": {},
   "outputs": [],
   "source": [
    "data_infinity = np.array([1, np.inf, 3, -np.inf, 5])\n",
    "print(\"Data Infinity:\", data_infinity)\n",
    "\n",
    "# Identify where inf values are\n",
    "is_inf_mask = np.isinf(data_infinity)\n",
    "print(\"Is Inf mask:\", is_inf_mask) # Output: [False  True False  True False]"
   ]
  },
  {
   "cell_type": "markdown",
   "id": "488963d7",
   "metadata": {},
   "source": [
    "\n",
    "**Combined Check:** If you want to check for *any* non-finite number (NaN or inf), you can use `np.isfinite()`, which returns `True` for actual numbers and `False` for NaN/inf.\n"
   ]
  },
  {
   "cell_type": "code",
   "execution_count": 70,
   "id": "7cd98027",
   "metadata": {},
   "outputs": [
    {
     "name": "stdout",
     "output_type": "stream",
     "text": [
      "Is Finite Mask: [ True False  True False  True False]\n"
     ]
    }
   ],
   "source": [
    "mixed_data = np.array([1, np.nan, 3, np.inf, 5, -np.inf])\n",
    "is_finite_mask = np.isfinite(mixed_data)\n",
    "print(\"Is Finite Mask:\", is_finite_mask) # Output: [ True False  True False  True False]"
   ]
  },
  {
   "cell_type": "markdown",
   "id": "1343dead",
   "metadata": {},
   "source": [
    "\n",
    "-----\n",
    "\n",
    "### 2.4.3 Handling Missing Data: Filtering, Imputation (basic concepts) 🧹\n",
    "\n",
    "Once you've identified missing data, you have to decide how to handle it. Common strategies include filtering (removing rows/columns with NaNs) or imputation (filling in the missing values).\n",
    "\n",
    "#### Filtering/Masking Out Missing Data\n",
    "\n",
    "You can use boolean indexing to easily remove elements or rows/columns containing `NaN`s.\n"
   ]
  },
  {
   "cell_type": "code",
   "execution_count": null,
   "id": "008eaf9a",
   "metadata": {},
   "outputs": [],
   "source": [
    "data_for_filtering = np.array([10, 20, np.nan, 40, np.nan, 60])\n",
    "print(\"Original for filtering:\", data_for_filtering)\n",
    "\n",
    "# Filter out NaN values (keep only non-NaNs)\n",
    "filtered_data = data_for_filtering[~np.isnan(data_for_filtering)]\n",
    "print(\"Filtered data (removed NaNs):\", filtered_data)\n",
    "\n",
    "# Impact of NaN on Aggregation Functions\n",
    "print(\"\\n--- Impact of NaN on Aggregations ---\")\n",
    "print(\"Sum with NaN:\", np.sum(data_for_filtering))   # Sum will be NaN\n",
    "print(\"Mean with NaN:\", np.mean(data_for_filtering)) # Mean will be NaN\n",
    "\n",
    "# NumPy's 'nan' versions of aggregations ignore NaNs\n",
    "print(\"Sum ignoring NaN (np.nansum):\", np.nansum(data_for_filtering))\n",
    "print(\"Mean ignoring NaN (np.nanmean):\", np.nanmean(data_for_filtering))\n",
    "print(\"Min ignoring NaN (np.nanmin):\", np.nanmin(data_for_filtering))\n",
    "print(\"Max ignoring NaN (np.nanmax):\", np.nanmax(data_for_filtering))\n",
    "print(\"Std ignoring NaN (np.nanstd):\", np.nanstd(data_for_filtering))\n",
    "\n",
    "# For 2D arrays, you might drop rows/columns.\n",
    "matrix_with_nan = np.array([[1, 2, np.nan],\n",
    "                            [4, np.nan, 6],\n",
    "                            [7, 8, 9]])\n",
    "print(\"\\nMatrix with NaN:\\n\", matrix_with_nan)\n",
    "\n",
    "# Get rows that do NOT contain any NaN (all values in row are finite)\n",
    "# np.all() with axis=1 checks if ALL values in a row are True\n",
    "rows_without_nan = matrix_with_nan[np.all(~np.isnan(matrix_with_nan), axis=1)]\n",
    "print(\"Rows without any NaN:\\n\", rows_without_nan)"
   ]
  },
  {
   "cell_type": "markdown",
   "id": "f1a22d26",
   "metadata": {},
   "source": [
    "\n",
    "#### Imputation: Filling in Missing Values (Basic Concepts)\n",
    "\n",
    "Imputation involves replacing missing values with some estimated value. Common simple strategies include:\n",
    "\n",
    "1.  **Constant Value Imputation:** Replace `NaN`s with 0, -1, or another relevant constant.\n",
    "2.  **Mean/Median Imputation:** Replace `NaN`s with the mean or median of the non-missing values in that column/feature.\n",
    "\n",
    "<!-- end list -->\n"
   ]
  },
  {
   "cell_type": "code",
   "execution_count": null,
   "id": "80fa6c47",
   "metadata": {},
   "outputs": [],
   "source": [
    "data_for_imputation = np.array([10, 20, np.nan, 40, np.nan, 60])\n",
    "print(\"Original for imputation:\", data_for_imputation)\n",
    "\n",
    "# Strategy 1: Fill with a constant (e.g., 0)\n",
    "imputed_zero = np.nan_to_num(data_for_imputation, nan=0.0) # Or use np.nan_to_num directly\n",
    "print(\"Imputed with 0:\", imputed_zero)\n",
    "\n",
    "# Strategy 2: Fill with the mean of non-missing values\n",
    "mean_value = np.nanmean(data_for_imputation) # Calculate mean, ignoring NaNs\n",
    "imputed_mean = np.where(np.isnan(data_for_imputation), mean_value, data_for_imputation)\n",
    "print(\"Imputed with mean (%.2f):\" % mean_value, imputed_mean)\n",
    "\n",
    "# For 2D arrays, you might impute column-wise\n",
    "matrix_to_impute = np.array([[1, 2, np.nan],\n",
    "                             [4, np.nan, 6],\n",
    "                             [7, 8, 9]])\n",
    "print(\"\\nMatrix to impute:\\n\", matrix_to_impute)\n",
    "\n",
    "# Impute NaNs in each column with that column's mean\n",
    "column_means = np.nanmean(matrix_to_impute, axis=0)\n",
    "print(\"Column means:\", column_means)\n",
    "\n",
    "# Create a copy to modify\n",
    "imputed_matrix = np.copy(matrix_to_impute)\n",
    "# Iterate through columns to fill NaNs with column mean\n",
    "for i in range(imputed_matrix.shape[1]):\n",
    "    col_has_nan = np.isnan(imputed_matrix[:, i])\n",
    "    if np.any(col_has_nan):\n",
    "        imputed_matrix[col_has_nan, i] = column_means[i]\n",
    "\n",
    "print(\"Matrix imputed with column means:\\n\", imputed_matrix)"
   ]
  },
  {
   "cell_type": "markdown",
   "id": "14147ac8",
   "metadata": {},
   "source": [
    "\n",
    "\n",
    "**💡 Pro Tip:** While NumPy provides the primitives, for more robust and sophisticated missing data handling (e.g., K-nearest neighbors imputation, regression imputation), libraries like **Pandas** and **scikit-learn** are typically used as they offer higher-level functions and handle complex scenarios more gracefully. This section gives you the NumPy foundation\\!"
   ]
  },
  {
   "cell_type": "markdown",
   "id": "4e8a70e6",
   "metadata": {},
   "source": [
    "-----\n",
    "\n",
    "### ❓ Quick Quiz\\!\n",
    "\n",
    "1.  You have `result = np.array([10.0, 20.0, np.nan, 30.0])`. If you run `np.mean(result)`, what will be the output? How would you get the mean of only the valid numbers?\n",
    "2.  Why is `np.nan == np.nan` `False`?\n",
    "3.  You've performed a calculation that resulted in `np.array([5, 10/0, 15])`. How would you check for infinite values in this array?"
   ]
  },
  {
   "cell_type": "markdown",
   "id": "625a9747",
   "metadata": {},
   "source": [
    "\n",
    "-----\n",
    "\n",
    "### 🎯 Real-World Mini-Project: Sensor Data Cleaning\\!\n",
    "\n",
    "You're working with data from multiple environmental sensors. Sometimes, a sensor malfunctions, sending `NaN` or extremely high (`inf`) readings.\n",
    "\n",
    "`sensor_readings_raw = np.array([[22.1, 23.5, 24.0, np.nan], [20.5, np.inf, 21.0, 20.8], [25.0, 24.8, 26.1, 25.5]])`\n",
    "\n",
    "**Challenge:**\n",
    "\n",
    "1.  Identify all positions (indices) in `sensor_readings_raw` where `np.nan` values are present.\n",
    "2.  Identify all positions where `np.inf` values are present.\n",
    "3.  Create a new array `sensor_readings_cleaned` where:\n",
    "      * All `np.inf` values are replaced with `np.nan`. (This simplifies handling, making all \"bad\" values consistent as `NaN`).\n",
    "      * Then, fill all `np.nan` values in `sensor_readings_cleaned` with the mean of their respective *columns* (ignoring existing NaNs in the mean calculation)."
   ]
  },
  {
   "cell_type": "code",
   "execution_count": null,
   "id": "cd5e4739",
   "metadata": {},
   "outputs": [],
   "source": [
    "# Your code for Real-World Mini-Project here!\n",
    "import numpy as np\n",
    "\n",
    "sensor_readings_raw = np.array([[22.1, 23.5, 24.0, np.nan],\n",
    "                                  [20.5, np.inf, 21.0, 20.8],\n",
    "                                  [25.0, 24.8, 26.1, 25.5]])\n",
    "print(\"Original Raw Sensor Readings:\\n\", sensor_readings_raw)\n",
    "\n",
    "# 1. Identify NaN positions\n",
    "print(\"\\n1. NaN Positions (Boolean Mask):\\n\")\n",
    "\n",
    "\n",
    "# 2. Identify Inf positions\n",
    "print(\"\\n2. Inf Positions (Boolean Mask):\\n\")\n",
    "\n",
    "\n",
    "# 3. Clean and Impute\n",
    "# Step A: Replace Inf with NaN\n",
    "print(\"\\n3. Cleaned and Imputed Data:\")\n",
    "\n",
    "# Step B: Impute NaNs with column means"
   ]
  },
  {
   "cell_type": "markdown",
   "id": "784708dc",
   "metadata": {},
   "source": [
    "\n",
    "-----\n",
    "\n",
    "# 2.4 Working with Missing Data (`NaN`)\n",
    "\n",
    "In the real world, data is rarely perfect. Sensors fail, forms are incomplete, or measurements are simply impossible to obtain. This results in **missing data**, which, if not handled properly, can lead to incorrect analyses or errors in your code. NumPy offers special values and functions to deal with this reality. 🚧\n",
    "\n",
    "\n",
    "## 📚 Table of Contents\n",
    "\n",
    "  * **2.4 Working with Missing Data (NaN)**\n",
    "      * 2.4.1 Representing Missing Data: `np.nan`, `np.inf`\n",
    "      * 2.4.2 Identifying Missing Data: `np.isnan()`, `np.isinf()`\n",
    "      * 2.4.3 Handling Missing Data: Filtering, Imputation (basic concepts)\n"
   ]
  },
  {
   "cell_type": "markdown",
   "id": "c0dd4265",
   "metadata": {},
   "source": [
    "\n",
    "\n",
    "### 2.4.1 Representing Missing Data: `np.nan`, `np.inf` 🚫\n",
    "\n",
    "NumPy uses specific floating-point values to represent \"Not a Number\" and \"Infinity\".\n",
    "\n",
    "#### `np.nan` (Not a Number)\n",
    "\n",
    "  * `np.nan` (or `float('nan')`) is NumPy's primary way to denote missing or undefined numerical values.\n",
    "  * It's a special floating-point value. If an array contains `np.nan`, its `dtype` will automatically become `float` (if it wasn't already).\n",
    "  * **Crucial Property:** `np.nan` is unique in that it is never equal to itself. That is, `np.nan == np.nan` evaluates to `False`\\! This is why you need special functions to detect it.\n",
    "\n",
    "<!-- end list -->\n"
   ]
  },
  {
   "cell_type": "code",
   "execution_count": 71,
   "id": "c66b935d",
   "metadata": {},
   "outputs": [
    {
     "name": "stdout",
     "output_type": "stream",
     "text": [
      "Array with NaN: [ 1.  2. nan  4.  5.]\n",
      "Dtype: float64\n",
      "Is NaN == NaN? False\n"
     ]
    }
   ],
   "source": [
    "import numpy as np\n",
    "\n",
    "# Creating an array with missing data\n",
    "data_with_nan = np.array([1.0, 2.0, np.nan, 4.0, 5.0])\n",
    "print(\"Array with NaN:\", data_with_nan)\n",
    "print(\"Dtype:\", data_with_nan.dtype) # Notice it's float64 even if other numbers were integers\n",
    "\n",
    "# NaN is not equal to itself\n",
    "print(\"Is NaN == NaN?\", np.nan == np.nan)"
   ]
  },
  {
   "cell_type": "markdown",
   "id": "f1815b08",
   "metadata": {},
   "source": [
    "\n",
    "#### `np.inf` (Infinity)\n",
    "\n",
    "  * `np.inf` (or `float('inf')`) represents mathematical infinity. It can result from operations like dividing by zero or from very large numbers exceeding the floating-point limits.\n",
    "  * There's also `-np.inf` for negative infinity.\n",
    "\n",
    "<!-- end list -->\n"
   ]
  },
  {
   "cell_type": "code",
   "execution_count": null,
   "id": "78dbe216",
   "metadata": {},
   "outputs": [],
   "source": [
    "# Creating an array with infinity\n",
    "data_with_inf = np.array([1, 2, np.inf, 4, -np.inf])\n",
    "print(\"Array with Inf:\", data_with_inf)\n",
    "\n",
    "# Example of how inf can arise\n",
    "print(\"10 / 0 :\", 10 / 0)\n",
    "print(\"-5 / 0 :\", -5 / 0)\n",
    "print(\"np.inf + 1 :\", np.inf + 1)\n",
    "print(\"np.inf / np.inf :\", np.inf / np.inf) # This results in NaN!"
   ]
  },
  {
   "cell_type": "markdown",
   "id": "4fa2e827",
   "metadata": {},
   "source": [
    "\n",
    "### 2.4.2 Identifying Missing Data: `np.isnan()`, `np.isinf()` 🔍\n",
    "\n",
    "Since `np.nan == np.nan` is `False`, you can't use standard equality checks. NumPy provides dedicated ufuncs to reliably identify `NaN` and `inf` values.\n",
    "\n",
    "#### `np.isnan()`: Is it NaN?\n",
    "\n",
    "Returns a boolean array of the same shape, where `True` indicates `NaN`.\n"
   ]
  },
  {
   "cell_type": "code",
   "execution_count": 72,
   "id": "d324203d",
   "metadata": {},
   "outputs": [
    {
     "name": "stdout",
     "output_type": "stream",
     "text": [
      "Data Unknown: [ 1.  2. nan  4. nan  6.]\n",
      "Is NaN mask: [False False  True False  True False]\n"
     ]
    }
   ],
   "source": [
    "data_unknown = np.array([1, 2, np.nan, 4, np.nan, 6])\n",
    "print(\"Data Unknown:\", data_unknown)\n",
    "\n",
    "# Identify where NaN values are\n",
    "is_nan_mask = np.isnan(data_unknown)\n",
    "print(\"Is NaN mask:\", is_nan_mask) # Output: [False False  True False  True False]\n",
    "\n",
    "# This mask is perfect for boolean indexing!"
   ]
  },
  {
   "cell_type": "markdown",
   "id": "cadc4f5a",
   "metadata": {},
   "source": [
    "\n",
    "#### `np.isinf()`: Is it Infinity?\n",
    "\n",
    "Returns a boolean array where `True` indicates `inf` or `-inf`.\n"
   ]
  },
  {
   "cell_type": "code",
   "execution_count": 73,
   "id": "3d5e3d19",
   "metadata": {},
   "outputs": [
    {
     "name": "stdout",
     "output_type": "stream",
     "text": [
      "Data Infinity: [  1.  inf   3. -inf   5.]\n",
      "Is Inf mask: [False  True False  True False]\n"
     ]
    }
   ],
   "source": [
    "data_infinity = np.array([1, np.inf, 3, -np.inf, 5])\n",
    "print(\"Data Infinity:\", data_infinity)\n",
    "\n",
    "# Identify where inf values are\n",
    "is_inf_mask = np.isinf(data_infinity)\n",
    "print(\"Is Inf mask:\", is_inf_mask) # Output: [False  True False  True False]"
   ]
  },
  {
   "cell_type": "markdown",
   "id": "f0cddaaa",
   "metadata": {},
   "source": [
    "\n",
    "**Combined Check:** If you want to check for *any* non-finite number (NaN or inf), you can use `np.isfinite()`, which returns `True` for actual numbers and `False` for NaN/inf."
   ]
  },
  {
   "cell_type": "code",
   "execution_count": 74,
   "id": "d9ef677a",
   "metadata": {},
   "outputs": [
    {
     "name": "stdout",
     "output_type": "stream",
     "text": [
      "Is Finite Mask: [ True False  True False  True False]\n"
     ]
    }
   ],
   "source": [
    "mixed_data = np.array([1, np.nan, 3, np.inf, 5, -np.inf])\n",
    "is_finite_mask = np.isfinite(mixed_data)\n",
    "print(\"Is Finite Mask:\", is_finite_mask) # Output: [ True False  True False  True False]"
   ]
  },
  {
   "cell_type": "markdown",
   "id": "acec71f0",
   "metadata": {},
   "source": [
    "\n",
    "-----\n",
    "\n",
    "### 2.4.3 Handling Missing Data: Filtering, Imputation (basic concepts) 🧹\n",
    "\n",
    "Once you've identified missing data, you have to decide how to handle it. Common strategies include filtering (removing rows/columns with NaNs) or imputation (filling in the missing values).\n",
    "\n",
    "#### Filtering/Masking Out Missing Data\n",
    "\n",
    "You can use boolean indexing to easily remove elements or rows/columns containing `NaN`s.\n"
   ]
  },
  {
   "cell_type": "code",
   "execution_count": null,
   "id": "e50ee756",
   "metadata": {},
   "outputs": [],
   "source": [
    "data_for_filtering = np.array([10, 20, np.nan, 40, np.nan, 60])\n",
    "print(\"Original for filtering:\", data_for_filtering)\n",
    "\n",
    "# Filter out NaN values (keep only non-NaNs)\n",
    "filtered_data = data_for_filtering[~np.isnan(data_for_filtering)]\n",
    "print(\"Filtered data (removed NaNs):\", filtered_data)\n",
    "\n",
    "# Impact of NaN on Aggregation Functions\n",
    "print(\"\\n--- Impact of NaN on Aggregations ---\")\n",
    "print(\"Sum with NaN:\", np.sum(data_for_filtering))   # Sum will be NaN\n",
    "print(\"Mean with NaN:\", np.mean(data_for_filtering)) # Mean will be NaN\n",
    "\n",
    "# NumPy's 'nan' versions of aggregations ignore NaNs\n",
    "print(\"Sum ignoring NaN (np.nansum):\", np.nansum(data_for_filtering))\n",
    "print(\"Mean ignoring NaN (np.nanmean):\", np.nanmean(data_for_filtering))\n",
    "print(\"Min ignoring NaN (np.nanmin):\", np.nanmin(data_for_filtering))\n",
    "print(\"Max ignoring NaN (np.nanmax):\", np.nanmax(data_for_filtering))\n",
    "print(\"Std ignoring NaN (np.nanstd):\", np.nanstd(data_for_filtering))\n",
    "\n",
    "# For 2D arrays, you might drop rows/columns.\n",
    "matrix_with_nan = np.array([[1, 2, np.nan],\n",
    "                            [4, np.nan, 6],\n",
    "                            [7, 8, 9]])\n",
    "print(\"\\nMatrix with NaN:\\n\", matrix_with_nan)\n",
    "\n",
    "# Get rows that do NOT contain any NaN (all values in row are finite)\n",
    "# np.all() with axis=1 checks if ALL values in a row are True\n",
    "rows_without_nan = matrix_with_nan[np.all(~np.isnan(matrix_with_nan), axis=1)]\n",
    "print(\"Rows without any NaN:\\n\", rows_without_nan)"
   ]
  },
  {
   "cell_type": "markdown",
   "id": "85f74608",
   "metadata": {},
   "source": [
    "\n",
    "#### Imputation: Filling in Missing Values (Basic Concepts)\n",
    "\n",
    "Imputation involves replacing missing values with some estimated value. Common simple strategies include:\n",
    "\n",
    "1.  **Constant Value Imputation:** Replace `NaN`s with 0, -1, or another relevant constant.\n",
    "2.  **Mean/Median Imputation:** Replace `NaN`s with the mean or median of the non-missing values in that column/feature.\n",
    "\n",
    "<!-- end list -->\n"
   ]
  },
  {
   "cell_type": "code",
   "execution_count": null,
   "id": "9e7029b9",
   "metadata": {},
   "outputs": [],
   "source": [
    "data_for_imputation = np.array([10, 20, np.nan, 40, np.nan, 60])\n",
    "print(\"Original for imputation:\", data_for_imputation)\n",
    "\n",
    "# Strategy 1: Fill with a constant (e.g., 0)\n",
    "imputed_zero = np.nan_to_num(data_for_imputation, nan=0.0) # Or use np.nan_to_num directly\n",
    "print(\"Imputed with 0:\", imputed_zero)\n",
    "\n",
    "# Strategy 2: Fill with the mean of non-missing values\n",
    "mean_value = np.nanmean(data_for_imputation) # Calculate mean, ignoring NaNs\n",
    "imputed_mean = np.where(np.isnan(data_for_imputation), mean_value, data_for_imputation)\n",
    "print(\"Imputed with mean (%.2f):\" % mean_value, imputed_mean)\n",
    "\n",
    "# For 2D arrays, you might impute column-wise\n",
    "matrix_to_impute = np.array([[1, 2, np.nan],\n",
    "                             [4, np.nan, 6],\n",
    "                             [7, 8, 9]])\n",
    "print(\"\\nMatrix to impute:\\n\", matrix_to_impute)\n",
    "\n",
    "# Impute NaNs in each column with that column's mean\n",
    "column_means = np.nanmean(matrix_to_impute, axis=0)\n",
    "print(\"Column means:\", column_means)\n",
    "\n",
    "# Create a copy to modify\n",
    "imputed_matrix = np.copy(matrix_to_impute)\n",
    "# Iterate through columns to fill NaNs with column mean\n",
    "for i in range(imputed_matrix.shape[1]):\n",
    "    col_has_nan = np.isnan(imputed_matrix[:, i])\n",
    "    if np.any(col_has_nan):\n",
    "        imputed_matrix[col_has_nan, i] = column_means[i]\n",
    "\n",
    "print(\"Matrix imputed with column means:\\n\", imputed_matrix)"
   ]
  },
  {
   "cell_type": "markdown",
   "id": "59b4bd12",
   "metadata": {},
   "source": [
    "\n",
    "**💡 Pro Tip:** While NumPy provides the primitives, for more robust and sophisticated missing data handling (e.g., K-nearest neighbors imputation, regression imputation), libraries like **Pandas** and **scikit-learn** are typically used as they offer higher-level functions and handle complex scenarios more gracefully. This section gives you the NumPy foundation\\!\n"
   ]
  },
  {
   "cell_type": "markdown",
   "id": "88ba6e88",
   "metadata": {},
   "source": [
    "\n",
    "-----\n",
    "\n",
    "### ❓ Quick Quiz\\!\n",
    "\n",
    "1.  You have `result = np.array([10.0, 20.0, np.nan, 30.0])`. If you run `np.mean(result)`, what will be the output? How would you get the mean of only the valid numbers?\n",
    "2.  Why is `np.nan == np.nan` `False`?\n",
    "3.  You've performed a calculation that resulted in `np.array([5, 10/0, 15])`. How would you check for infinite values in this array?\n"
   ]
  },
  {
   "cell_type": "markdown",
   "id": "2e935a84",
   "metadata": {},
   "source": [
    "\n",
    "-----\n",
    "\n",
    "### 🎯 Real-World Mini-Project: Sensor Data Cleaning\\!\n",
    "\n",
    "You're working with data from multiple environmental sensors. Sometimes, a sensor malfunctions, sending `NaN` or extremely high (`inf`) readings.\n",
    "\n",
    "`sensor_readings_raw = np.array([[22.1, 23.5, 24.0, np.nan], [20.5, np.inf, 21.0, 20.8], [25.0, 24.8, 26.1, 25.5]])`\n",
    "\n",
    "**Challenge:**\n",
    "\n",
    "1.  Identify all positions (indices) in `sensor_readings_raw` where `np.nan` values are present.\n",
    "2.  Identify all positions where `np.inf` values are present.\n",
    "3.  Create a new array `sensor_readings_cleaned` where:\n",
    "      * All `np.inf` values are replaced with `np.nan`. (This simplifies handling, making all \"bad\" values consistent as `NaN`).\n",
    "      * Then, fill all `np.nan` values in `sensor_readings_cleaned` with the mean of their respective *columns* (ignoring existing NaNs in the mean calculation).\n",
    "\n",
    "<!-- end list -->\n"
   ]
  },
  {
   "cell_type": "code",
   "execution_count": null,
   "id": "66986f87",
   "metadata": {},
   "outputs": [],
   "source": [
    "# Your code for Real-World Mini-Project here!\n",
    "import numpy as np\n",
    "\n",
    "sensor_readings_raw = np.array([[22.1, 23.5, 24.0, np.nan],\n",
    "                                  [20.5, np.inf, 21.0, 20.8],\n",
    "                                  [25.0, 24.8, 26.1, 25.5]])\n",
    "print(\"Original Raw Sensor Readings:\\n\", sensor_readings_raw)\n",
    "\n",
    "# 1. Identify NaN positions\n",
    "print(\"\\n1. NaN Positions (Boolean Mask):\\n\")\n",
    "\n",
    "\n",
    "# 2. Identify Inf positions\n",
    "print(\"\\n2. Inf Positions (Boolean Mask):\\n\")\n",
    "\n",
    "\n",
    "# 3. Clean and Impute\n",
    "# Step A: Replace Inf with NaN\n",
    "print(\"\\n3. Cleaned and Imputed Data:\")\n",
    "\n",
    "# Step B: Impute NaNs with column means"
   ]
  },
  {
   "cell_type": "markdown",
   "id": "2a26a72a",
   "metadata": {},
   "source": [
    "-----\n",
    "\n",
    "# 2.5 Sorting and Searching\n",
    "\n",
    "Organizing data is a fundamental step in any analysis. NumPy provides highly optimized functions not only to sort arrays but also to find specific elements or their positions efficiently. Let's dive in\\! 🧩\n",
    "\n",
    "## 📚 Table of Contents\n",
    "\n",
    "  * **2.5 Sorting and Searching**\n",
    "      * 2.5.1 `np.sort()`: Sorting Arrays\n",
    "      * 2.5.2 `argsort()`: Getting Indices of Sorted Elements\n",
    "      * 2.5.3 `np.searchsorted()`: Finding Insertion Points\n",
    "      * 2.5.4 `np.where()`: Conditional Element Selection\n",
    "\n"
   ]
  },
  {
   "cell_type": "markdown",
   "id": "2762d260",
   "metadata": {},
   "source": [
    "\n",
    "### 2.5.1 `np.sort()`: Sorting Arrays 📈📉\n",
    "\n",
    "NumPy offers two main ways to sort arrays:\n",
    "\n",
    "1.  **`np.sort(array)`:** This is a function that returns a **sorted copy** of the original array. The original array remains unchanged.\n",
    "2.  **`array.sort()`:** This is a method that sorts the array **in-place**, meaning it modifies the original array directly and returns `None`.\n",
    "\n",
    "#### Sorting 1D Arrays"
   ]
  },
  {
   "cell_type": "code",
   "execution_count": 75,
   "id": "8aefbef1",
   "metadata": {},
   "outputs": [
    {
     "name": "stdout",
     "output_type": "stream",
     "text": [
      "Original 1D array: [3 1 4 1 5 9 2 6]\n",
      "Sorted copy (np.sort): [1 1 2 3 4 5 6 9]\n",
      "Original array after np.sort (unchanged): [3 1 4 1 5 9 2 6]\n",
      "\n",
      "Original for in-place sort: [7 2 8 1 9 4]\n",
      "Array after in-place sort (arr.sort()): [1 2 4 7 8 9]\n"
     ]
    }
   ],
   "source": [
    "import numpy as np\n",
    "\n",
    "arr_unsorted = np.array([3, 1, 4, 1, 5, 9, 2, 6])\n",
    "print(\"Original 1D array:\", arr_unsorted)\n",
    "\n",
    "# Using np.sort() - returns a new sorted array\n",
    "sorted_copy = np.sort(arr_unsorted)\n",
    "print(\"Sorted copy (np.sort):\", sorted_copy)\n",
    "print(\"Original array after np.sort (unchanged):\", arr_unsorted) # Original is still unsorted!\n",
    "\n",
    "# Using array.sort() - sorts in-place\n",
    "arr_in_place = np.array([7, 2, 8, 1, 9, 4])\n",
    "print(\"\\nOriginal for in-place sort:\", arr_in_place)\n",
    "arr_in_place.sort() # Modifies arr_in_place directly\n",
    "print(\"Array after in-place sort (arr.sort()):\", arr_in_place)"
   ]
  },
  {
   "cell_type": "markdown",
   "id": "04ae400b",
   "metadata": {},
   "source": [
    "\n",
    "#### Sorting 2D Arrays (along axes)\n",
    "\n",
    "For multi-dimensional arrays, you can specify the `axis` along which to sort.\n",
    "\n",
    "  * `axis=0`: Sorts along columns (each column is sorted independently).\n",
    "  * `axis=1`: Sorts along rows (each row is sorted independently).\n",
    "  * `axis=None` (default for `np.sort()`): Flattens the array and returns a single sorted 1D array.\n",
    "\n",
    "<!-- end list -->\n"
   ]
  },
  {
   "cell_type": "code",
   "execution_count": 76,
   "id": "f1051a88",
   "metadata": {},
   "outputs": [
    {
     "name": "stdout",
     "output_type": "stream",
     "text": [
      "\n",
      "Original 2D Matrix:\n",
      " [[8 1 7]\n",
      " [4 9 2]\n",
      " [3 6 5]]\n",
      "\n",
      "Sorted by columns (axis=0):\n",
      " [[3 1 2]\n",
      " [4 6 5]\n",
      " [8 9 7]]\n",
      "Sorted by rows (axis=1):\n",
      " [[1 7 8]\n",
      " [2 4 9]\n",
      " [3 5 6]]\n",
      "Flattened and sorted:\n",
      " [1 2 3 4 5 6 7 8 9]\n"
     ]
    }
   ],
   "source": [
    "matrix_data = np.array([[8, 1, 7],\n",
    "                        [4, 9, 2],\n",
    "                        [3, 6, 5]])\n",
    "print(\"\\nOriginal 2D Matrix:\\n\", matrix_data)\n",
    "\n",
    "# Sort along axis=0 (column-wise)\n",
    "# Column 0: [8,4,3] -> [3,4,8]\n",
    "# Column 1: [1,9,6] -> [1,6,9]\n",
    "# Column 2: [7,2,5] -> [2,5,7]\n",
    "sorted_by_columns = np.sort(matrix_data, axis=0)\n",
    "print(\"\\nSorted by columns (axis=0):\\n\", sorted_by_columns)\n",
    "\n",
    "# Sort along axis=1 (row-wise)\n",
    "# Row 0: [8,1,7] -> [1,7,8]\n",
    "# Row 1: [4,9,2] -> [2,4,9]\n",
    "# Row 2: [3,6,5] -> [3,5,6]\n",
    "sorted_by_rows = np.sort(matrix_data, axis=1)\n",
    "print(\"Sorted by rows (axis=1):\\n\", sorted_by_rows)\n",
    "\n",
    "# Flatten and sort (default behavior for np.sort when axis is not specified or None)\n",
    "flat_sorted = np.sort(matrix_data, axis=None)\n",
    "print(\"Flattened and sorted:\\n\", flat_sorted)"
   ]
  },
  {
   "cell_type": "markdown",
   "id": "f1761c78",
   "metadata": {},
   "source": [
    "\n",
    "### 2.5.2 `argsort()`: Getting Indices of Sorted Elements 🗺️\n",
    "\n",
    "Sometimes you don't just want the sorted values, but the **original indices** that would produce the sorted array. This is where `argsort()` comes in\\! It's incredibly useful when you need to sort one array (e.g., names) based on the values of another array (e.g., scores).\n",
    "\n",
    "`argsort()` returns an array of indices that specify the order of elements in the original array that would make it sorted.\n"
   ]
  },
  {
   "cell_type": "code",
   "execution_count": 77,
   "id": "51c7fe8d",
   "metadata": {},
   "outputs": [
    {
     "name": "stdout",
     "output_type": "stream",
     "text": [
      "Original data: [30 10 40 20]\n",
      "Indices that would sort data: [1 3 0 2]\n",
      "Sorted data using argsort indices: [10 20 30 40]\n",
      "\n",
      "Indices for descending scores: [3 1 0 2]\n",
      "Names sorted by score (descending): ['David' 'Bob' 'Alice' 'Charlie']\n",
      "Scores sorted (descending): [95 92 85 78]\n"
     ]
    }
   ],
   "source": [
    "data = np.array([30, 10, 40, 20])\n",
    "print(\"Original data:\", data)\n",
    "\n",
    "# Get the indices that would sort 'data'\n",
    "sort_indices = np.argsort(data)\n",
    "print(\"Indices that would sort data:\", sort_indices) # Output: [1 3 0 2]\n",
    "# Explanation:\n",
    "# - The smallest element (10) is at original index 1.\n",
    "# - The next smallest (20) is at original index 3.\n",
    "# - The next smallest (30) is at original index 0.\n",
    "# - The largest (40) is at original index 2.\n",
    "\n",
    "# Use these indices to get the sorted array\n",
    "sorted_data_from_indices = data[sort_indices]\n",
    "print(\"Sorted data using argsort indices:\", sorted_data_from_indices)\n",
    "\n",
    "# This is powerful for sorting related arrays!\n",
    "names = np.array(['Alice', 'Bob', 'Charlie', 'David'])\n",
    "scores = np.array([85, 92, 78, 95])\n",
    "\n",
    "# Sort names based on scores (highest score first)\n",
    "# For descending order, use negative of scores for argsort, then reverse indices.\n",
    "desc_score_indices = np.argsort(-scores) # Argsort on negative scores gives indices for descending\n",
    "print(\"\\nIndices for descending scores:\", desc_score_indices)\n",
    "\n",
    "sorted_names_by_score = names[desc_score_indices]\n",
    "sorted_scores_desc = scores[desc_score_indices]\n",
    "\n",
    "print(\"Names sorted by score (descending):\", sorted_names_by_score)\n",
    "print(\"Scores sorted (descending):\", sorted_scores_desc)"
   ]
  },
  {
   "cell_type": "markdown",
   "id": "4598f531",
   "metadata": {},
   "source": [
    "**Sorting 2D Arrays with `argsort()`:**\n",
    "Similar to `np.sort()`, `argsort()` can also operate along axes.\n"
   ]
  },
  {
   "cell_type": "code",
   "execution_count": 78,
   "id": "1b9c5791",
   "metadata": {},
   "outputs": [
    {
     "name": "stdout",
     "output_type": "stream",
     "text": [
      "\n",
      "Original 2D Matrix:\n",
      " [[8 1 7]\n",
      " [4 9 2]\n",
      " [3 6 5]]\n",
      "\n",
      "Argsort by columns (axis=0):\n",
      " [[2 0 1]\n",
      " [1 2 2]\n",
      " [0 1 0]]\n",
      "Argsort by rows (axis=1):\n",
      " [[1 2 0]\n",
      " [2 0 1]\n",
      " [0 2 1]]\n"
     ]
    }
   ],
   "source": [
    "matrix_args = np.array([[8, 1, 7],\n",
    "                        [4, 9, 2],\n",
    "                        [3, 6, 5]])\n",
    "print(\"\\nOriginal 2D Matrix:\\n\", matrix_args)\n",
    "\n",
    "# Argsort along axis=0 (column-wise)\n",
    "# Each column's elements are ranked, and their original row indices are returned.\n",
    "argsort_by_columns = np.argsort(matrix_args, axis=0)\n",
    "print(\"\\nArgsort by columns (axis=0):\\n\", argsort_by_columns)\n",
    "# Example for Col 0: [8,4,3] -> Sorted values: [3,4,8] -> Original indices: [2,1,0]\n",
    "\n",
    "# Argsort along axis=1 (row-wise)\n",
    "argsort_by_rows = np.argsort(matrix_args, axis=1)\n",
    "print(\"Argsort by rows (axis=1):\\n\", argsort_by_rows)\n",
    "# Example for Row 0: [8,1,7] -> Sorted values: [1,7,8] -> Original indices: [1,2,0]"
   ]
  },
  {
   "cell_type": "markdown",
   "id": "ae54d582",
   "metadata": {},
   "source": [
    "\n",
    "**💡 Pro Tip:** `argsort()` is indispensable when you need to maintain the relationship between different arrays (e.g., a dataset where one column is IDs and another is values, and you want to sort by values but keep the correct IDs paired up).\n",
    "\n",
    "### 2.5.3 `np.searchsorted()`: Finding Insertion Points 📍\n",
    "\n",
    "This function is specialized for finding indices. `np.searchsorted(a, v)` finds indices where elements of `v` could be inserted into sorted array `a` to maintain order.\n",
    "\n",
    "  * `a` **must be a sorted 1D array**.\n",
    "  * `v` can be a scalar or an array of values to search for.\n",
    "  * `side='left'` (default): Returns the index of the first suitable location, meaning the insertion point is *before* any existing equivalent values.\n",
    "  * `side='right'`: Returns the index of the last suitable location, meaning the insertion point is *after* any existing equivalent values.\n",
    "\n",
    "<!-- end list -->\n"
   ]
  },
  {
   "cell_type": "code",
   "execution_count": 79,
   "id": "f499cf96",
   "metadata": {},
   "outputs": [
    {
     "name": "stdout",
     "output_type": "stream",
     "text": [
      "Sorted array: [1 3 5 7 9]\n",
      "Index for 4 (side='left'): 2\n",
      "Index for 5 (side='left'): 2\n",
      "Index for 5 (side='right'): 3\n",
      "Indices for [0, 2, 6, 10]: [0 1 3 5]\n"
     ]
    }
   ],
   "source": [
    "sorted_arr = np.array([1, 3, 5, 7, 9])\n",
    "print(\"Sorted array:\", sorted_arr)\n",
    "\n",
    "# Where would 4 be inserted? Between 3 and 5, so index 2.\n",
    "idx_4 = np.searchsorted(sorted_arr, 4)\n",
    "print(\"Index for 4 (side='left'):\", idx_4) # Output: 2\n",
    "\n",
    "# Where would 5 be inserted?\n",
    "# side='left': before the existing 5 (index 2)\n",
    "idx_5_left = np.searchsorted(sorted_arr, 5, side='left')\n",
    "print(\"Index for 5 (side='left'):\", idx_5_left) # Output: 2\n",
    "\n",
    "# side='right': after the existing 5 (index 3)\n",
    "idx_5_right = np.searchsorted(sorted_arr, 5, side='right')\n",
    "print(\"Index for 5 (side='right'):\", idx_5_right) # Output: 3\n",
    "\n",
    "# Searching for multiple values\n",
    "values_to_find = np.array([0, 2, 6, 10])\n",
    "indices_multi = np.searchsorted(sorted_arr, values_to_find)\n",
    "print(\"Indices for [0, 2, 6, 10]:\", indices_multi) # Output: [0 1 3 5]"
   ]
  },
  {
   "cell_type": "markdown",
   "id": "5052ad2c",
   "metadata": {},
   "source": [
    "\n",
    "**Use cases:** Binning data, efficiently merging sorted arrays, or quickly checking if an element exists within a sorted range.\n",
    "\n",
    "### 2.5.4 `np.where()`: Conditional Element Selection (The Vectorized If-Else) 🤔\n",
    "\n",
    "We briefly touched upon `np.where()` in boolean indexing, but it's powerful enough to deserve its own spotlight. `np.where()` acts like a vectorized `if-else` statement.\n",
    "\n",
    "**Syntax:** `np.where(condition, x, y)`\n",
    "\n",
    "  * `condition`: A boolean array (or an array that can be cast to boolean).\n",
    "  * `x`: Value(s) to choose when `condition` is `True`.\n",
    "  * `y`: Value(s) to choose when `condition` is `False`.\n",
    "\n",
    "`x` and `y` can be scalars or arrays, and broadcasting rules apply.\n"
   ]
  },
  {
   "cell_type": "code",
   "execution_count": 81,
   "id": "362af62e",
   "metadata": {},
   "outputs": [
    {
     "name": "stdout",
     "output_type": "stream",
     "text": [
      "Original Grades: [75 88 62 95 55 70]\n",
      "Grades (below 70 are 0): [75 88  0 95  0 70]\n",
      "Pass/Fail (numeric): [1 1 0 1 0 1]\n",
      "\n",
      "Condition (arr_A > arr_B): [False  True False  True]\n",
      "Selected elements (where A > B, take A; else take B): [ 5 10  7 40]\n",
      "\n",
      "Indices where grades < 70: (array([2, 4]),)\n",
      "Values at those indices: [62 55]\n"
     ]
    }
   ],
   "source": [
    "grades = np.array([75, 88, 62, 95, 55, 70])\n",
    "print(\"Original Grades:\", grades)\n",
    "\n",
    "# Replace grades below 70 with 0, keep others as they are\n",
    "modified_grades = np.where(grades < 70, 0, grades)\n",
    "print(\"Grades (below 70 are 0):\", modified_grades)\n",
    "\n",
    "# Assign 'Pass' or 'Fail' based on a threshold\n",
    "# Need to use 'object' dtype for strings or convert to numerical representation\n",
    "pass_fail_numeric = np.where(grades >= 70, 1, 0) # 1 for Pass, 0 for Fail\n",
    "print(\"Pass/Fail (numeric):\", pass_fail_numeric)\n",
    "\n",
    "# Selecting elements from two different arrays based on a condition\n",
    "arr_A = np.array([1, 10, 3, 40])\n",
    "arr_B = np.array([5, 6, 7, 8])\n",
    "condition_select = arr_A > arr_B\n",
    "print(\"\\nCondition (arr_A > arr_B):\", condition_select)\n",
    "\n",
    "selected_elements = np.where(condition_select, arr_A, arr_B)\n",
    "print(\"Selected elements (where A > B, take A; else take B):\", selected_elements)\n",
    "# Output: [5 10 7 40] (1 from B, 10 from A, 7 from B, 40 from A)\n",
    "\n",
    "# np.where(condition) - if only condition is provided, returns indices of True values\n",
    "true_indices = np.where(grades < 70)\n",
    "print(\"\\nIndices where grades < 70:\", true_indices) # Returns a tuple of arrays, one for each dimension\n",
    "# For 1D, it's a single array of indices.\n",
    "print(\"Values at those indices:\", grades[true_indices])"
   ]
  },
  {
   "cell_type": "markdown",
   "id": "46455fa6",
   "metadata": {},
   "source": [
    "\n",
    "-----\n",
    "\n",
    "### ❓ Quick Quiz\\!\n",
    "\n",
    "1.  What's the difference in how `np.sort(my_array)` and `my_array.sort()` affect `my_array`?\n",
    "2.  You have a list of student names and their corresponding ages, both as NumPy arrays. How would you get the names sorted from youngest to oldest?\n",
    "3.  You have a sorted array `data = np.array([10, 20, 30, 40, 50])`. If you use `np.searchsorted(data, 25, side='right')`, what index will be returned?\n"
   ]
  },
  {
   "cell_type": "markdown",
   "id": "e468f67d",
   "metadata": {},
   "source": [
    "\n",
    "\n",
    "-----\n",
    "\n",
    "### 🎯 Real-World Mini-Project: Sales Data Analysis & Categorization\\!\n",
    "\n",
    "You have sales transaction data, including transaction IDs and amounts.\n",
    "\n",
    "`transaction_ids = np.array(['T101', 'T105', 'T102', 'T104', 'T103'])`\n",
    "`transaction_amounts = np.array([150.75, 25.00, 300.50, 75.20, 100.10])`\n",
    "\n",
    "**Challenge:**\n",
    "\n",
    "1.  Sort the `transaction_amounts` in ascending order. (Return a new array, don't modify original).\n",
    "2.  Get the `transaction_ids` sorted according to their `transaction_amounts` (from smallest to largest amount).\n",
    "3.  Categorize transactions into 'Low Value' (amount \\< 100) or 'High Value' (amount \\>= 100). Use `np.where()` to create a new array `transaction_categories` containing these strings.\n",
    "4.  A new transaction comes in with amount `175.00`. If `transaction_amounts` (from step 1, sorted) were already sorted, where would this new transaction be inserted to maintain the sorted order?\n",
    "\n"
   ]
  },
  {
   "cell_type": "code",
   "execution_count": 82,
   "id": "64e53981",
   "metadata": {},
   "outputs": [
    {
     "name": "stdout",
     "output_type": "stream",
     "text": [
      "Original Transaction IDs: ['T101' 'T105' 'T102' 'T104' 'T103']\n",
      "Original Transaction Amounts: [150.75  25.   300.5   75.2  100.1 ]\n",
      "\n",
      "1. Sorted Amounts:\n",
      "\n",
      "2. Transaction IDs sorted by Amount:\n",
      "\n",
      "3. Transaction Categories:\n",
      "\n",
      "4. Insertion point for 175.00 in sorted amounts: [ 25.    75.2  100.1  150.75 300.5 ]\n"
     ]
    }
   ],
   "source": [
    "# Your code for Real-World Mini-Project here!\n",
    "import numpy as np\n",
    "\n",
    "transaction_ids = np.array(['T101', 'T105', 'T102', 'T104', 'T103'])\n",
    "transaction_amounts = np.array([150.75, 25.00, 300.50, 75.20, 100.10])\n",
    "\n",
    "print(\"Original Transaction IDs:\", transaction_ids)\n",
    "print(\"Original Transaction Amounts:\", transaction_amounts)\n",
    "\n",
    "# 1. Sort transaction_amounts in ascending order (return new array)\n",
    "print(\"\\n1. Sorted Amounts:\")\n",
    "\n",
    "\n",
    "# 2. Sort transaction_ids based on transaction_amounts\n",
    "print(\"\\n2. Transaction IDs sorted by Amount:\")\n",
    "\n",
    "\n",
    "# 3. Categorize transactions as 'Low Value' or 'High Value'\n",
    "print(\"\\n3. Transaction Categories:\")\n",
    "\n",
    "\n",
    "# 4. Find insertion point for new transaction (175.00) in sorted amounts\n",
    "# First, ensure you have a truly sorted version of transaction_amounts\n",
    "sorted_amounts_for_search = np.sort(transaction_amounts) # Use the sorted array from Q1 or re-sort\n",
    "print(\"\\n4. Insertion point for 175.00 in sorted amounts:\", sorted_amounts_for_search)"
   ]
  },
  {
   "cell_type": "markdown",
   "id": "685aa4e5",
   "metadata": {},
   "source": [
    "\n",
    "-----\n",
    "\n",
    "# **🌟 Section 3: Advanced NumPy - Mastering the Library 🌟**\n",
    "\n",
    "Welcome to the advanced section\\! Here, we'll dive into functionalities that unlock NumPy's full potential for numerical computation, especially in scientific computing, machine learning, and simulations. Get ready to tackle more complex operations\\! 🎓\n",
    "\n",
    "-----\n",
    "\n",
    "# 3.1 Linear Algebra with NumPy\n",
    "\n",
    "Linear algebra is the mathematics of vectors, vector spaces, and linear transformations. It's the backbone of countless scientific and engineering fields, and crucial for understanding algorithms in machine learning (e.g., neural networks, principal component analysis, linear regression). NumPy's `linalg` submodule provides a highly optimized set of functions for linear algebra. ➕➖✖️➗\n",
    "\n",
    "## 📚 Table of Contents\n",
    "\n",
    "### Section 3: Advanced NumPy - Mastering the Library\n",
    "\n",
    "  * **3.1 Linear Algebra with NumPy**\n",
    "\n",
    "      * 3.1.1 Dot Product: `np.dot()`, `@` operator\n",
    "      * 3.1.2 Matrix Multiplication: `np.matmul()`\n",
    "      * 3.1.3 Inverse of a Matrix: `np.linalg.inv()`\n",
    "      * 3.1.4 Determinant of a Matrix: `np.linalg.det()`\n",
    "      * 3.1.5 Eigenvalues and Eigenvectors: `np.linalg.eig()`\n",
    "      * 3.1.6 Solving Linear Equations: `np.linalg.solve()`\n",
    "\n",
    "  * **3.2 Random Number Generation**\n",
    "\n",
    "      * 3.2.1 `np.random` Module: Introduction\n",
    "      * 3.2.2 Generating Random Integers: `np.random.randint()`\n",
    "      * 3.2.3 Generating Random Floats: `np.random.rand()`, `np.random.randn()`\n",
    "      * 3.2.4 Shuffling Arrays: `np.random.shuffle()`\n",
    "      * 3.2.5 Setting Seed for Reproducibility: `np.random.seed()`\n",
    "      * 3.2.6 Sampling from Distributions: `np.random.normal()`, `np.random.uniform()`\n"
   ]
  },
  {
   "cell_type": "markdown",
   "id": "45050558",
   "metadata": {},
   "source": [
    "\n",
    "### 3.1.1 Dot Product: `np.dot()`, `@` operator ⚫\n",
    "\n",
    "The dot product is a fundamental operation. Its meaning depends on the dimensions of the inputs:\n",
    "\n",
    "  * **Vector-Vector Dot Product (1D arrays):** Returns a scalar. It's the sum of the products of corresponding elements.\n",
    "  * **Matrix-Vector Dot Product:** Returns a vector.\n",
    "  * **Matrix-Matrix Dot Product:** Returns a matrix (this is what is generally referred to as matrix multiplication).\n",
    "\n",
    "<!-- end list -->\n"
   ]
  },
  {
   "cell_type": "code",
   "execution_count": 83,
   "id": "c003171d",
   "metadata": {},
   "outputs": [
    {
     "name": "stdout",
     "output_type": "stream",
     "text": [
      "Dot product of v1 and v2: 32\n"
     ]
    }
   ],
   "source": [
    "import numpy as np\n",
    "\n",
    "# 1D Vectors\n",
    "v1 = np.array([1, 2, 3])\n",
    "v2 = np.array([4, 5, 6])\n",
    "\n",
    "# Dot product of two 1D vectors (1*4 + 2*5 + 3*6 = 4 + 10 + 18 = 32)\n",
    "dot_product_vv = np.dot(v1, v2)\n",
    "print(\"Dot product of v1 and v2:\", dot_product_vv)"
   ]
  },
  {
   "cell_type": "markdown",
   "id": "fd6f3718",
   "metadata": {},
   "source": [
    "\n",
    "For 2D arrays (matrices), `np.dot()` performs matrix multiplication. However, for clarity and consistency, especially with Python 3.5+, the dedicated matrix multiplication operator `@` or `np.matmul()` is preferred.\n"
   ]
  },
  {
   "cell_type": "code",
   "execution_count": 84,
   "id": "6d3f6b30",
   "metadata": {},
   "outputs": [
    {
     "name": "stdout",
     "output_type": "stream",
     "text": [
      "\n",
      "Matrix multiplication (np.dot):\n",
      " [[19 22]\n",
      " [43 50]]\n",
      "Matrix multiplication (@ operator):\n",
      " [[19 22]\n",
      " [43 50]]\n",
      "\n",
      "Element-wise multiplication (A * B):\n",
      " [[ 5 12]\n",
      " [21 32]]\n"
     ]
    }
   ],
   "source": [
    "# 2D Matrices\n",
    "A = np.array([[1, 2],\n",
    "              [3, 4]])\n",
    "B = np.array([[5, 6],\n",
    "              [7, 8]])\n",
    "\n",
    "# Matrix multiplication using np.dot()\n",
    "matrix_mult_dot = np.dot(A, B)\n",
    "print(\"\\nMatrix multiplication (np.dot):\\n\", matrix_mult_dot)\n",
    "\n",
    "# Matrix multiplication using the @ operator (preferred for clarity)\n",
    "matrix_mult_at = A @ B\n",
    "print(\"Matrix multiplication (@ operator):\\n\", matrix_mult_at)\n",
    "\n",
    "# Important distinction: Element-wise multiplication vs. Dot Product\n",
    "element_wise_mult = A * B # This is NOT matrix multiplication!\n",
    "print(\"\\nElement-wise multiplication (A * B):\\n\", element_wise_mult)"
   ]
  },
  {
   "cell_type": "markdown",
   "id": "4d47dc7e",
   "metadata": {},
   "source": [
    "\n",
    "**💡 Pro Tip:** Always use `@` or `np.matmul()` for matrix multiplication. It makes your code clearer about intent, and `np.dot()` can have different behaviors depending on input dimensions, which can sometimes be confusing.\n",
    "\n",
    "### 3.1.2 Matrix Multiplication: `np.matmul()` ✖️\n",
    "\n",
    "`np.matmul()` is the dedicated function for matrix multiplication. It handles arrays with more than 2 dimensions in a more intuitive way than `np.dot()`. For 2D inputs, `np.matmul(A, B)` is equivalent to `A @ B`.\n",
    "\n",
    "**Compatibility Rule:** For $A$ of shape $(..., N, M)$ and $B$ of shape $(..., M, P)$, the result will have shape $(..., N, P)$. The \"inner\" dimensions (`M`) must match.\n"
   ]
  },
  {
   "cell_type": "code",
   "execution_count": 85,
   "id": "3eddc390",
   "metadata": {},
   "outputs": [
    {
     "name": "stdout",
     "output_type": "stream",
     "text": [
      "Result of np.matmul(mat1, mat2):\n",
      " [[19 22]\n",
      " [43 50]]\n",
      "\n",
      "Matrix-vector product (mat1 @ vector): [29 67]\n"
     ]
    }
   ],
   "source": [
    "mat1 = np.array([[1, 2],\n",
    "                 [3, 4]])\n",
    "mat2 = np.array([[5, 6],\n",
    "                 [7, 8]])\n",
    "\n",
    "# Using np.matmul() for 2D matrices\n",
    "result_matmul = np.matmul(mat1, mat2)\n",
    "print(\"Result of np.matmul(mat1, mat2):\\n\", result_matmul)\n",
    "\n",
    "# matmul also handles matrix-vector products correctly (vector treated as 1D matrix)\n",
    "vector = np.array([9, 10])\n",
    "mat_vec_product = np.matmul(mat1, vector)\n",
    "print(\"\\nMatrix-vector product (mat1 @ vector):\", mat_vec_product)"
   ]
  },
  {
   "cell_type": "markdown",
   "id": "10f159f1",
   "metadata": {},
   "source": [
    "\n",
    "### 3.1.3 Inverse of a Matrix: `np.linalg.inv()` ↩️\n",
    "\n",
    "The inverse of a square matrix $A$, denoted $A^{-1}$, is a matrix such that when multiplied by $A$, it yields the identity matrix $I$ ($A A^{-1} = A^{-1} A = I$).\n",
    "Not all matrices have an inverse; they must be square and non-singular (i.e., their determinant must not be zero).\n"
   ]
  },
  {
   "cell_type": "code",
   "execution_count": 86,
   "id": "2a21e85b",
   "metadata": {},
   "outputs": [
    {
     "name": "stdout",
     "output_type": "stream",
     "text": [
      "Original Matrix for Inverse:\n",
      " [[1 2]\n",
      " [3 4]]\n",
      "Inverse Matrix:\n",
      " [[-2.   1. ]\n",
      " [ 1.5 -0.5]]\n",
      "A @ A_inv (should be identity):\n",
      " [[1.0000000e+00 0.0000000e+00]\n",
      " [8.8817842e-16 1.0000000e+00]]\n",
      "Is A @ A_inv close to identity?\n",
      " True\n",
      "\n",
      "Singular Matrix:\n",
      " [[1 2]\n",
      " [2 4]]\n",
      "Error for singular matrix: Singular matrix\n"
     ]
    }
   ],
   "source": [
    "matrix_for_inv = np.array([[1, 2],\n",
    "                           [3, 4]])\n",
    "print(\"Original Matrix for Inverse:\\n\", matrix_for_inv)\n",
    "\n",
    "# Calculate the inverse\n",
    "try:\n",
    "    inverse_matrix = np.linalg.inv(matrix_for_inv)\n",
    "    print(\"Inverse Matrix:\\n\", inverse_matrix)\n",
    "\n",
    "    # Verify: A @ A_inv should be close to identity matrix\n",
    "    identity_check = matrix_for_inv @ inverse_matrix\n",
    "    print(\"A @ A_inv (should be identity):\\n\", identity_check)\n",
    "    # Due to floating point precision, it might not be exact 1s and 0s.\n",
    "    # np.allclose is useful for checking approximate equality.\n",
    "    print(\"Is A @ A_inv close to identity?\\n\", np.allclose(identity_check, np.eye(2)))\n",
    "\n",
    "except np.linalg.LinAlgError as e:\n",
    "    print(f\"Error: {e}. Matrix might be singular (no inverse).\")\n",
    "\n",
    "# Example of a singular matrix (determinant is 0)\n",
    "singular_matrix = np.array([[1, 2],\n",
    "                            [2, 4]])\n",
    "print(\"\\nSingular Matrix:\\n\", singular_matrix)\n",
    "try:\n",
    "    np.linalg.inv(singular_matrix)\n",
    "except np.linalg.LinAlgError as e:\n",
    "    print(f\"Error for singular matrix: {e}\")"
   ]
  },
  {
   "cell_type": "markdown",
   "id": "b0cd338a",
   "metadata": {},
   "source": [
    "\n",
    "### 3.1.4 Determinant of a Matrix: `np.linalg.det()` ⚖️\n",
    "\n",
    "The determinant of a square matrix is a single scalar value that provides information about the matrix, such as whether it's invertible (determinant $\\\\neq 0$) or if the linear transformation it represents scales or flips space.\n"
   ]
  },
  {
   "cell_type": "code",
   "execution_count": 87,
   "id": "6b2c0344",
   "metadata": {},
   "outputs": [
    {
     "name": "stdout",
     "output_type": "stream",
     "text": [
      "Original Matrix for Determinant:\n",
      " [[1 2]\n",
      " [3 4]]\n",
      "Determinant: -2.0000000000000004\n",
      "\n",
      "Determinant of singular matrix: 0.0\n"
     ]
    }
   ],
   "source": [
    "matrix_for_det = np.array([[1, 2],\n",
    "                           [3, 4]])\n",
    "print(\"Original Matrix for Determinant:\\n\", matrix_for_det)\n",
    "\n",
    "# Calculate the determinant (1*4 - 2*3 = 4 - 6 = -2)\n",
    "determinant = np.linalg.det(matrix_for_det)\n",
    "print(\"Determinant:\", determinant)\n",
    "\n",
    "singular_matrix = np.array([[1, 2],\n",
    "                            [2, 4]])\n",
    "singular_det = np.linalg.det(singular_matrix)\n",
    "print(\"\\nDeterminant of singular matrix:\", singular_det) # Should be close to 0"
   ]
  },
  {
   "cell_type": "markdown",
   "id": "0ff64e57",
   "metadata": {},
   "source": [
    "\n",
    "### 3.1.5 Eigenvalues and Eigenvectors: `np.linalg.eig()` 💡\n",
    "\n",
    "Eigenvalues and eigenvectors are fundamental concepts, particularly in areas like Principal Component Analysis (PCA), spectral analysis, and quantum mechanics.\n",
    "\n",
    "  * An **eigenvector** of a linear transformation is a non-zero vector that changes at most by a scalar factor when that linear transformation is applied to it.\n",
    "  * The **eigenvalue** is the scalar factor by which the eigenvector is scaled.\n",
    "\n",
    "`np.linalg.eig()` returns two outputs: a 1D array of eigenvalues and a 2D array where each column is an eigenvector.\n"
   ]
  },
  {
   "cell_type": "code",
   "execution_count": 88,
   "id": "597db0be",
   "metadata": {},
   "outputs": [
    {
     "name": "stdout",
     "output_type": "stream",
     "text": [
      "Matrix for Eigenvalues/vectors:\n",
      " [[ 0  1]\n",
      " [-2 -3]]\n",
      "\n",
      "Eigenvalues: [-1. -2.]\n",
      "Eigenvectors (columns are eigenvectors):\n",
      " [[ 0.70710678 -0.4472136 ]\n",
      " [-0.70710678  0.89442719]]\n",
      "\n",
      "Verify Eigenvector/Eigenvalue relationship:\n",
      "A @ v (LHS): [-0.70710678  0.70710678]\n",
      "lambda * v (RHS): [-0.70710678  0.70710678]\n",
      "Are they approximately equal? True\n"
     ]
    }
   ],
   "source": [
    "matrix_for_eig = np.array([[0, 1],\n",
    "                           [-2, -3]])\n",
    "print(\"Matrix for Eigenvalues/vectors:\\n\", matrix_for_eig)\n",
    "\n",
    "# Calculate eigenvalues and eigenvectors\n",
    "eigenvalues, eigenvectors = np.linalg.eig(matrix_for_eig)\n",
    "print(\"\\nEigenvalues:\", eigenvalues)\n",
    "print(\"Eigenvectors (columns are eigenvectors):\\n\", eigenvectors)\n",
    "\n",
    "# Verification (Optional): A @ v = lambda * v\n",
    "# where A is the matrix, v is an eigenvector, lambda is its eigenvalue.\n",
    "# Let's take the first eigenvalue and eigenvector:\n",
    "first_eigenvalue = eigenvalues[0]\n",
    "first_eigenvector = eigenvectors[:, 0] # First column\n",
    "\n",
    "lhs = matrix_for_eig @ first_eigenvector\n",
    "rhs = first_eigenvalue * first_eigenvector\n",
    "\n",
    "print(\"\\nVerify Eigenvector/Eigenvalue relationship:\")\n",
    "print(\"A @ v (LHS):\", lhs)\n",
    "print(\"lambda * v (RHS):\", rhs)\n",
    "print(\"Are they approximately equal?\", np.allclose(lhs, rhs))"
   ]
  },
  {
   "cell_type": "markdown",
   "id": "05064cc6",
   "metadata": {},
   "source": [
    "\n",
    "### 3.1.6 Solving Linear Equations: `np.linalg.solve()` ⚙️\n",
    "\n",
    "Consider a system of linear equations in the form $Ax = B$, where:\n",
    "\n",
    "  * $A$ is a coefficient matrix.\n",
    "  * $x$ is the vector of unknowns we want to find.\n",
    "  * $B$ is the constant vector.\n",
    "\n",
    "`np.linalg.solve(A, B)` is the most robust and numerically stable way to solve such systems. It's generally preferred over calculating $A^{-1} @ B$ because it avoids explicit inversion, which can be less stable and slower.\n"
   ]
  },
  {
   "cell_type": "code",
   "execution_count": 89,
   "id": "30ad2f2a",
   "metadata": {},
   "outputs": [
    {
     "name": "stdout",
     "output_type": "stream",
     "text": [
      "Coefficient Matrix A:\n",
      " [[1 2]\n",
      " [3 4]]\n",
      "Constant Vector B: [ 9 23]\n",
      "\n",
      "Solution [x, y]: [5. 2.]\n",
      "Verification (A @ solution_x): [ 9. 23.]\n",
      "Does it equal B? True\n"
     ]
    }
   ],
   "source": [
    "# Example:\n",
    "# x + 2y = 9\n",
    "# 3x + 4y = 23\n",
    "\n",
    "# Define matrix A (coefficients)\n",
    "A_coeffs = np.array([[1, 2],\n",
    "                     [3, 4]])\n",
    "\n",
    "# Define vector B (constants)\n",
    "B_constants = np.array([9, 23])\n",
    "\n",
    "print(\"Coefficient Matrix A:\\n\", A_coeffs)\n",
    "print(\"Constant Vector B:\", B_constants)\n",
    "\n",
    "# Solve for x (the unknown vector [x, y])\n",
    "solution_x = np.linalg.solve(A_coeffs, B_constants)\n",
    "print(\"\\nSolution [x, y]:\", solution_x) # Should be [5, 2]\n",
    "\n",
    "# Verify the solution\n",
    "verification = A_coeffs @ solution_x\n",
    "print(\"Verification (A @ solution_x):\", verification)\n",
    "print(\"Does it equal B?\", np.allclose(verification, B_constants))"
   ]
  },
  {
   "cell_type": "markdown",
   "id": "b4586425",
   "metadata": {},
   "source": [
    "\n",
    "-----\n",
    "\n",
    "### ❓ Quick Quiz\\! (Linear Algebra)\n",
    "\n",
    "1.  If `M = np.array([[1, 0], [0, 1]])`, what is `np.linalg.inv(M)`?\n",
    "2.  You have a system of equations: $2x + y = 7$ and $x - 3y = -7$. How would you represent this system using NumPy arrays `A` and `B` for `np.linalg.solve(A, B)`?\n",
    "3.  For matrix multiplication `A @ B`, what is the rule regarding the dimensions of `A` and `B` that must be compatible?\n"
   ]
  },
  {
   "cell_type": "markdown",
   "id": "2454913a",
   "metadata": {},
   "source": [
    "\n",
    "-----\n",
    "\n",
    "### 🎯 Real-World Mini-Project: Regression Coefficient Calculation\\!\n",
    "\n",
    "In simple linear regression, you're trying to find the best-fit line $y = mx + b$ that describes the relationship between two variables. If you have multiple data points $(x\\_i, y\\_i)$, you can set up a system of linear equations to solve for $m$ (slope) and $b$ (y-intercept) using the **Normal Equation**:\n",
    "$\\\\mathbf{\\\\beta} = (\\\\mathbf{X}^T \\\\mathbf{X})^{-1} \\\\mathbf{X}^T \\\\mathbf{y}$\n",
    "Where:\n",
    "\n",
    "  * $\\\\mathbf{\\\\beta}$ is the vector of coefficients (here, `[b, m]`).\n",
    "  * $\\\\mathbf{X}$ is the design matrix, typically `[[1, x1], [1, x2], ..., [1, x_n]]`.\n",
    "  * $\\\\mathbf{y}$ is the vector of target values `[y1, y2, ..., y_n]`.\n",
    "\n",
    "**Challenge:**\n",
    "\n",
    "Given `X_data = np.array([1, 2, 3, 4, 5])` (your independent variable) and `y_data = np.array([2.5, 4.0, 5.5, 7.0, 8.5])` (your dependent variable):\n",
    "\n",
    "1.  Construct the **design matrix `X`**. Remember it should be `(num_samples, 2)` where the first column is all ones.\n",
    "2.  Calculate $\\\\mathbf{X}^T \\\\mathbf{X}$ (let's call this `XtX`).\n",
    "3.  Calculate $(\\\\mathbf{X}^T \\\\mathbf{X})^{-1}$ (let's call this `XtX_inv`).\n",
    "4.  Calculate $\\\\mathbf{X}^T \\\\mathbf{y}$ (let's call this `Xty`).\n",
    "5.  Finally, compute the coefficients $\\\\mathbf{\\\\beta}$ by multiplying `XtX_inv` and `Xty`. The first element of $\\\\mathbf{\\\\beta}$ will be the intercept ($b$) and the second will be the slope ($m$).\n",
    "\n",
    "<!-- end list -->"
   ]
  },
  {
   "cell_type": "code",
   "execution_count": null,
   "id": "f966b25d",
   "metadata": {},
   "outputs": [],
   "source": [
    "# Your code for Real-World Mini-Project here!\n",
    "import numpy as np\n",
    "\n",
    "X_data = np.array([1, 2, 3, 4, 5])\n",
    "y_data = np.array([2.5, 4.0, 5.5, 7.0, 8.5])\n",
    "\n",
    "print(\"X_data:\", X_data)\n",
    "print(\"y_data:\", y_data)\n",
    "\n",
    "# 1. Construct the design matrix X\n",
    "# Hint: Use np.ones or np.column_stack / np.vstack + np.newaxis\n",
    "print(\"\\n1. Design Matrix X:\\n\")\n",
    "\n",
    "\n",
    "# 2. Calculate XtX (X_transpose @ X)\n",
    "print(\"\\n2. XtX (X_transpose @ X):\\n\")\n",
    "\n",
    "\n",
    "# 3. Calculate XtX_inv (inverse of XtX)\n",
    "print(\"\\n3. XtX_inv (Inverse of XtX):\\n\")\n",
    "\n",
    "\n",
    "# 4. Calculate Xty (X_transpose @ y)\n",
    "print(\"\\n4. Xty (X_transpose @ y):\\n\")\n",
    "\n",
    "\n",
    "# 5. Calculate coefficients beta (XtX_inv @ Xty)\n",
    "print(\"\\n5. Coefficients Beta [b, m]:\\n\")\n"
   ]
  },
  {
   "cell_type": "markdown",
   "id": "5d7d6cf3",
   "metadata": {},
   "source": [
    "\n",
    "-----\n",
    "\n",
    "# 3.2 Random Number Generation\n",
    "\n",
    "Random numbers are fundamental in various computational tasks: simulations (Monte Carlo methods), statistical sampling, machine learning (initializing weights, splitting data), and cryptography. NumPy's `np.random` module is your go-to for generating sequences of pseudo-random numbers efficiently. 🎲🍀\n"
   ]
  },
  {
   "cell_type": "markdown",
   "id": "04274a6a",
   "metadata": {},
   "source": [
    "\n",
    "### 3.2.1 `np.random` Module: Introduction 🎰\n",
    "\n",
    "Computers cannot generate truly random numbers; they generate **pseudo-random** numbers using deterministic algorithms. These algorithms start from a \"seed\" value and produce a sequence that appears random. For most practical purposes, these are sufficient.\n",
    "\n",
    "The `np.random` module provides functions to generate numbers from various probability distributions.\n",
    "\n",
    "### 3.2.2 Generating Random Integers: `np.random.randint()` 🔢\n",
    "\n",
    "`np.random.randint(low, high, size=None, dtype='int32')`\n",
    "\n",
    "  * `low`: Lowest (inclusive) integer to be drawn.\n",
    "  * `high`: Highest (exclusive) integer to be drawn.\n",
    "  * `size`: Output shape. If `None`, a single integer is returned.\n",
    "\n",
    "<!-- end list -->\n"
   ]
  },
  {
   "cell_type": "code",
   "execution_count": null,
   "id": "bd33e901",
   "metadata": {},
   "outputs": [],
   "source": [
    "# Generate a single random integer between 0 (inclusive) and 10 (exclusive)\n",
    "rand_int_single = np.random.randint(0, 10)\n",
    "print(\"Single random integer (0-9):\", rand_int_single)\n",
    "\n",
    "# Generate a 1D array of 5 random integers between 1 and 100\n",
    "rand_int_1d = np.random.randint(1, 101, size=5)\n",
    "print(\"5 random integers (1-100):\", rand_int_1d)\n",
    "\n",
    "# Generate a 3x3 2D array of random integers between 50 and 100\n",
    "rand_int_2d = np.random.randint(50, 101, size=(3, 3))\n",
    "print(\"\\n3x3 random integers (50-100):\\n\", rand_int_2d)"
   ]
  },
  {
   "cell_type": "markdown",
   "id": "1631a923",
   "metadata": {},
   "source": [
    "\n",
    "### 3.2.3 Generating Random Floats: `np.random.rand()`, `np.random.randn()` 🎈\n",
    "\n",
    "#### `np.random.rand()`: Uniform Distribution (0.0 to 1.0)\n",
    "\n",
    "Generates random floats from a **uniform distribution** over `[0.0, 1.0)`. The arguments specify the shape of the output array directly.\n"
   ]
  },
  {
   "cell_type": "code",
   "execution_count": 90,
   "id": "81063b7e",
   "metadata": {},
   "outputs": [
    {
     "name": "stdout",
     "output_type": "stream",
     "text": [
      "Single random float (0.0-1.0): 0.3711592126691232\n",
      "\n",
      "2x2 random floats (uniform 0.0-1.0):\n",
      " [[0.7523832  0.02167982]\n",
      " [0.61770498 0.17657657]]\n"
     ]
    }
   ],
   "source": [
    "# Single random float between 0.0 and 1.0\n",
    "rand_float_single = np.random.rand()\n",
    "print(\"Single random float (0.0-1.0):\", rand_float_single)\n",
    "\n",
    "# A 2x2 array of random floats from uniform distribution\n",
    "rand_float_2x2 = np.random.rand(2, 2)\n",
    "print(\"\\n2x2 random floats (uniform 0.0-1.0):\\n\", rand_float_2x2)"
   ]
  },
  {
   "cell_type": "markdown",
   "id": "6594b35e",
   "metadata": {},
   "source": [
    "\n",
    "#### `np.random.randn()`: Standard Normal Distribution\n",
    "\n",
    "Generates random floats from the **standard normal (Gaussian) distribution** (mean=0, standard deviation=1). The arguments specify the shape of the output array directly.\n"
   ]
  },
  {
   "cell_type": "code",
   "execution_count": 91,
   "id": "99b5b4b3",
   "metadata": {},
   "outputs": [
    {
     "name": "stdout",
     "output_type": "stream",
     "text": [
      "Single random float (standard normal): 1.068287164341065\n",
      "\n",
      "2x3 random floats (standard normal):\n",
      " [[-1.21879181 -1.29849523 -0.33324604]\n",
      " [ 0.00719617 -1.37241262 -0.00851322]]\n"
     ]
    }
   ],
   "source": [
    "# Single random float from standard normal distribution\n",
    "rand_normal_single = np.random.randn()\n",
    "print(\"Single random float (standard normal):\", rand_normal_single)\n",
    "\n",
    "# A 2x3 array of random floats from standard normal distribution\n",
    "rand_normal_2x3 = np.random.randn(2, 3)\n",
    "print(\"\\n2x3 random floats (standard normal):\\n\", rand_normal_2x3)"
   ]
  },
  {
   "cell_type": "markdown",
   "id": "19fb1f05",
   "metadata": {},
   "source": [
    "\n",
    "### 3.2.4 Shuffling Arrays: `np.random.shuffle()`, `np.random.permutation()` 🔀\n",
    "\n",
    "#### `np.random.shuffle(x)`: In-place Shuffle\n",
    "\n",
    "Modifies the sequence `x` by shuffling its contents *in-place*. For multi-dimensional arrays, it shuffles along the first axis only (rows).\n"
   ]
  },
  {
   "cell_type": "code",
   "execution_count": 92,
   "id": "c2764ed0",
   "metadata": {},
   "outputs": [
    {
     "name": "stdout",
     "output_type": "stream",
     "text": [
      "Original List: [1, 2, 3, 4, 5]\n",
      "Shuffled List (in-place): [2, 1, 5, 4, 3]\n",
      "\n",
      "Original NumPy Array: [10 20 30 40 50]\n",
      "Shuffled NumPy Array (in-place): [30 50 20 40 10]\n",
      "\n",
      "Original Matrix:\n",
      " [[1 2 3]\n",
      " [4 5 6]\n",
      " [7 8 9]]\n",
      "Shuffled Matrix (rows shuffled):\n",
      " [[4 5 6]\n",
      " [1 2 3]\n",
      " [7 8 9]]\n"
     ]
    }
   ],
   "source": [
    "my_list = [1, 2, 3, 4, 5]\n",
    "print(\"Original List:\", my_list)\n",
    "np.random.shuffle(my_list) # Works on lists too!\n",
    "print(\"Shuffled List (in-place):\", my_list)\n",
    "\n",
    "arr_to_shuffle = np.array([10, 20, 30, 40, 50])\n",
    "print(\"\\nOriginal NumPy Array:\", arr_to_shuffle)\n",
    "np.random.shuffle(arr_to_shuffle) # Modifies arr_to_shuffle\n",
    "print(\"Shuffled NumPy Array (in-place):\", arr_to_shuffle)\n",
    "\n",
    "# For 2D arrays, shuffles rows\n",
    "matrix_to_shuffle = np.array([[1, 2, 3],\n",
    "                              [4, 5, 6],\n",
    "                              [7, 8, 9]])\n",
    "print(\"\\nOriginal Matrix:\\n\", matrix_to_shuffle)\n",
    "np.random.shuffle(matrix_to_shuffle) # Shuffles rows\n",
    "print(\"Shuffled Matrix (rows shuffled):\\n\", matrix_to_shuffle)"
   ]
  },
  {
   "cell_type": "markdown",
   "id": "82c356b4",
   "metadata": {},
   "source": [
    "\n",
    "#### `np.random.permutation(x)`: Returns a New Permutation\n",
    "\n",
    "If `x` is an integer, `np.random.permutation(x)` returns a randomly shuffled array of `np.arange(x)`. If `x` is an array, it returns a shuffled *copy* of `x`.\n"
   ]
  },
  {
   "cell_type": "code",
   "execution_count": null,
   "id": "d8d0ea33",
   "metadata": {},
   "outputs": [],
   "source": [
    "# Permute indices from 0 to 4\n",
    "permutation_indices = np.random.permutation(5) # Shuffles np.arange(5) -> [0,1,2,3,4]\n",
    "print(\"Permutation of indices (0-4):\", permutation_indices)\n",
    "\n",
    "# Get a shuffled copy of an array\n",
    "original_arr_perm = np.array(['A', 'B', 'C', 'D'])\n",
    "shuffled_copy = np.random.permutation(original_arr_perm)\n",
    "print(\"Original array for permutation:\", original_arr_perm)\n",
    "print(\"Shuffled copy (np.random.permutation):\", shuffled_copy)\n",
    "print(\"Original array after permutation (unchanged):\", original_arr_perm) # Original is unchanged!"
   ]
  },
  {
   "cell_type": "markdown",
   "id": "c3eb1eb0",
   "metadata": {},
   "source": [
    "\n",
    "### 3.2.5 Setting Seed for Reproducibility: `np.random.seed()` 🌱\n",
    "\n",
    "When working with random numbers, especially in research or machine learning, you often need to ensure that your results are **reproducible**. This means that if someone else runs your code (or you run it again later), they get the exact same \"random\" sequence.\n",
    "\n",
    "You achieve this by setting a **seed** for the random number generator using `np.random.seed()`. If you use the same seed, you'll get the same sequence of random numbers.\n"
   ]
  },
  {
   "cell_type": "code",
   "execution_count": null,
   "id": "538a8769",
   "metadata": {},
   "outputs": [],
   "source": [
    "print(\"--- Reproducible Randomness ---\")\n",
    "\n",
    "# First run with seed 42\n",
    "np.random.seed(42)\n",
    "print(\"Run 1 (Seed 42):\")\n",
    "print(\"  Random integer:\", np.random.randint(0, 100))\n",
    "print(\"  Random floats:\\n\", np.random.rand(2, 2))\n",
    "\n",
    "# Second run without setting seed (will be different)\n",
    "print(\"\\nRun 2 (No Seed):\")\n",
    "print(\"  Random integer:\", np.random.randint(0, 100))\n",
    "print(\"  Random floats:\\n\", np.random.rand(2, 2))\n",
    "\n",
    "# Third run with the same seed 42 (will be identical to Run 1)\n",
    "np.random.seed(42)\n",
    "print(\"\\nRun 3 (Seed 42 again):\")\n",
    "print(\"  Random integer:\", np.random.randint(0, 100))\n",
    "print(\"  Random floats:\\n\", np.random.rand(2, 2))"
   ]
  },
  {
   "cell_type": "markdown",
   "id": "39e581f9",
   "metadata": {},
   "source": [
    "\n",
    "**💡 Pro Tip:** Always set a seed at the beginning of your scripts or notebooks when using random numbers if you want to ensure your results can be replicated.\n",
    "\n",
    "### 3.2.6 Sampling from Distributions: `np.random.normal()`, `np.random.uniform()` 🔔📦\n",
    "\n",
    "Beyond simple random numbers, NumPy allows you to draw samples from specific probability distributions.\n",
    "\n",
    "#### `np.random.normal(loc=0.0, scale=1.0, size=None)`: Normal (Gaussian) Distribution\n",
    "\n",
    "  * `loc`: Mean ($\\\\mu$) of the distribution.\n",
    "  * `scale`: Standard deviation ($\\\\sigma$) of the distribution.\n",
    "  * `size`: Output shape.\n",
    "\n",
    "<!-- end list -->\n"
   ]
  },
  {
   "cell_type": "code",
   "execution_count": 93,
   "id": "976fcd23",
   "metadata": {},
   "outputs": [
    {
     "name": "stdout",
     "output_type": "stream",
     "text": [
      "5 samples from Standard Normal: [ 0.58386344 -0.31709327  0.1020865  -0.24739919 -0.64304722]\n",
      "10 samples from Normal (mean=10, std=2):\n",
      " [11.48910781 12.28959745 10.52738199  7.96221736  9.06330997  6.15140646\n",
      "  9.4441127   9.25804117 11.92579047 12.17795097]\n"
     ]
    }
   ],
   "source": [
    "# Draw 5 samples from a standard normal distribution (mean=0, std=1)\n",
    "normal_samples_std = np.random.normal(size=5)\n",
    "print(\"5 samples from Standard Normal:\", normal_samples_std)\n",
    "\n",
    "# Draw 10 samples from a normal distribution with mean 10 and std 2\n",
    "normal_samples_custom = np.random.normal(loc=10.0, scale=2.0, size=10)\n",
    "print(\"10 samples from Normal (mean=10, std=2):\\n\", normal_samples_custom)"
   ]
  },
  {
   "cell_type": "markdown",
   "id": "088a95b5",
   "metadata": {},
   "source": [
    "\n",
    "#### `np.random.uniform(low=0.0, high=1.0, size=None)`: Uniform Distribution\n",
    "\n",
    "  * `low`: Lower boundary of the output interval (inclusive).\n",
    "  * `high`: Upper boundary of the output interval (exclusive).\n",
    "  * `size`: Output shape.\n",
    "\n",
    "<!-- end list -->\n"
   ]
  },
  {
   "cell_type": "code",
   "execution_count": 94,
   "id": "40dd44a4",
   "metadata": {},
   "outputs": [
    {
     "name": "stdout",
     "output_type": "stream",
     "text": [
      "5 samples from Uniform (0-1): [0.79855264 0.46785548 0.14344068 0.90567049 0.59820903]\n",
      "8 samples from Uniform (-10 to 10):\n",
      " [ 1.53801707 -4.65174992 -8.25733173 -6.16595594  8.75077354  8.88265694\n",
      " -4.65245815  4.96330441]\n"
     ]
    }
   ],
   "source": [
    "# Draw 5 samples from a uniform distribution between 0 and 1 (default)\n",
    "uniform_samples_0_1 = np.random.uniform(size=5)\n",
    "print(\"5 samples from Uniform (0-1):\", uniform_samples_0_1)\n",
    "\n",
    "# Draw 8 samples from a uniform distribution between -10 and 10\n",
    "uniform_samples_neg_pos = np.random.uniform(low=-10.0, high=10.0, size=8)\n",
    "print(\"8 samples from Uniform (-10 to 10):\\n\", uniform_samples_neg_pos)"
   ]
  },
  {
   "cell_type": "markdown",
   "id": "a1b86fa7",
   "metadata": {},
   "source": [
    "\n",
    "-----\n",
    "\n",
    "### ❓ Quick Quiz\\! (Random Number Generation)\n",
    "\n",
    "1.  You want to generate a single random integer between 1 and 6 (inclusive, like a die roll). Which `np.random` function would you use and what arguments would you pass?\n",
    "2.  What is the key difference between `np.random.rand()` and `np.random.randn()`?\n",
    "3.  Why is setting `np.random.seed()` important for data science projects?\n"
   ]
  },
  {
   "cell_type": "markdown",
   "id": "842aea27",
   "metadata": {},
   "source": [
    "\n",
    "\n",
    "-----\n",
    "\n",
    "### 🎯 Real-World Mini-Project: Simulating Exam Scores\\!\n",
    "\n",
    "You are a teacher and want to simulate a class of 30 students' exam scores to analyze potential grade distributions.\n",
    "\n",
    "**Challenge:**\n",
    "\n",
    "1.  Generate 30 random exam scores for 'Midterm 1' that are integers between 60 and 100 (inclusive). Store them in an array called `midterm1_scores`.\n",
    "2.  Generate 30 random exam scores for 'Midterm 2' from a **normal distribution** with a mean of 75 and a standard deviation of 8. Store them in `midterm2_scores`.\n",
    "3.  To ensure your simulation is reproducible, set the random seed to `123` *before* generating the `midterm1_scores`.\n",
    "4.  You want to randomly assign students to two study groups. Create an array of student IDs `student_ids = np.arange(1, 31)`. Randomly shuffle these `student_ids` in-place.\n"
   ]
  },
  {
   "cell_type": "code",
   "execution_count": null,
   "id": "b62b6ed1",
   "metadata": {},
   "outputs": [],
   "source": [
    "# Your code for Real-World Mini-Project here!\n",
    "import numpy as np\n",
    "\n",
    "# 3. Set random seed for reproducibility\n",
    "print(\"--- Simulating Exam Scores ---\")\n",
    "\n",
    "# 1. Generate Midterm 1 scores (integers between 60 and 100, inclusive)\n",
    "print(\"\\n1. Midterm 1 Scores:\")\n",
    "\n",
    "\n",
    "# 2. Generate Midterm 2 scores (normal distribution, mean=75, std=8)\n",
    "print(\"\\n2. Midterm 2 Scores:\")\n",
    "\n",
    "\n",
    "# 4. Shuffle student IDs\n",
    "student_ids = np.arange(1, 31) # Student IDs 1 to 30\n",
    "print(\"\\n4. Original Student IDs:\", student_ids)\n",
    "print(\"   Shuffled Student IDs (in-place):\", student_ids)"
   ]
  },
  {
   "cell_type": "markdown",
   "id": "e71ff38e",
   "metadata": {},
   "source": [
    "\n",
    "\n",
    "-----\n",
    "\n",
    "# 3.3 Performance Considerations and Optimization\n",
    "\n",
    "One of the primary reasons to use NumPy is its incredible speed. But to truly harness this power, you need to understand how to write \"NumPy-idiomatic\" code, focusing on vectorized operations and efficient memory usage. 💪\n",
    "\n",
    "## 📚 Table of Contents\n",
    "\n",
    "### Section 3: Advanced NumPy - Mastering the Library\n",
    "\n",
    "  * **3.3 Performance Considerations and Optimization**\n",
    "\n",
    "      * 3.3.1 Vectorization: Why it's Crucial for Performance\n",
    "      * 3.3.2 Avoiding Loops: Embracing NumPy's Strengths\n",
    "      * 3.3.3 In-place Operations\n",
    "      * 3.3.4 Memory Layout (C-order vs. Fortran-order) - Brief Introduction\n",
    "      * 3.3.5 Using `timeit` for Performance Measurement\n",
    "\n",
    "  * **3.4 Structured Arrays (Record Arrays)**\n",
    "\n",
    "      * 3.4.1 Creating Structured Arrays\n",
    "      * 3.4.2 Accessing Fields\n",
    "      * 3.4.3 Use Cases: Representing Tabular Data\n",
    "\n",
    "  * **3.5 Input/Output with NumPy**\n",
    "\n",
    "      * 3.5.1 Saving and Loading Arrays: `np.save()`, `np.load()`, `np.savetxt()`, `np.loadtxt()`\n",
    "      * 3.5.2 Working with Binary Files (NPY, NPZ)\n",
    "      * 3.5.3 Reading and Writing CSV Files\n",
    "\n",
    "-----\n",
    "\n"
   ]
  },
  {
   "cell_type": "markdown",
   "id": "926a209e",
   "metadata": {},
   "source": [
    "\n",
    "### 3.3.1 Vectorization: Why it's Crucial for Performance 🏎️\n",
    "\n",
    "**Vectorization** refers to the art of replacing explicit `for` loops in Python with array operations. Instead of processing elements one by one, vectorized operations apply the same operation to an entire array (or parts of it) at once.\n",
    "\n",
    "**Why is it faster?**\n",
    "\n",
    "  * **Underlying C/Fortran Code:** NumPy's core operations (ufuncs, aggregations, linear algebra) are implemented in highly optimized, pre-compiled C or Fortran code. This code executes much faster than Python's interpreted loops.\n",
    "  * **Reduced Overhead:** Python loops involve significant overhead (checking types, incrementing counters, etc.) for each iteration. Vectorized operations reduce this overhead dramatically.\n",
    "  * **SIMD (Single Instruction, Multiple Data):** Modern CPUs have special instructions that can perform the same operation on multiple pieces of data simultaneously. NumPy operations can often leverage this, leading to massive speedups.\n"
   ]
  },
  {
   "cell_type": "markdown",
   "id": "8af85968",
   "metadata": {},
   "source": [
    "\n",
    "### 3.3.2 Avoiding Loops: Embracing NumPy's Strengths 🚫🔄\n",
    "\n",
    "Let's demonstrate the power of vectorization by comparing a simple operation using a Python loop versus a vectorized NumPy operation. We'll use the `%%timeit` magic command, available in Jupyter notebooks and IPython, to precisely measure execution time.\n"
   ]
  },
  {
   "cell_type": "code",
   "execution_count": null,
   "id": "d1f8033a",
   "metadata": {},
   "outputs": [],
   "source": [
    "import numpy as np\n",
    "import timeit # For use outside Jupyter\n",
    "\n",
    "# Create a large array\n",
    "large_array = np.arange(1, 1_000_001) # 1 million elements\n",
    "\n",
    "print(\"--- Comparing Loop vs. Vectorization ---\")\n",
    "\n",
    "# Python loop to add 5 to each element\n",
    "python_list = large_array.tolist() # Convert to a Python list for fair comparison\n",
    "\n",
    "# Using timeit.timeit for script execution or in a cell without %%timeit\n",
    "time_loop = timeit.timeit(\n",
    "    '[x + 5 for x in python_list]',\n",
    "    globals={'python_list': python_list},\n",
    "    number=10 # Run 10 times\n",
    ")\n",
    "print(f\"Time for Python loop: {time_loop:.6f} seconds (average over 10 runs)\")\n",
    "\n",
    "# Using NumPy vectorization\n",
    "time_vectorized = timeit.timeit(\n",
    "    'large_array + 5',\n",
    "    globals={'large_array': large_array},\n",
    "    number=1000 # Run 1000 times as it's much faster\n",
    ")\n",
    "print(f\"Time for NumPy vectorized: {time_vectorized:.6f} seconds (average over 1000 runs)\")\n",
    "\n",
    "\n",
    "# Example of %%timeit (for Jupyter/IPython cell magic)\n",
    "# Try running this in a Jupyter cell:\n",
    "# %timeit large_array + 5\n",
    "# %timeit [x + 5 for x in python_list]"
   ]
  },
  {
   "cell_type": "markdown",
   "id": "9234610b",
   "metadata": {},
   "source": [
    "\n",
    "You'll typically see vectorized NumPy operations being **hundreds or even thousands of times faster** than their Python loop counterparts for large arrays\\! This is the core reason NumPy is so prevalent in data science.\n"
   ]
  },
  {
   "cell_type": "markdown",
   "id": "cb650912",
   "metadata": {},
   "source": [
    "\n",
    "\n",
    "### 3.3.3 In-place Operations ♻️\n",
    "\n",
    "When you perform an operation like `arr = arr + 5`, a *new* array is created to store the result, and then the variable `arr` is reassigned to point to this new array. The old array might then be garbage-collected.\n",
    "\n",
    "However, many NumPy operations (especially arithmetic) support **in-place** modification, which means the operation happens directly on the original array's memory, avoiding the creation of a new array. This saves both memory allocation time and memory usage.\n"
   ]
  },
  {
   "cell_type": "code",
   "execution_count": 95,
   "id": "0707424f",
   "metadata": {},
   "outputs": [
    {
     "name": "stdout",
     "output_type": "stream",
     "text": [
      "Original data: [1 2 3 4 5]\n",
      "Memory address of original_data (id): 2919965437808\n",
      "New data (original_data + 10): [11 12 13 14 15]\n",
      "Memory address of new_data: 2919965575376\n",
      "\n",
      "Original data after += 10 (in-place): [11 12 13 14 15]\n",
      "Memory address of original_data after += 10: 2919965437808\n"
     ]
    }
   ],
   "source": [
    "original_data = np.array([1, 2, 3, 4, 5])\n",
    "print(\"Original data:\", original_data)\n",
    "print(\"Memory address of original_data (id):\", id(original_data))\n",
    "\n",
    "# Not in-place (creates new array)\n",
    "new_data = original_data + 10\n",
    "print(\"New data (original_data + 10):\", new_data)\n",
    "print(\"Memory address of new_data:\", id(new_data)) # Different ID\n",
    "\n",
    "# In-place operation\n",
    "original_data += 10 # Equivalent to original_data = original_data + 10 but in-place\n",
    "print(\"\\nOriginal data after += 10 (in-place):\", original_data)\n",
    "print(\"Memory address of original_data after += 10:\", id(original_data)) # Same ID!\n",
    "\n",
    "# Other in-place operators: -=, *=, /=, **="
   ]
  },
  {
   "cell_type": "markdown",
   "id": "c1b9fbbd",
   "metadata": {},
   "source": [
    "\n",
    "**💡 Pro Tip:** Use in-place operators (`+=`, `*=`, etc.) when you intend to modify the array directly and don't need the original values. This can be a significant optimization for very large arrays or when operations are chained.\n",
    "\n",
    "### 3.3.4 Memory Layout (C-order vs. Fortran-order) - Brief Introduction 🧠\n",
    "\n",
    "NumPy arrays store their data in a contiguous block of memory. How these elements are arranged in that block affects performance, especially when iterating or slicing.\n",
    "\n",
    "  * **C-order (Row-major, default in NumPy):** Elements of a row are contiguous in memory. When you iterate row by row, you're accessing memory sequentially, which is fast due to CPU cache efficiency.\n",
    "  * **Fortran-order (Column-major):** Elements of a column are contiguous in memory.\n",
    "\n",
    "<!-- end list -->"
   ]
  },
  {
   "cell_type": "code",
   "execution_count": 96,
   "id": "ce56e10b",
   "metadata": {},
   "outputs": [
    {
     "name": "stdout",
     "output_type": "stream",
     "text": [
      "C-order array:\n",
      " [[1 2 3]\n",
      " [4 5 6]]\n",
      "Is C-contiguous: True\n",
      "Is F-contiguous: False\n",
      "\n",
      "F-order array:\n",
      " [[1 2 3]\n",
      " [4 5 6]]\n",
      "Is C-contiguous: False\n",
      "Is F-contiguous: True\n"
     ]
    }
   ],
   "source": [
    "# Create a C-order (default) array\n",
    "c_array = np.array([[1, 2, 3],\n",
    "                    [4, 5, 6]], order='C')\n",
    "print(\"C-order array:\\n\", c_array)\n",
    "print(\"Is C-contiguous:\", c_array.flags['C_CONTIGUOUS'])\n",
    "print(\"Is F-contiguous:\", c_array.flags['F_CONTIGUOUS'])\n",
    "\n",
    "# Create a Fortran-order array\n",
    "f_array = np.array([[1, 2, 3],\n",
    "                    [4, 5, 6]], order='F')\n",
    "print(\"\\nF-order array:\\n\", f_array)\n",
    "print(\"Is C-contiguous:\", f_array.flags['C_CONTIGUOUS'])\n",
    "print(\"Is F-contiguous:\", f_array.flags['F_CONTIGUOUS'])\n",
    "\n",
    "# Performance implication: Iterating along the \"fast\" axis\n",
    "# Accessing c_array[row, :] (entire row) is faster.\n",
    "# Accessing f_array[:, col] (entire column) is faster."
   ]
  },
  {
   "cell_type": "markdown",
   "id": "37ca0844",
   "metadata": {},
   "source": [
    "\n",
    "**💡 Pro Tip:** While NumPy generally handles memory layout efficiently for you, if you are performing heavy operations that involve looping or custom calculations on large arrays, especially column-wise operations on C-order arrays, you might see minor performance gains by ensuring your array is in the correct memory order (e.g., transposing or explicitly creating with `order='F'`). For most users, this is an advanced optimization to consider only when profiling reveals a bottleneck.\n",
    "\n",
    "### 3.3.5 Using `timeit` for Performance Measurement ⏱️\n",
    "\n",
    "As seen above, `timeit` is invaluable for precise performance benchmarking.\n",
    "\n",
    "  * **`%%timeit` (Jupyter/IPython cell magic):** Place at the very top of a cell. It runs the code multiple times and provides mean and standard deviation of execution times.\n",
    "\n",
    "    ```python\n",
    "    # Example in a Jupyter cell:\n",
    "    # %%timeit\n",
    "    # my_array = np.random.rand(1000, 1000)\n",
    "    # my_array @ my_array\n",
    "    ```\n",
    "\n",
    "  * **`timeit.timeit(stmt, setup, number, globals)` (For scripts or inline):**\n",
    "\n",
    "      * `stmt`: The code snippet to measure (as a string).\n",
    "      * `setup`: Code to run once to set up the environment (as a string).\n",
    "      * `number`: How many times to execute `stmt`.\n",
    "      * `globals`: A dictionary of global variables to make available to `stmt` and `setup`.\n",
    "\n",
    "<!-- end list -->\n"
   ]
  },
  {
   "cell_type": "code",
   "execution_count": null,
   "id": "04a93979",
   "metadata": {},
   "outputs": [],
   "source": [
    "# Example using timeit.timeit\n",
    "setup_code = \"\"\"\n",
    "import numpy as np\n",
    "my_array = np.random.rand(1000, 1000)\n",
    "\"\"\"\n",
    "stmt_code = \"my_array @ my_array\"\n",
    "\n",
    "execution_time = timeit.timeit(stmt_code, setup=setup_code, number=10)\n",
    "print(f\"\\nTime for matrix multiplication (1000x1000): {execution_time:.6f} seconds (total over 10 runs)\")\n",
    "\n",
    "# You can also use functions for setup/stmt for more complex scenarios\n",
    "def matrix_mult_func():\n",
    "    m = np.random.rand(500, 500)\n",
    "    return m @ m\n",
    "\n",
    "# timeit.timeit can take a callable\n",
    "time_func = timeit.timeit(matrix_mult_func, number=50)\n",
    "print(f\"Time for matrix multiplication (500x500 via function): {time_func:.6f} seconds (total over 50 runs)\")"
   ]
  },
  {
   "cell_type": "markdown",
   "id": "d8b08323",
   "metadata": {},
   "source": [
    "\n",
    "**Key Takeaway:** Always profile your code before optimizing. Don't guess where bottlenecks are; measure them\\!\n"
   ]
  },
  {
   "cell_type": "markdown",
   "id": "08844721",
   "metadata": {},
   "source": [
    "\n",
    "-----\n",
    "\n",
    "# 3.4 Structured Arrays (Record Arrays)\n",
    "\n",
    "While standard NumPy arrays store homogeneous data (all elements of the same `dtype`), **structured arrays** (also called **record arrays**) allow you to define arrays where each element is a \"record\" or \"struct\" containing fields of different data types. This makes them useful for representing tabular data where columns have different meanings and types. 📊\n",
    "\n",
    "### 3.4.1 Creating Structured Arrays 🏗️\n",
    "\n",
    "You define the structure using a `dtype` that specifies field names and their corresponding data types."
   ]
  },
  {
   "cell_type": "code",
   "execution_count": 97,
   "id": "45c5e398",
   "metadata": {},
   "outputs": [
    {
     "name": "stdout",
     "output_type": "stream",
     "text": [
      "Structured Array (Students):\n",
      " [('Alice', 20, 3.8) ('Bob', 22, 3.5) ('Charlie', 21, 3.9)]\n",
      "Dtype of structured array: [('name', '<U10'), ('age', '<i4'), ('gpa', '<f8')]\n",
      "\n",
      "Empty Structured Array:\n",
      " [('', 0, 0.) ('', 0, 0.)]\n",
      "Filled Empty Structured Array:\n",
      " [('David', 23, 3.2) ('Eve', 19, 3.7)]\n"
     ]
    }
   ],
   "source": [
    "# Define the structure (field name, dtype)\n",
    "student_dtype = [('name', 'U10'), # Unicode string up to 10 characters\n",
    "                 ('age', 'i4'),   # 4-byte integer\n",
    "                 ('gpa', 'f8')]   # 8-byte float\n",
    "\n",
    "# Create a structured array\n",
    "students = np.array([(\"Alice\", 20, 3.8),\n",
    "                     (\"Bob\", 22, 3.5),\n",
    "                     (\"Charlie\", 21, 3.9)], dtype=student_dtype)\n",
    "\n",
    "print(\"Structured Array (Students):\\n\", students)\n",
    "print(\"Dtype of structured array:\", students.dtype)\n",
    "\n",
    "# You can also create an empty structured array and fill it\n",
    "empty_students = np.zeros(2, dtype=student_dtype)\n",
    "print(\"\\nEmpty Structured Array:\\n\", empty_students)\n",
    "empty_students[0] = (\"David\", 23, 3.2)\n",
    "empty_students[1] = (\"Eve\", 19, 3.7)\n",
    "print(\"Filled Empty Structured Array:\\n\", empty_students)"
   ]
  },
  {
   "cell_type": "markdown",
   "id": "9ece363b",
   "metadata": {},
   "source": [
    "\n",
    "### 3.4.2 Accessing Fields 🔑\n",
    "\n",
    "You can access data by field name using dictionary-like indexing or attribute-like access (though dictionary-like is safer and more common).\n"
   ]
  },
  {
   "cell_type": "code",
   "execution_count": 98,
   "id": "48abcfee",
   "metadata": {},
   "outputs": [
    {
     "name": "stdout",
     "output_type": "stream",
     "text": [
      "Student Names: ['Alice' 'Bob' 'Charlie']\n",
      "Student Ages: [20 22 21]\n",
      "\n",
      "First Student Record: ('Alice', 20, 3.8)\n",
      "Type of first_student: <class 'numpy.void'>\n",
      "First student's GPA: 3.8\n",
      "\n",
      "Students with GPA > 3.7:\n",
      " [('Alice', 20, 3.8) ('Charlie', 21, 3.9)]\n"
     ]
    }
   ],
   "source": [
    "# Access a specific field (column)\n",
    "names = students['name']\n",
    "print(\"Student Names:\", names)\n",
    "\n",
    "ages = students['age']\n",
    "print(\"Student Ages:\", ages)\n",
    "\n",
    "# Access a specific record (row)\n",
    "first_student = students[0]\n",
    "print(\"\\nFirst Student Record:\", first_student)\n",
    "print(\"Type of first_student:\", type(first_student)) # It's a numpy.void object\n",
    "\n",
    "# Access a field from a specific record\n",
    "first_student_gpa = students[0]['gpa']\n",
    "print(\"First student's GPA:\", first_student_gpa)\n",
    "\n",
    "# You can also use boolean indexing on fields\n",
    "high_gpa_students = students[students['gpa'] > 3.7]\n",
    "print(\"\\nStudents with GPA > 3.7:\\n\", high_gpa_students)"
   ]
  },
  {
   "cell_type": "markdown",
   "id": "b5d38c20",
   "metadata": {},
   "source": [
    "\n",
    "### 3.4.3 Use Cases: Representing Tabular Data 📊\n",
    "\n",
    "Structured arrays are excellent for:\n",
    "\n",
    "  * **Simple Tabular Data:** When you have a small-to-medium dataset with mixed data types and want to keep it in a single NumPy array.\n",
    "  * **Interfacing with C/Fortran:** They closely resemble `struct` types in C or `RECORD` types in Fortran, making data exchange straightforward.\n",
    "  * **Fixed-Schema Data:** If your data schema is stable and not expected to change frequently.\n",
    "\n",
    "**Comparison with Pandas DataFrames:**\n",
    "While structured arrays can hold tabular data, for more complex data manipulation, analysis, and cleaning (e.g., handling missing values gracefully, complex joins, time series operations), **Pandas DataFrames** are generally the preferred tool in Python. Pandas DataFrames are built on top of NumPy arrays and offer much richer functionality for heterogeneous data. Think of structured arrays as a lighter-weight, more direct NumPy way to handle heterogeneous records.\n",
    "\n"
   ]
  },
  {
   "cell_type": "markdown",
   "id": "feece261",
   "metadata": {},
   "source": [
    "\n",
    "-----\n",
    "\n",
    "# 3.5 Input/Output with NumPy\n",
    "\n",
    "Once you've done all that hard work with your NumPy arrays, you'll want to save them for later use and load them back efficiently. NumPy provides several functions for reading and writing array data. 💾📤📥\n",
    "\n",
    "### 3.5.1 Saving and Loading Arrays: `np.save()`, `np.load()`, `np.savetxt()`, `np.loadtxt()`\n",
    "\n",
    "#### Binary Format (`.npy`): Fast and lossless\\!\n",
    "\n",
    "This is NumPy's native binary format for single arrays. It preserves `dtype`, `shape`, and efficiently stores data.\n",
    "\n",
    "  * `np.save(filename, array)`: Saves a single array to a binary `.npy` file.\n",
    "  * `np.load(filename)`: Loads an array from a `.npy` file.\n",
    "\n",
    "<!-- end list -->"
   ]
  },
  {
   "cell_type": "code",
   "execution_count": 99,
   "id": "6818980b",
   "metadata": {},
   "outputs": [
    {
     "name": "stdout",
     "output_type": "stream",
     "text": [
      "Data to save:\n",
      " [[ 0  1  2  3  4  5  6  7  8  9]\n",
      " [10 11 12 13 14 15 16 17 18 19]\n",
      " [20 21 22 23 24 25 26 27 28 29]\n",
      " [30 31 32 33 34 35 36 37 38 39]\n",
      " [40 41 42 43 44 45 46 47 48 49]\n",
      " [50 51 52 53 54 55 56 57 58 59]\n",
      " [60 61 62 63 64 65 66 67 68 69]\n",
      " [70 71 72 73 74 75 76 77 78 79]\n",
      " [80 81 82 83 84 85 86 87 88 89]\n",
      " [90 91 92 93 94 95 96 97 98 99]]\n",
      "\n",
      "Array saved to my_array.npy\n",
      "Array loaded from my_array.npy:\n",
      " [[ 0  1  2  3  4  5  6  7  8  9]\n",
      " [10 11 12 13 14 15 16 17 18 19]\n",
      " [20 21 22 23 24 25 26 27 28 29]\n",
      " [30 31 32 33 34 35 36 37 38 39]\n",
      " [40 41 42 43 44 45 46 47 48 49]\n",
      " [50 51 52 53 54 55 56 57 58 59]\n",
      " [60 61 62 63 64 65 66 67 68 69]\n",
      " [70 71 72 73 74 75 76 77 78 79]\n",
      " [80 81 82 83 84 85 86 87 88 89]\n",
      " [90 91 92 93 94 95 96 97 98 99]]\n",
      "Shapes match: True\n",
      "Types match: True\n"
     ]
    }
   ],
   "source": [
    "data_to_save = np.arange(100).reshape(10, 10)\n",
    "print(\"Data to save:\\n\", data_to_save)\n",
    "\n",
    "# Save to .npy file\n",
    "npy_filename = 'my_array.npy'\n",
    "np.save(npy_filename, data_to_save)\n",
    "print(f\"\\nArray saved to {npy_filename}\")\n",
    "\n",
    "# Load from .npy file\n",
    "loaded_data_npy = np.load(npy_filename)\n",
    "print(f\"Array loaded from {npy_filename}:\\n\", loaded_data_npy)\n",
    "print(\"Shapes match:\", data_to_save.shape == loaded_data_npy.shape)\n",
    "print(\"Types match:\", data_to_save.dtype == loaded_data_npy.dtype)"
   ]
  },
  {
   "cell_type": "markdown",
   "id": "3ec861db",
   "metadata": {},
   "source": [
    "\n",
    "\n",
    "#### Text Format (`.txt`, `.csv`): Human-readable, less efficient\n",
    "\n",
    "Useful for sharing data with non-NumPy users or when human readability is paramount.\n",
    "\n",
    "  * `np.savetxt(filename, array, fmt='%.4f', delimiter=',')`: Saves an array to a text file.\n",
    "      * `fmt`: Format string (e.g., `'%.2f'` for 2 decimal places, `'%d'` for integers).\n",
    "      * `delimiter`: Separator between values (e.g., `','` for CSV, `' '` for space-separated).\n",
    "  * `np.loadtxt(filename, delimiter=',')`: Loads data from a text file.\n",
    "\n",
    "<!-- end list -->\n"
   ]
  },
  {
   "cell_type": "code",
   "execution_count": 100,
   "id": "9d1081e4",
   "metadata": {},
   "outputs": [
    {
     "name": "stdout",
     "output_type": "stream",
     "text": [
      "\n",
      "Data for text file:\n",
      " [[1.123 2.345]\n",
      " [3.567 4.789]]\n",
      "Array saved to my_data.csv (formatted to 2 decimal places)\n",
      "Array loaded from my_data.csv:\n",
      " [[1.12 2.35]\n",
      " [3.57 4.79]]\n"
     ]
    }
   ],
   "source": [
    "data_for_txt = np.array([[1.123, 2.345],\n",
    "                         [3.567, 4.789]])\n",
    "print(\"\\nData for text file:\\n\", data_for_txt)\n",
    "\n",
    "# Save to CSV file\n",
    "csv_filename = 'my_data.csv'\n",
    "np.savetxt(csv_filename, data_for_txt, fmt='%.2f', delimiter=',')\n",
    "print(f\"Array saved to {csv_filename} (formatted to 2 decimal places)\")\n",
    "# Open 'my_data.csv' in a text editor to see its content!\n",
    "\n",
    "# Load from CSV file\n",
    "loaded_data_csv = np.loadtxt(csv_filename, delimiter=',')\n",
    "print(f\"Array loaded from {csv_filename}:\\n\", loaded_data_csv)\n",
    "\n",
    "# Note: `loadtxt` by default infers dtype. If you have mixed data, it will error.\n",
    "# For complex CSVs, Pandas is generally the way to go."
   ]
  },
  {
   "cell_type": "markdown",
   "id": "a2e90f7c",
   "metadata": {},
   "source": [
    "\n",
    "**Common Pitfall:** When using `loadtxt` or `savetxt`, ensure your data is purely numerical and consistent in type. If your CSV has headers, mixed types, or strings, `loadtxt` will likely fail. Use Pandas for those cases.\n",
    "\n",
    "### 3.5.2 Working with Binary Files (NPY, NPZ) 💾📦\n",
    "\n",
    "Beyond single arrays, NumPy can also save and load multiple arrays efficiently in a single `.npz` archive.\n",
    "\n",
    "  * `np.savez(filename, arg1, arg2, ...)` or `np.savez(filename, key1=arr1, key2=arr2, ...)`: Saves multiple arrays into an uncompressed `.npz` archive.\n",
    "  * `np.savez_compressed(filename, ...)`: Same as `savez` but compresses the data, resulting in smaller file sizes.\n",
    "  * `np.load(filename)`: Loads a `.npz` file, returning a `NpzFile` object (a dictionary-like object) from which you can retrieve individual arrays by name.\n",
    "\n",
    "<!-- end list -->"
   ]
  },
  {
   "cell_type": "code",
   "execution_count": null,
   "id": "f4df3a3b",
   "metadata": {},
   "outputs": [],
   "source": [
    "array_a = np.array([1, 2, 3])\n",
    "array_b = np.array([[10, 20], [30, 40]])\n",
    "\n",
    "# Save multiple arrays into an uncompressed NPZ archive\n",
    "npz_filename = 'multiple_arrays.npz'\n",
    "np.savez(npz_filename, array_a=array_a, array_b=array_b) # Use keyword arguments for named arrays\n",
    "print(f\"\\nMultiple arrays saved to {npz_filename}\")\n",
    "\n",
    "# Load the NPZ archive\n",
    "loaded_npz = np.load(npz_filename)\n",
    "\n",
    "# Access individual arrays by their names\n",
    "loaded_array_a = loaded_npz['array_a']\n",
    "loaded_array_b = loaded_npz['array_b']\n",
    "\n",
    "print(f\"Loaded 'array_a' from {npz_filename}:\", loaded_array_a)\n",
    "print(f\"Loaded 'array_b' from {npz_filename}:\\n\", loaded_array_b)\n",
    "\n",
    "# Don't forget to close the NpzFile object, especially when opening many files\n",
    "loaded_npz.close()\n",
    "\n",
    "# Using savez_compressed for smaller files\n",
    "compressed_npz_filename = 'multiple_arrays_compressed.npz'\n",
    "np.savez_compressed(compressed_npz_filename, arr_c=np.random.rand(100,100), arr_d=np.zeros(50))\n",
    "print(f\"Multiple arrays saved to {compressed_npz_filename} (compressed)\")\n",
    "# When loading, it works the same way\n",
    "# loaded_compressed = np.load(compressed_npz_filename)\n",
    "# print(loaded_compressed.files) # See the names of arrays saved"
   ]
  },
  {
   "cell_type": "markdown",
   "id": "76296dc7",
   "metadata": {},
   "source": [
    "\n",
    "### 3.5.3 Reading and Writing CSV Files 📝\n",
    "\n",
    "As briefly touched upon, `np.savetxt` and `np.loadtxt` are the NumPy ways to handle CSVs. They work best for homogeneous, purely numerical data.\n"
   ]
  },
  {
   "cell_type": "code",
   "execution_count": null,
   "id": "87afc9e4",
   "metadata": {},
   "outputs": [],
   "source": [
    "# Create some sample data for CSV\n",
    "sensor_data = np.random.normal(loc=50, scale=5, size=(5, 3))\n",
    "print(\"Sensor Data for CSV:\\n\", sensor_data)\n",
    "\n",
    "# Save to a CSV file with headers (optional, handled manually)\n",
    "header = \"Temp_C,Humidity_%,Pressure_kPa\"\n",
    "np.savetxt('sensor_readings.csv', sensor_data, fmt='%.2f', delimiter=',', header=header, comments='# ')\n",
    "print(\"\\nSensor data saved to sensor_readings.csv\")\n",
    "\n",
    "# You would typically read a CSV with headers using Pandas\n",
    "# But for purely numerical CSVs without headers, loadtxt works\n",
    "loaded_sensor_data = np.loadtxt('sensor_readings.csv', delimiter=',', comments='#')\n",
    "print(f\"Loaded sensor_readings.csv:\\n\", loaded_sensor_data)"
   ]
  },
  {
   "cell_type": "markdown",
   "id": "a03364ea",
   "metadata": {},
   "source": [
    "\n",
    "**Important:** For real-world CSV files, especially those with mixed data types (strings, numbers, dates), headers, or missing values, **Pandas** is the superior library for reading and writing. NumPy's `loadtxt`/`savetxt` are more for simple, clean numerical data dumps.\n",
    "\n",
    "-----\n",
    "\n",
    "### ❓ Quick Quiz\\! (Performance, Structured Arrays, I/O)\n",
    "\n",
    "1.  You have a large array `data = np.random.rand(10_000_000)`. Which is generally faster: `data = data * 2` or `data *= 2`? Why?\n",
    "2.  When would you choose to save a NumPy array using `np.save()` instead of `np.savetxt()`?\n",
    "3.  You're creating a structured array to store student data with `name` (string), `id` (integer), and `score` (float). How would you define the `dtype` for this?"
   ]
  },
  {
   "cell_type": "markdown",
   "id": "806a616c",
   "metadata": {},
   "source": [
    "\n",
    "-----\n",
    "\n",
    "### 🎯 Real-World Mini-Project: Data Logging and Analysis\\!\n",
    "\n",
    "Imagine you are developing a system that logs data from an experiment. You need to store various parameters for each event.\n",
    "\n",
    "**Challenge:**\n",
    "\n",
    "1.  **Simulate Data:** Create a NumPy array of 100 events (records) using a structured `dtype`. Each event should have:\n",
    "      * `event_id` (integer, starting from 1)\n",
    "      * `timestamp` (float, random values between 0.0 and 100.0)\n",
    "      * `sensor_value` (float, random values from a normal distribution with mean 50 and std 10)\n",
    "      * `status` (string, either 'OK' or 'ERROR', randomly assigned with 80% 'OK' and 20% 'ERROR').\n",
    "      * **Hint for status:** Generate random floats, then use `np.where` to assign 'OK' or 'ERROR'.\n",
    "2.  **Save Data:** Save this structured array to a binary `.npy` file.\n",
    "3.  **Load and Analyze:** Load the data back from the `.npy` file. Then, use the loaded data to:\n",
    "      * Calculate the **average `sensor_value`** for events with `status == 'OK'`.\n",
    "      * Find the **minimum `timestamp`** among events with `status == 'ERROR'`.\n",
    "\n",
    "<!-- end list -->"
   ]
  },
  {
   "cell_type": "code",
   "execution_count": null,
   "id": "8f1a37ff",
   "metadata": {},
   "outputs": [],
   "source": [
    "# Your code for Real-World Mini-Project here!\n",
    "import numpy as np\n",
    "\n",
    "# 1. Simulate Data and Create Structured Array\n",
    "# Define the dtype\n",
    "event_dtype = [('event_id', 'i4'),\n",
    "               ('timestamp', 'f8'),\n",
    "               ('sensor_value', 'f8'),\n",
    "               ('status', 'U5')] # U5 for strings up to 5 chars (OK/ERROR)\n",
    "\n",
    "num_events = 100\n",
    "events_data = np.zeros(num_events, dtype=event_dtype)\n",
    "\n",
    "# Populate event_id\n",
    "events_data['event_id'] = np.arange(1, num_events + 1)\n",
    "\n",
    "# Populate timestamp (random floats between 0 and 100)\n",
    "events_data['timestamp'] = np.random.uniform(0, 100, size=num_events)\n",
    "\n",
    "# Populate sensor_value (normal distribution mean 50, std 10)\n",
    "events_data['sensor_value'] = np.random.normal(loc=50, scale=10, size=num_events)\n",
    "\n",
    "# Populate status ('OK' or 'ERROR')\n",
    "# Generate random numbers between 0 and 1. If < 0.8, 'OK', else 'ERROR'\n",
    "status_rand = np.random.rand(num_events)\n",
    "events_data['status'] = np.where(status_rand < 0.8, 'OK', 'ERROR')\n",
    "\n",
    "print(\"1. Sample of Simulated Structured Data (first 5 records):\\n\", events_data[:5])\n",
    "\n",
    "\n",
    "# 2. Save Data to .npy file\n",
    "output_filename = 'experiment_log.npy'\n",
    "print(f\"\\n2. Saving data to {output_filename}...\")\n",
    "\n",
    "\n",
    "# 3. Load and Analyze\n",
    "print(f\"\\n3. Loading data from {output_filename} and analyzing...\")\n",
    "\n",
    "# Load the data\n",
    "loaded_events = None # Placeholder\n",
    "\n",
    "\n",
    "# Calculate average sensor_value for 'OK' events\n",
    "ok_events = loaded_events[loaded_events['status'] == 'OK']\n",
    "average_ok_sensor_value = None # Placeholder\n",
    "print(f\"   Average sensor_value for 'OK' events: {average_ok_sensor_value:.2f}\")\n",
    "\n",
    "\n",
    "# Find minimum timestamp for 'ERROR' events\n",
    "error_events = loaded_events[loaded_events['status'] == 'ERROR']\n",
    "min_error_timestamp = None # Placeholder\n",
    "if len(error_events) > 0:\n",
    "    min_error_timestamp = None # Placeholder\n",
    "    print(f\"   Minimum timestamp for 'ERROR' events: {min_error_timestamp:.2f}\")\n",
    "else:\n",
    "    print(\"   No 'ERROR' events found.\")\n"
   ]
  },
  {
   "cell_type": "markdown",
   "id": "a19859bb",
   "metadata": {},
   "source": [
    "\n",
    "\n",
    "-----\n",
    "\n",
    "# **Section 4: NumPy in Action - Real-World Applications** 🌍\n",
    "\n",
    "Welcome back, intrepid learner\\! So far, we've explored the core concepts of NumPy. Now, it's time to see how this incredible library shines in practical, real-world scenarios. You'll be amazed at how often NumPy is the silent hero behind the scenes\\! 🦸‍♂️\n",
    "\n",
    "We'll dive into two exciting areas: image processing and data analysis. Get ready to put your NumPy skills to work\\! 💪\n",
    "\n",
    "-----\n",
    "\n",
    "## 📚 Table of Contents\n",
    "\n",
    "*(This would be a complete TOC for the entire notebook. For this response, I'm focusing on Section 4.)*\n",
    "\n",
    "  * **Section 1: The NumPy Nitty-Gritty - Why Bother?**\n",
    "      * 1.1 What is NumPy anyway? 🤔\n",
    "      * 1.2 Why not just use Python lists? 🤷‍♀️\n",
    "      * 1.3 Installing and Importing NumPy 🚀\n",
    "  * **Section 2: The Core of NumPy - Arrays\\!**\n",
    "      * 2.1 Creating Your First Array ✨\n",
    "      * 2.2 Array Attributes - What's in there? 🕵️‍♂️\n",
    "      * 2.3 Indexing and Slicing - Getting What You Want ✂️\n",
    "      * 2.4 Array Operations - Math Made Easy\\! ➕➖✖️➗\n",
    "  * **Section 3: Beyond the Basics - More NumPy Power\\!**\n",
    "      * 3.1 Reshaping and Transposing - Changing Perspectives 🔄\n",
    "      * 3.2 Broadcasting - Smart Operations\\! 📡\n",
    "      * 3.3 Universal Functions (ufuncs) - Fast Calculations\\! ⚡\n",
    "  * **Section 4: NumPy in Action - Real-World Applications** (👈 **YOU ARE HERE\\!**)\n",
    "      * 4.1 Image Processing Basics 🖼️\n",
    "      * 4.2 Data Analysis with NumPy 📊\n",
    "  * **Section 5: Your NumPy Playground - Mini-Project\\!** 🎢\n",
    "  * **Section 6: Next Steps and Resources** 👣\n",
    "\n"
   ]
  },
  {
   "cell_type": "markdown",
   "id": "1666373e",
   "metadata": {},
   "source": [
    "\n",
    "----\n",
    "\n",
    "# **4.1 Image Processing Basics** 🖼️\n",
    "\n",
    "Ever wonder how your phone camera filters work, or how images are stored and manipulated digitally? Many of these operations rely heavily on the fundamental concept of representing images as numerical arrays, and that's where NumPy comes in\\!\n",
    "\n",
    "#### **4.1.1 Representing Images as NumPy Arrays** 📸\n",
    "\n",
    "Think of an image as a grid of tiny dots, called **pixels**. Each pixel has a specific color.\n",
    "\n",
    "  * **Grayscale Images:** For a simple grayscale (black and white) image, each pixel can be represented by a single number indicating its intensity (0 for black, 255 for white, or values in between for shades of gray). So, a grayscale image can be a 2D NumPy array, where rows and columns correspond to the image's height and width.\n",
    "\n",
    "    ```\n",
    "    Intensity 0 (Black) -----------> Intensity 255 (White)\n",
    "    ```\n",
    "\n",
    "  * **Color Images (RGB):** Color images are a bit more complex. Each pixel's color is typically described by a combination of Red, Green, and Blue (RGB) intensity values. So, for each pixel, you have three numbers. This means a color image is often represented as a 3D NumPy array: `(height, width, 3)`, where the `3` refers to the R, G, and B channels.\n",
    "\n",
    "    ```\n",
    "    Pixel (R, G, B)\n",
    "    ```\n",
    "\n",
    "Let's imagine a tiny 2x2 grayscale image:\n",
    "\n",
    "| 100 | 200 |\n",
    "| --- | --- |\n",
    "| 50  | 150 |\n",
    "\n",
    "This would be represented as:"
   ]
  },
  {
   "cell_type": "code",
   "execution_count": 102,
   "id": "ff8a4c24",
   "metadata": {},
   "outputs": [
    {
     "name": "stdout",
     "output_type": "stream",
     "text": [
      "[[100 200]\n",
      " [ 50 150]]\n",
      "(2, 2)\n"
     ]
    }
   ],
   "source": [
    "import numpy as np\n",
    "\n",
    "# A tiny 2x2 grayscale image\n",
    "gray_image = np.array([[100, 200],\n",
    "                       [50, 150]])\n",
    "print(gray_image)\n",
    "print(gray_image.shape)"
   ]
  },
  {
   "cell_type": "markdown",
   "id": "b70013fc",
   "metadata": {},
   "source": [
    "\n",
    "And a tiny 2x2 color image (where each pixel has an R, G, B value):\n",
    "\n",
    "| (255,0,0) | (0,255,0) |\n",
    "| --------- | --------- |\n",
    "| (0,0,255) | (128,128,0) |\n",
    "\n",
    "This would be represented as:\n"
   ]
  },
  {
   "cell_type": "code",
   "execution_count": 103,
   "id": "7df3c1a1",
   "metadata": {},
   "outputs": [
    {
     "name": "stdout",
     "output_type": "stream",
     "text": [
      "[[[255   0   0]\n",
      "  [  0 255   0]]\n",
      "\n",
      " [[  0   0 255]\n",
      "  [128 128   0]]]\n",
      "(2, 2, 3)\n"
     ]
    }
   ],
   "source": [
    "# A tiny 2x2 color image (Red, Green, Blue, Yellow-ish)\n",
    "color_image = np.array([[[255, 0, 0], [0, 255, 0]],\n",
    "                        [[0, 0, 255], [128, 128, 0]]])\n",
    "print(color_image)\n",
    "print(color_image.shape)"
   ]
  },
  {
   "cell_type": "markdown",
   "id": "d84ab885",
   "metadata": {},
   "source": [
    "\n",
    "**💡 Pro Tip:** When working with images, you'll often encounter `PIL` (Pillow) or `OpenCV` libraries. These libraries handle the reading and writing of image files (like `.jpg` or `.png`) and convert them into NumPy arrays for processing, and vice versa\\! So, NumPy is the underlying engine\\! 🚗\n",
    "\n",
    "#### **4.1.2 Basic Image Manipulations: Cropping, Resizing (Conceptual), Grayscale Conversion** ✂️🎨\n",
    "\n",
    "Once an image is a NumPy array, we can use all our array manipulation tricks\\!\n",
    "\n",
    "**Cropping:** Cropping an image is just like slicing a part of our NumPy array\\!\n"
   ]
  },
  {
   "cell_type": "code",
   "execution_count": 104,
   "id": "27f7d5fb",
   "metadata": {},
   "outputs": [
    {
     "name": "stdout",
     "output_type": "stream",
     "text": [
      "Original Image (8x8):\n",
      " [[ 0  1  2  3  4  5  6  7]\n",
      " [ 8  9 10 11 12 13 14 15]\n",
      " [16 17 18 19 20 21 22 23]\n",
      " [24 25 26 27 28 29 30 31]\n",
      " [32 33 34 35 36 37 38 39]\n",
      " [40 41 42 43 44 45 46 47]\n",
      " [48 49 50 51 52 53 54 55]\n",
      " [56 57 58 59 60 61 62 63]]\n",
      "\n",
      "Cropped Image (4x4):\n",
      " [[18 19 20 21]\n",
      " [26 27 28 29]\n",
      " [34 35 36 37]\n",
      " [42 43 44 45]]\n"
     ]
    }
   ],
   "source": [
    "# Let's imagine a larger grayscale image (8x8 for simplicity)\n",
    "large_gray_image = np.arange(64).reshape((8, 8))\n",
    "print(\"Original Image (8x8):\\n\", large_gray_image)\n",
    "\n",
    "# Crop a 4x4 section from the middle\n",
    "# Rows from index 2 up to (but not including) 6\n",
    "# Columns from index 2 up to (but not including) 6\n",
    "cropped_image = large_gray_image[2:6, 2:6]\n",
    "print(\"\\nCropped Image (4x4):\\n\", cropped_image)"
   ]
  },
  {
   "cell_type": "markdown",
   "id": "0fae5b9b",
   "metadata": {},
   "source": [
    "\n",
    "\n",
    "**Resizing (Conceptual):** Resizing an image involves changing its dimensions. While NumPy itself doesn't have a direct `resize_image` function that handles interpolation (how new pixel values are calculated), it's important to understand that libraries like `Pillow` or `OpenCV` use NumPy arrays under the hood to perform these operations. Conceptually, it involves creating a new array of the desired size and filling it with pixel values from the original, often with some smart averaging or interpolation.\n",
    "\n",
    "**Grayscale Conversion:** How do you convert a color image to grayscale? A common method is to take a weighted average of the R, G, and B channels. For example, a simple formula is:\n",
    "\n",
    "$$\\text{Grayscale Value} = 0.2989 \\times R + 0.5870 \\times G + 0.1140 \\times B$$\n",
    "\n",
    "Let's convert our tiny color image to grayscale:\n"
   ]
  },
  {
   "cell_type": "code",
   "execution_count": 105,
   "id": "fad82bed",
   "metadata": {},
   "outputs": [
    {
     "name": "stdout",
     "output_type": "stream",
     "text": [
      "Original Color Image:\n",
      " [[[255   0   0]\n",
      "  [  0 255   0]]\n",
      "\n",
      " [[  0   0 255]\n",
      "  [128 128   0]]]\n",
      "\n",
      "Grayscale Image:\n",
      " [[ 76 149]\n",
      " [ 29 113]]\n"
     ]
    }
   ],
   "source": [
    "# Our tiny color image from before\n",
    "color_image = np.array([[[255, 0, 0], [0, 255, 0]],\n",
    "                        [[0, 0, 255], [128, 128, 0]]])\n",
    "print(\"Original Color Image:\\n\", color_image)\n",
    "\n",
    "# Separate channels (conceptually, you'd do this for a large image)\n",
    "R = color_image[:, :, 0]\n",
    "G = color_image[:, :, 1]\n",
    "B = color_image[:, :, 2]\n",
    "\n",
    "# Apply the weighted average formula\n",
    "grayscale_image = (0.2989 * R + 0.5870 * G + 0.1140 * B).astype(np.uint8)\n",
    "# .astype(np.uint8) is important because pixel values are typically 0-255 integers\n",
    "print(\"\\nGrayscale Image:\\n\", grayscale_image)"
   ]
  },
  {
   "cell_type": "markdown",
   "id": "069dbea5",
   "metadata": {},
   "source": [
    "\n",
    "**❓ Quick Quiz: Image Basics\\!**\n",
    "\n",
    "If you have a color image represented by a NumPy array with the shape `(480, 640, 3)`, what do the numbers `480`, `640`, and `3` represent?\n",
    "\n",
    "A) Width, Height, and Color Depth\n",
    "B) Height, Width, and Color Channels\n",
    "C) Resolution, Pixels, and Layers\n",
    "\n",
    "The answer is \\<b\\>B) Height, Width, and Color Channels\\</b\\>. 480 is the height (rows), 640 is the width (columns), and 3 represents the Red, Green, and Blue color channels."
   ]
  },
  {
   "cell_type": "markdown",
   "id": "817d5ffe",
   "metadata": {},
   "source": [
    "\n",
    "#### **4.1.3 Applying Filters (e.g., Averaging Filter)** 🌫️\n",
    "\n",
    "Image filters are super cool\\! They can be used for blurring, sharpening, edge detection, and much more. Many filters work by applying a small matrix, called a **kernel** or **convolution matrix**, over each pixel and its neighbors.\n",
    "\n",
    "Let's look at a simple **averaging (blur) filter**. For each pixel, we replace its value with the average of itself and its immediate neighbors.\n",
    "\n",
    "Consider a 3x3 averaging kernel:\n",
    "\n",
    "$$\n",
    "\\begin{bmatrix}\n",
    "1/9 & 1/9 & 1/9 \\\\\n",
    "1/9 & 1/9 & 1/9 \\\\\n",
    "1/9 & 1/9 & 1/9\n",
    "\\end{bmatrix}\n",
    "$$This means we sum up the values of the 9 pixels in a 3x3 window around the target pixel and divide by 9.\n",
    "\n",
    "While a full-blown convolution operation is often handled by specialized image processing libraries, we can conceptualize it with NumPy. Let's create a very simple 3x3 \"image\" and apply a *manual* averaging effect to its center."
   ]
  },
  {
   "cell_type": "code",
   "execution_count": null,
   "id": "f9d66636",
   "metadata": {},
   "outputs": [],
   "source": [
    "# A small sample grayscale image\n",
    "image_section = np.array([[10, 20, 30],\n",
    "[40, 50, 60],\n",
    "[70, 80, 90]])\n",
    "print(\"Original 3x3 Image Section:\\n\", image_section)\n",
    "\n",
    "# We want to calculate the average for the center pixel (50)\n",
    "# Its neighbors are 10, 20, 30, 40, 60, 70, 80, 90\n",
    "# And itself (50)\n",
    "\n",
    "# Sum of all elements in the 3x3 window\n",
    "sum_of_neighbors_and_self = np.sum(image_section)\n",
    "\n",
    "# Number of elements in the window\n",
    "num_elements = image_section.size # which is 9 for a 3x3\n",
    "\n",
    "# Calculate the new value for the center pixel\n",
    "new_center_pixel_value = sum_of_neighbors_and_self / num_elements\n",
    "print(f\"\\nNew value for the center pixel (manual average): {new_center_pixel_value:.2f}\")\n",
    "\n",
    "# Pro-tip: For real image filtering, you'd use functions like\n",
    "# scipy.ndimage.convolve or opencv's cv2.filter2D for efficiency\n",
    "# and handling of borders. But the core idea is element-wise multiplication\n",
    "# and summation over small windows!"
   ]
  },
  {
   "cell_type": "markdown",
   "id": "336b180c",
   "metadata": {},
   "source": [
    "\n",
    "**🧠 Brain Teaser:** Why would converting an image to grayscale *before* applying some filters (like edge detection) sometimes be beneficial? Think about the complexity\\! 🤔\n",
    "\n",
    "- Consider the number of calculations involved for each pixel.\n",
    "\n",
    "- Converting to grayscale first reduces the number of dimensions we need to process. For a color image, you&#39;d typically apply the filter to each of the R, G, and B channels separately, tripling the computations. For some filters, processing a single grayscale channel is sufficient and much more efficient"
   ]
  },
  {
   "cell_type": "markdown",
   "id": "dba99209",
   "metadata": {},
   "source": [
    "\n",
    "-----\n",
    "\n",
    "# **4.2 Data Analysis with NumPy** 📊\n",
    "\n",
    "NumPy is not just for fancy image stuff\\! It's the backbone of scientific computing in Python, and that includes data analysis. Even higher-level libraries like Pandas (which you might learn later\\!) are built on top of NumPy arrays. Understanding how to perform basic data analysis with NumPy is fundamental.\n",
    "\n",
    "#### **4.2.1 Simple Statistical Analysis on Datasets** 📈\n",
    "\n",
    "NumPy provides a wide range of functions for common statistical operations, making it incredibly easy to get insights from your data.\n",
    "\n",
    "Imagine you have a dataset of daily temperatures in a city for a month:\n"
   ]
  },
  {
   "cell_type": "code",
   "execution_count": 106,
   "id": "9bf5fd69",
   "metadata": {},
   "outputs": [
    {
     "name": "stdout",
     "output_type": "stream",
     "text": [
      "Daily Temperatures:\n",
      " [25 27 26 28 29 30 28 27 26 25 24 26 27 28 29 31 30 29 28 27 26 25 24 23\n",
      " 25 26 27 28 29 30]\n",
      "\n",
      "Average Temperature: 27.10°C\n",
      "Median Temperature: 27.0°C\n",
      "Standard Deviation of Temperature: 1.99°C\n",
      "Minimum Temperature: 23°C\n",
      "Maximum Temperature: 31°C\n",
      "Sum of all Temperatures: 813°C\n"
     ]
    }
   ],
   "source": [
    "daily_temperatures = np.array([25, 27, 26, 28, 29, 30, 28, 27, 26, 25,\n",
    "24, 26, 27, 28, 29, 31, 30, 29, 28, 27,\n",
    "26, 25, 24, 23, 25, 26, 27, 28, 29, 30])\n",
    "print(\"Daily Temperatures:\\n\", daily_temperatures)\n",
    "\n",
    "# Let's calculate some basic statistics!\n",
    "\n",
    "# Mean (Average)\n",
    "mean_temp = np.mean(daily_temperatures)\n",
    "print(f\"\\nAverage Temperature: {mean_temp:.2f}°C\")\n",
    "\n",
    "# Median (The middle value when sorted)\n",
    "median_temp = np.median(daily_temperatures)\n",
    "print(f\"Median Temperature: {median_temp}°C\")\n",
    "\n",
    "# Standard Deviation (How spread out the data is)\n",
    "std_dev_temp = np.std(daily_temperatures)\n",
    "print(f\"Standard Deviation of Temperature: {std_dev_temp:.2f}°C\")\n",
    "\n",
    "# Minimum and Maximum\n",
    "min_temp = np.min(daily_temperatures)\n",
    "max_temp = np.max(daily_temperatures)\n",
    "print(f\"Minimum Temperature: {min_temp}°C\")\n",
    "print(f\"Maximum Temperature: {max_temp}°C\")\n",
    "\n",
    "# Sum of all temperatures\n",
    "total_temp_sum = np.sum(daily_temperatures)\n",
    "print(f\"Sum of all Temperatures: {total_temp_sum}°C\")"
   ]
  },
  {
   "cell_type": "markdown",
   "id": "acbc0939",
   "metadata": {},
   "source": [
    "\n",
    "**For 2D Arrays (Datasets with Multiple Features):**\n",
    "\n",
    "Imagine a dataset of student scores in two subjects: Math and Science.\n"
   ]
  },
  {
   "cell_type": "code",
   "execution_count": 107,
   "id": "3b5ac1b0",
   "metadata": {},
   "outputs": [
    {
     "name": "stdout",
     "output_type": "stream",
     "text": [
      "Student Scores (Math, Science):\n",
      " [[85 90]\n",
      " [78 82]\n",
      " [92 88]\n",
      " [65 70]\n",
      " [70 75]]\n",
      "\n",
      "Average Scores per Subject (Math, Science): [78. 81.]\n",
      "Average Scores per Student: [87.5 80.  90.  67.5 72.5]\n"
     ]
    }
   ],
   "source": [
    "# Rows: Students, Columns: Subjects (Math, Science)\n",
    "student_scores = np.array([[85, 90],\n",
    "[78, 82],\n",
    "[92, 88],\n",
    "[65, 70],\n",
    "[70, 75]])\n",
    "print(\"Student Scores (Math, Science):\\n\", student_scores)\n",
    "\n",
    "# Calculate the average score for each subject (axis=0)\n",
    "average_scores_per_subject = np.mean(student_scores, axis=0)\n",
    "print(f\"\\nAverage Scores per Subject (Math, Science): {average_scores_per_subject}\")\n",
    "\n",
    "# Calculate the average score for each student (axis=1)\n",
    "average_scores_per_student = np.mean(student_scores, axis=1)\n",
    "print(f\"Average Scores per Student: {average_scores_per_student}\")"
   ]
  },
  {
   "cell_type": "markdown",
   "id": "857392ba",
   "metadata": {},
   "source": [
    "\n",
    "\n",
    "**💡 Pro Tip:** The `axis` parameter is crucial in NumPy for multi-dimensional arrays\\!\n",
    "\n",
    "* `axis=0` operates *down the columns* (e.g., calculates statistics for each column).\n",
    "* `axis=1` operates *across the rows* (e.g., calculates statistics for each row).\n",
    "Think of it like squishing the array along that axis\\! ↔️↕️\n",
    "\n",
    "#### **4.2.2 Data Cleaning and Preprocessing** 🧹\n",
    "\n",
    "Real-world data is messy\\! It often has missing values, outliers, or needs to be scaled. NumPy can help with some fundamental cleaning tasks.\n",
    "\n",
    "**Handling Missing Values (NaN - Not a Number):**\n",
    "\n",
    "NumPy has a special value `np.nan` to represent missing data.\n"
   ]
  },
  {
   "cell_type": "code",
   "execution_count": null,
   "id": "2d80faea",
   "metadata": {},
   "outputs": [],
   "source": [
    "data_with_missing_values = np.array([10, 12, np.nan, 15, 18, np.nan, 20])\n",
    "print(\"Data with Missing Values:\\n\", data_with_missing_values)\n",
    "\n",
    "# Option 1: Find where missing values are\n",
    "print(\"\\nAre values NaN? \", np.isnan(data_with_missing_values))\n",
    "\n",
    "# Option 2: Count missing values\n",
    "num_missing = np.sum(np.isnan(data_with_missing_values))\n",
    "print(f\"Number of missing values: {num_missing}\")\n",
    "\n",
    "# Option 3: Remove rows/elements with missing values (if no other choice)\n",
    "clean_data_removed = data_with_missing_values[~np.isnan(data_with_missing_values)]\n",
    "print(\"Data after removing missing values:\\n\", clean_data_removed)\n",
    "\n",
    "# Option 4: Fill missing values with a specific value (e.g., 0, or the mean/median)\n",
    "# Let's fill with the mean of the *non-missing* values\n",
    "mean_of_valid_data = np.nanmean(data_with_missing_values) # np.nanmean ignores NaNs\n",
    "data_filled_mean = np.nan_to_num(data_with_missing_values, nan=mean_of_valid_data)\n",
    "print(f\"Data after filling missing values with mean ({mean_of_valid_data:.2f}):\\n\", data_filled_mean)"
   ]
  },
  {
   "cell_type": "markdown",
   "id": "1d7213dc",
   "metadata": {},
   "source": [
    "\n",
    "**Common Pitfall:** Be careful when performing calculations on arrays with `NaN` values\\! Many NumPy functions will return `NaN` if there's even one `NaN` in the input. Use `nan*` versions like `np.nanmean`, `np.nansum`, etc., to ignore `NaN`s automatically.\n",
    "\n",
    "**Outlier Detection (Simple Thresholding):**\n",
    "\n",
    "Outliers are data points that are significantly different from other observations. NumPy can help us identify them using simple statistical methods. For instance, we might consider values above/below a certain threshold or beyond a certain number of standard deviations from the mean as outliers.\n"
   ]
  },
  {
   "cell_type": "code",
   "execution_count": 108,
   "id": "c7fdf31e",
   "metadata": {},
   "outputs": [
    {
     "name": "stdout",
     "output_type": "stream",
     "text": [
      "Data with Outliers:\n",
      " [ 10  12  11  13 100  14  15   5 130  16]\n",
      "\n",
      "Mean: 32.60, Std Dev: 41.84\n",
      "Lower Bound for Outliers: -92.93\n",
      "Upper Bound for Outliers: 158.13\n",
      "Identified Outliers: []\n",
      "Data without Outliers: [ 10  12  11  13 100  14  15   5 130  16]\n"
     ]
    }
   ],
   "source": [
    "data_with_outliers = np.array([10, 12, 11, 13, 100, 14, 15, 5, 130, 16])\n",
    "print(\"Data with Outliers:\\n\", data_with_outliers)\n",
    "\n",
    "# Let's define an outlier as anything more than 3 standard deviations from the mean\n",
    "data_mean = np.mean(data_with_outliers)\n",
    "data_std = np.std(data_with_outliers)\n",
    "\n",
    "# Calculate lower and upper bounds\n",
    "lower_bound = data_mean - 3 * data_std\n",
    "upper_bound = data_mean + 3 * data_std\n",
    "\n",
    "print(f\"\\nMean: {data_mean:.2f}, Std Dev: {data_std:.2f}\")\n",
    "print(f\"Lower Bound for Outliers: {lower_bound:.2f}\")\n",
    "print(f\"Upper Bound for Outliers: {upper_bound:.2f}\")\n",
    "\n",
    "# Identify outliers\n",
    "outliers = data_with_outliers[(data_with_outliers < lower_bound) | (data_with_outliers > upper_bound)]\n",
    "print(f\"Identified Outliers: {outliers}\")\n",
    "\n",
    "# Option: Remove outliers (create a new array without them)\n",
    "data_without_outliers = data_with_outliers[(data_with_outliers >= lower_bound) & (data_with_outliers <= upper_bound)]\n",
    "print(f\"Data without Outliers: {data_without_outliers}\")"
   ]
  },
  {
   "cell_type": "markdown",
   "id": "99c0c697",
   "metadata": {},
   "source": [
    "\n",
    "#### **4.2.3 Aggregating and Summarizing Data** 📦\n",
    "\n",
    "Aggregation means combining multiple pieces of data into a single summary. We've already seen `np.sum`, `np.mean`, etc., which are forms of aggregation. Let's look at more ways to summarize\\!\n",
    "\n",
    "Imagine we have sales data for different product categories over several quarters:\n"
   ]
  },
  {
   "cell_type": "code",
   "execution_count": null,
   "id": "9ef65e25",
   "metadata": {},
   "outputs": [],
   "source": [
    "# Rows: Quarters, Columns: Product Categories (Electronics, Clothing, Home Goods)\n",
    "quarterly_sales = np.array([[120, 80, 50],\n",
    "[150, 90, 60],\n",
    "[130, 85, 55],\n",
    "[160, 95, 65]])\n",
    "print(\"Quarterly Sales Data:\\n\", quarterly_sales)\n",
    "\n",
    "# Total sales for each product category (sum down columns, axis=0)\n",
    "total_sales_per_category = np.sum(quarterly_sales, axis=0)\n",
    "print(f\"\\nTotal Sales per Category (Electronics, Clothing, Home Goods): {total_sales_per_category}\")\n",
    "\n",
    "# Total sales for each quarter (sum across rows, axis=1)\n",
    "total_sales_per_quarter = np.sum(quarterly_sales, axis=1)\n",
    "print(f\"Total Sales per Quarter: {total_sales_per_quarter}\")\n",
    "\n",
    "# Overall total sales\n",
    "overall_total_sales = np.sum(quarterly_sales)\n",
    "print(f\"Overall Total Sales: {overall_total_sales}\")\n",
    "\n",
    "# Maximum sales in any category for any quarter\n",
    "max_sale = np.max(quarterly_sales)\n",
    "print(f\"Maximum Single Sale: {max_sale}\")\n",
    "\n",
    "# Minimum sales in any category for any quarter\n",
    "min_sale = np.min(quarterly_sales)\n",
    "print(f\"Minimum Single Sale: {min_sale}\")"
   ]
  },
  {
   "cell_type": "markdown",
   "id": "8ce2ecca",
   "metadata": {},
   "source": [
    "\n",
    "**🎯 Mini-Challenge: Data Summary\\!**\n",
    "\n",
    "You are given a NumPy array representing the daily steps walked by a person for two weeks:\n",
    "\n",
    "`daily_steps = np.array([8000, 7500, 9000, 10000, 6000, 7000, 8500, 9200, 7800, 8800, 6500, 7200, 8000, 9500])`\n",
    "\n",
    "1.  Calculate the **total steps walked** over the two weeks.\n",
    "2.  Find the **average daily steps**.\n",
    "3.  Determine the **minimum** and **maximum** daily steps.\n",
    "4.  If the person's goal is 8000 steps per day, how many days did they **meet or exceed** their goal? (Hint: Use boolean indexing\\!)\n",
    "\n",
    "Write your code in the cell below\\! 👇"
   ]
  },
  {
   "cell_type": "code",
   "execution_count": 109,
   "id": "91aa3d8a",
   "metadata": {},
   "outputs": [],
   "source": [
    "# Your code for the Mini-Challenge here!\n",
    "\n",
    "daily_steps = np.array([8000, 7500, 9000, 10000, 6000, 7000, 8500, 9200, 7800, 8800, 6500, 7200, 8000, 9500])\n",
    "\n",
    "# 1. Total steps walked\n",
    "# Your code here:\n",
    "\n",
    "# 2. Average daily steps\n",
    "# Your code here:\n",
    "\n",
    "# 3. Minimum and maximum daily steps\n",
    "# Your code here:\n",
    "\n",
    "# 4. Days met or exceeded goal\n",
    "# Your code here:"
   ]
  },
  {
   "cell_type": "code",
   "execution_count": null,
   "id": "ea150942",
   "metadata": {},
   "outputs": [],
   "source": [
    "daily_steps = np.array([8000, 7500, 9000, 10000, 6000, 7000, 8500, 9200, 7800, 8800, 6500, 7200, 8000, 9500])\n",
    "\n",
    "# 1. Total steps walked\n",
    "total_steps = np.sum(daily_steps)\n",
    "print(f\"Total steps walked: {total_steps}\")\n",
    "\n",
    "# 2. Average daily steps\n",
    "average_steps = np.mean(daily_steps)\n",
    "print(f\"Average daily steps: {average_steps:.2f}\")\n",
    "\n",
    "# 3. Minimum and maximum daily steps\n",
    "min_steps = np.min(daily_steps)\n",
    "max_steps = np.max(daily_steps)\n",
    "print(f\"Minimum daily steps: {min_steps}\")\n",
    "print(f\"Maximum daily steps: {max_steps}\")\n",
    "\n",
    "# 4. Days met or exceeded goal\n",
    "goal = 8000\n",
    "days_met_goal = daily_steps[daily_steps >= goal]\n",
    "num_days_met_goal = len(days_met_goal) # or np.sum(daily_steps >= goal)\n",
    "print(f\"Days met or exceeded goal ({goal} steps): {num_days_met_goal} days\")"
   ]
  },
  {
   "cell_type": "markdown",
   "id": "b7b76e9a",
   "metadata": {},
   "source": [
    "\n",
    "-----\n",
    "\n",
    "That's it for **Section 4: NumPy in Action\\!** You've just seen how versatile NumPy is, from manipulating images pixel by pixel to crunching numbers for data analysis. This foundation is crucial for almost any data science or machine learning path\\! 🚀\n",
    "\n",
    "Ready for a bigger challenge? Let's move on to **Section 5: Your NumPy Playground - Mini-Project\\!** where you'll combine everything you've learned. ✨\n",
    "$$"
   ]
  },
  {
   "cell_type": "markdown",
   "id": "ab7f1da0",
   "metadata": {},
   "source": [
    "\n",
    "Right, let's continue building out this awesome NumPy notebook\\! I'll now generate the content for **Section 4.3: Numerical Simulations** and **Section 4.4: Integration with Other Libraries**, following the same engaging, beginner-friendly, and interactive style you've outlined.\n",
    "\n",
    "-----\n",
    "\n",
    "\n",
    "# **4.3 Numerical Simulations** 🎲\n",
    "\n",
    "Beyond crunching existing data, NumPy is also a superstar when it comes to *generating* data and simulating real-world phenomena. This is incredibly useful in fields like finance, physics, and even game development\\! The secret sauce? NumPy's powerful random number generation capabilities. 🤯"
   ]
  },
  {
   "cell_type": "markdown",
   "id": "70185e08",
   "metadata": {},
   "source": [
    "\n",
    "#### **4.3.1 Simple Monte Carlo Simulations** 🎰\n",
    "\n",
    "What's a Monte Carlo simulation? 🤔 Imagine you want to estimate something that's difficult to calculate directly, like the value of $\\\\pi$ (Pi), or the probability of a complex event. Monte Carlo methods use repeated random sampling to arrive at an approximate solution. It's like throwing darts randomly at a target many, many times and using the results to figure something out\\! 🎯\n",
    "\n",
    "Let's use a classic example: **Estimating $\\\\pi$ (Pi)**.\n",
    "\n",
    "Imagine a square with side length 2, centered at the origin (from -1 to 1 on both x and y axes). Inside this square, we inscribe a circle with a radius of 1.\n",
    "\n",
    "  * Area of the square = side \\* side = $2 \\\\times 2 = 4$\n",
    "  * Area of the circle = $\\\\pi \\\\times \\\\text{radius}^2 = \\\\pi \\\\times 1^2 = \\\\pi$\n",
    "\n",
    "If we randomly throw darts at the square, the proportion of darts that land *inside* the circle should be approximately equal to the ratio of the circle's area to the square's area:\n",
    "\n",
    "$$\\frac{\\text{Darts inside circle}}{\\text{Total darts}} \\approx \\frac{\\text{Area of circle}}{\\text{Area of square}} = \\frac{\\pi}{4}$$\n",
    "\n",
    "So, we can estimate $\\\\pi$ as:\n",
    "\n",
    "$$\\pi \\approx 4 \\times \\frac{\\text{Darts inside circle}}{\\text{Total darts}}$$\n",
    "\n",
    "NumPy's `numpy.random` module is perfect for this\\!\n"
   ]
  },
  {
   "cell_type": "code",
   "execution_count": 110,
   "id": "c60e6d92",
   "metadata": {},
   "outputs": [
    {
     "name": "stdout",
     "output_type": "stream",
     "text": [
      "Number of darts: 100000\n",
      "Darts inside circle: 78367\n",
      "Estimated value of Pi: 3.13468\n",
      "NumPy's actual Pi value: 3.141592653589793\n"
     ]
    },
    {
     "data": {
      "image/png": "[encoded data removed]",
      "text/plain": [
       "<Figure size 600x600 with 1 Axes>"
      ]
     },
     "metadata": {},
     "output_type": "display_data"
    }
   ],
   "source": [
    "import numpy as np\n",
    "import matplotlib.pyplot as plt # We'll use this for visualization later!\n",
    "\n",
    "# Number of random \"darts\" to throw\n",
    "num_darts = 100000\n",
    "\n",
    "# Generate random x and y coordinates between -1 and 1\n",
    "# np.random.uniform(low, high, size) generates random numbers from a uniform distribution\n",
    "x_coords = np.random.uniform(-1, 1, num_darts)\n",
    "y_coords = np.random.uniform(-1, 1, num_darts)\n",
    "\n",
    "# Calculate the distance of each dart from the origin (0,0)\n",
    "# distance = sqrt(x^2 + y^2)\n",
    "distances = np.sqrt(x_coords**2 + y_coords**2)\n",
    "\n",
    "# Check how many darts landed inside the circle (distance <= radius of 1)\n",
    "darts_inside_circle = np.sum(distances <= 1)\n",
    "\n",
    "# Estimate Pi!\n",
    "pi_estimate = 4 * (darts_inside_circle / num_darts)\n",
    "\n",
    "print(f\"Number of darts: {num_darts}\")\n",
    "print(f\"Darts inside circle: {darts_inside_circle}\")\n",
    "print(f\"Estimated value of Pi: {pi_estimate}\")\n",
    "print(f\"NumPy's actual Pi value: {np.pi}\")\n",
    "\n",
    "# Let's visualize a small subset of darts to see what's happening!\n",
    "plt.figure(figsize=(6, 6))\n",
    "plt.scatter(x_coords[:1000], y_coords[:1000], c=(distances[:1000] <= 1), cmap='coolwarm', s=1)\n",
    "circle = plt.Circle((0, 0), 1, color='green', fill=False)\n",
    "plt.gca().add_artist(circle)\n",
    "plt.title(f'Monte Carlo Pi Estimation (First 1000 Darts, Est Pi: {pi_estimate:.4f})')\n",
    "plt.xlabel('X-coordinate')\n",
    "plt.ylabel('Y-coordinate')\n",
    "plt.xlim(-1.1, 1.1)\n",
    "plt.ylim(-1.1, 1.1)\n",
    "plt.gca().set_aspect('equal', adjustable='box')\n",
    "plt.show()"
   ]
  },
  {
   "cell_type": "markdown",
   "id": "c5882a08",
   "metadata": {},
   "source": [
    "\n",
    "Notice how `np.random.uniform` generates arrays of random numbers, and how array operations like `x_coords**2 + y_coords**2` and `np.sqrt` allow us to perform calculations on all darts *simultaneously*\\! This is the power of NumPy\\! 🚀\n",
    "\n",
    "#### **4.3.2 Simulating Random Walks** 🚶‍♀️🚶‍♂️\n",
    "\n",
    "A random walk is a mathematical process consisting of a sequence of random steps. Imagine a tiny ant taking random steps on a grid – sometimes left, sometimes right, sometimes up, sometimes down. Random walks are used to model everything from stock prices to the diffusion of molecules\\!\n",
    "\n",
    "Let's simulate a simple 1D random walk. We'll start at position 0, and at each step, we'll either move +1 or -1 with equal probability.\n"
   ]
  },
  {
   "cell_type": "code",
   "execution_count": 111,
   "id": "4b893bdb",
   "metadata": {},
   "outputs": [
    {
     "name": "stdout",
     "output_type": "stream",
     "text": [
      "First 10 steps: [-1  1  1  1 -1  1  1  1 -1 -1]\n",
      "First 11 positions: [ 0 -1  0  1  2  1  2  3  4  3  2]\n"
     ]
    },
    {
     "data": {
      "image/png": "[encoded data removed]",
      "text/plain": [
       "<Figure size 1000x500 with 1 Axes>"
      ]
     },
     "metadata": {},
     "output_type": "display_data"
    },
    {
     "name": "stdout",
     "output_type": "stream",
     "text": [
      "Final position after 1000 steps: 22\n",
      "Maximum absolute displacement: 38\n"
     ]
    }
   ],
   "source": [
    "# Number of steps in the walk\n",
    "num_steps = 1000\n",
    "\n",
    "# Generate random steps: +1 for heads, -1 for tails (or vice versa)\n",
    "# np.random.choice([elements], size, p=[probabilities])\n",
    "steps = np.random.choice([-1, 1], size=num_steps)\n",
    "\n",
    "# Calculate the cumulative sum of the steps to get the position at each point in time\n",
    "# The cumulative sum gives us the position after each step\n",
    "positions = np.cumsum(steps)\n",
    "\n",
    "# Start position is 0, so add 0 at the beginning\n",
    "# This ensures the first position is 0 before the first step\n",
    "full_path = np.insert(positions, 0, 0)\n",
    "\n",
    "print(f\"First 10 steps: {steps[:10]}\")\n",
    "print(f\"First 11 positions: {full_path[:11]}\")\n",
    "\n",
    "# Let's visualize the random walk!\n",
    "plt.figure(figsize=(10, 5))\n",
    "plt.plot(full_path)\n",
    "plt.title('1D Random Walk')\n",
    "plt.xlabel('Step Number')\n",
    "plt.ylabel('Position')\n",
    "plt.grid(True)\n",
    "plt.show()\n",
    "\n",
    "# What was the final position?\n",
    "final_position = full_path[-1]\n",
    "print(f\"Final position after {num_steps} steps: {final_position}\")\n",
    "\n",
    "# What was the maximum displacement from the origin?\n",
    "max_displacement = np.max(np.abs(full_path))\n",
    "print(f\"Maximum absolute displacement: {max_displacement}\")"
   ]
  },
  {
   "cell_type": "markdown",
   "id": "2f1eee17",
   "metadata": {},
   "source": [
    "\n",
    "**💡 Pro Tip:** NumPy's `np.random` module is incredibly rich\\! You can generate random numbers from various distributions (normal, exponential, etc.), shuffle arrays, and much more. It's your go-to tool for anything involving randomness. 🍀\n",
    "\n",
    "**❓ Quick Quiz: Simulation Logic\\!**\n",
    "\n",
    "In our Monte Carlo Pi estimation, why do we multiply the `(darts_inside_circle / num_darts)` ratio by 4?\n",
    "\n",
    "A) Because the square has a side length of 4.\n",
    "B) Because the area of the square is 4.\n",
    "C) Because we want to convert radians to degrees.\n",
    "\n",
    "\\<details\\>\n",
    "\\<summary\\>Click for Answer\\!\\</summary\\>\n",
    "\\<p\\>The answer is \\<b\\>B) Because the area of the square is 4\\</b\\>. The ratio represents $\\\\frac{\\\\text{Area of circle}}{\\\\text{Area of square}}$, so to isolate $\\\\text{Area of circle}$ (which is $\\\\pi$), we multiply by the area of the square (4).\\</p\\>\n",
    "\\</details\\>\n"
   ]
  },
  {
   "cell_type": "markdown",
   "id": "b524e125",
   "metadata": {},
   "source": [
    "\n",
    "-----\n",
    "\n",
    "# **4.4 Integration with Other Libraries** 🤝\n",
    "\n",
    "NumPy rarely works alone in a real-world data science project. It's the silent, powerful engine that powers many other popular Python libraries. Understanding how it integrates with them is key to becoming a well-rounded data practitioner\\! 🔗\n",
    "\n",
    "#### **4.4.1 NumPy and Pandas: The Synergy** 🐼\n",
    "\n",
    "If you're going to do serious data analysis in Python, you *will* encounter Pandas. Pandas is a library built on top of NumPy, providing highly optimized data structures like `DataFrame`s and `Series`. Think of a Pandas DataFrame as a super-powered spreadsheet, and under the hood, it's often storing data in NumPy arrays\\!\n",
    "\n",
    "You can easily convert between Pandas data structures and NumPy arrays:\n"
   ]
  },
  {
   "cell_type": "code",
   "execution_count": 112,
   "id": "b9ce5be4",
   "metadata": {},
   "outputs": [
    {
     "name": "stdout",
     "output_type": "stream",
     "text": [
      "Pandas Series from NumPy array:\n",
      " 0    10\n",
      "1    20\n",
      "2    30\n",
      "3    40\n",
      "4    50\n",
      "dtype: int64\n",
      "\n",
      "NumPy array from Pandas Series:\n",
      " [10 20 30 40 50]\n",
      "Type of back_to_np_array: <class 'numpy.ndarray'>\n",
      "\n",
      "Pandas DataFrame from NumPy array:\n",
      "    ColA  ColB  ColC\n",
      "0     1     2     3\n",
      "1     4     5     6\n",
      "2     7     8     9\n",
      "\n",
      "NumPy array from Pandas DataFrame:\n",
      " [[1 2 3]\n",
      " [4 5 6]\n",
      " [7 8 9]]\n",
      "Type of df_to_np_array: <class 'numpy.ndarray'>\n"
     ]
    }
   ],
   "source": [
    "import pandas as pd\n",
    "import numpy as np\n",
    "\n",
    "# Create a Pandas Series from a NumPy array\n",
    "np_array_series = np.array([10, 20, 30, 40, 50])\n",
    "pandas_series = pd.Series(np_array_series)\n",
    "print(\"Pandas Series from NumPy array:\\n\", pandas_series)\n",
    "\n",
    "# Convert a Pandas Series back to a NumPy array\n",
    "back_to_np_array = pandas_series.to_numpy()\n",
    "print(\"\\nNumPy array from Pandas Series:\\n\", back_to_np_array)\n",
    "print(\"Type of back_to_np_array:\", type(back_to_np_array))\n",
    "\n",
    "# Create a Pandas DataFrame from a 2D NumPy array\n",
    "np_array_df = np.array([[1, 2, 3],\n",
    "                        [4, 5, 6],\n",
    "                        [7, 8, 9]])\n",
    "pandas_df = pd.DataFrame(np_array_df, columns=['ColA', 'ColB', 'ColC'])\n",
    "print(\"\\nPandas DataFrame from NumPy array:\\n\", pandas_df)\n",
    "\n",
    "# Convert a Pandas DataFrame back to a NumPy array\n",
    "df_to_np_array = pandas_df.to_numpy()\n",
    "print(\"\\nNumPy array from Pandas DataFrame:\\n\", df_to_np_array)\n",
    "print(\"Type of df_to_np_array:\", type(df_to_np_array))\n",
    "\n",
    "# Why this synergy?\n",
    "# Pandas provides labels (column names, row indices) and handles mixed data types (strings, numbers).\n",
    "# NumPy provides the efficient numerical operations on homogeneous data.\n",
    "# When you ask Pandas to perform a numerical operation, it often delegates the heavy lifting to NumPy!"
   ]
  },
  {
   "cell_type": "markdown",
   "id": "e4ae9c21",
   "metadata": {},
   "source": [
    "\n",
    "#### **4.4.2 NumPy and Matplotlib: Visualization of Arrays** 📈🎨\n",
    "\n",
    "Matplotlib is the go-to library for creating static, animated, and interactive visualizations in Python. Guess what its primary input is for plotting numerical data? You got it – NumPy arrays\\! Whether you're plotting a line graph, a scatter plot, or a histogram, Matplotlib expects your data to be in a numerical array format, which NumPy excels at providing.\n",
    "\n",
    "We've already seen Matplotlib in action with our random walk and Pi estimation\\! Let's do a quick recap with some simple plots.\n"
   ]
  },
  {
   "cell_type": "code",
   "execution_count": 113,
   "id": "b958852e",
   "metadata": {},
   "outputs": [
    {
     "data": {
      "image/png": "[encoded data removed]",
      "text/plain": [
       "<Figure size 800x500 with 1 Axes>"
      ]
     },
     "metadata": {},
     "output_type": "display_data"
    },
    {
     "data": {
      "image/png": "[encoded data removed]",
      "text/plain": [
       "<Figure size 700x400 with 1 Axes>"
      ]
     },
     "metadata": {},
     "output_type": "display_data"
    }
   ],
   "source": [
    "import numpy as np\n",
    "import matplotlib.pyplot as plt\n",
    "\n",
    "# Generate data using NumPy\n",
    "x = np.linspace(0, 10, 100) # 100 evenly spaced points between 0 and 10\n",
    "y_sin = np.sin(x)\n",
    "y_cos = np.cos(x)\n",
    "\n",
    "# Plotting with Matplotlib\n",
    "plt.figure(figsize=(8, 5))\n",
    "plt.plot(x, y_sin, label='sin(x)', color='blue')\n",
    "plt.plot(x, y_cos, label='cos(x)', color='red', linestyle='--')\n",
    "plt.title('Sine and Cosine Waves')\n",
    "plt.xlabel('X-axis')\n",
    "plt.ylabel('Y-axis')\n",
    "plt.legend()\n",
    "plt.grid(True)\n",
    "plt.show()\n",
    "\n",
    "# Create a histogram of random data\n",
    "random_data = np.random.randn(1000) # 1000 random numbers from a standard normal distribution\n",
    "plt.figure(figsize=(7, 4))\n",
    "plt.hist(random_data, bins=30, edgecolor='black', alpha=0.7)\n",
    "plt.title('Histogram of Random Data')\n",
    "plt.xlabel('Value')\n",
    "plt.ylabel('Frequency')\n",
    "plt.show()"
   ]
  },
  {
   "cell_type": "markdown",
   "id": "d3325e73",
   "metadata": {},
   "source": [
    "\n",
    "**Common Pitfall:** Trying to plot regular Python lists directly with Matplotlib is possible, but it's often less efficient and can lead to unexpected behavior compared to using NumPy arrays. Always convert your data to NumPy arrays first for best plotting results\\! 📊\n",
    "\n",
    "#### **4.4.3 NumPy in Scikit-learn (Machine Learning)** 🤖\n",
    "\n",
    "Scikit-learn is the most popular Python library for machine learning. From building predictive models to clustering data, Scikit-learn has a vast array of algorithms. And how does it consume your data? You guessed it: as NumPy arrays\\!\n",
    "\n",
    "When you prepare your data for a machine learning model, it's typically in the form of a 2D NumPy array, where each row represents a data sample (e.g., a patient, a house) and each column represents a feature (e.g., age, number of rooms).\n",
    "\n",
    "Let's see a conceptual example of preparing data for a simple model:\n"
   ]
  },
  {
   "cell_type": "code",
   "execution_count": 114,
   "id": "a643cc2a",
   "metadata": {},
   "outputs": [
    {
     "name": "stdout",
     "output_type": "stream",
     "text": [
      "Features (X) shape: (10, 1)\n",
      "Target (y) shape: (10,)\n",
      "\n",
      "First 5 Features:\n",
      " [[ 500]\n",
      " [ 700]\n",
      " [ 750]\n",
      " [ 600]\n",
      " [1000]]\n",
      "First 5 Targets:\n",
      " [150 200 210 170 280]\n",
      "\n",
      "X_train shape: (8, 1)\n",
      "y_train shape: (8,)\n",
      "\n",
      "Test X values:\n",
      " [1100  700]\n",
      "Actual Y values:\n",
      " [300 200]\n",
      "Predicted Y values:\n",
      " [309.33042213 199.86899563]\n",
      "Model Coefficient (slope): 0.27\n",
      "Model Intercept: 8.31\n"
     ]
    }
   ],
   "source": [
    "import numpy as np\n",
    "from sklearn.linear_model import LinearRegression\n",
    "from sklearn.model_selection import train_test_split\n",
    "\n",
    "# Imagine we have data for house sizes (features) and their prices (target)\n",
    "# Features (X): Size of house in sq ft\n",
    "X = np.array([500, 700, 750, 600, 1000, 800, 900, 550, 1100, 650]).reshape(-1, 1)\n",
    "# .reshape(-1, 1) is crucial here! Scikit-learn expects 2D arrays for features,\n",
    "# even if there's only one feature. -1 means \"figure out the dimension for me\".\n",
    "\n",
    "# Target (y): Price of house in thousands of dollars\n",
    "y = np.array([150, 200, 210, 170, 280, 230, 260, 160, 300, 180])\n",
    "\n",
    "print(\"Features (X) shape:\", X.shape)\n",
    "print(\"Target (y) shape:\", y.shape)\n",
    "print(\"\\nFirst 5 Features:\\n\", X[:5])\n",
    "print(\"First 5 Targets:\\n\", y[:5])\n",
    "\n",
    "# Before training, data is often split into training and testing sets\n",
    "X_train, X_test, y_train, y_test = train_test_split(X, y, test_size=0.2, random_state=42)\n",
    "\n",
    "print(\"\\nX_train shape:\", X_train.shape)\n",
    "print(\"y_train shape:\", y_train.shape)\n",
    "\n",
    "# Create a simple Linear Regression model\n",
    "model = LinearRegression()\n",
    "\n",
    "# Train the model (this is where Scikit-learn processes the NumPy arrays)\n",
    "model.fit(X_train, y_train)\n",
    "\n",
    "# Make predictions\n",
    "predictions = model.predict(X_test)\n",
    "\n",
    "print(\"\\nTest X values:\\n\", X_test.flatten()) # flatten to show 1D for display\n",
    "print(\"Actual Y values:\\n\", y_test)\n",
    "print(\"Predicted Y values:\\n\", predictions)\n",
    "\n",
    "# Even the model's coefficients are stored as NumPy arrays!\n",
    "print(f\"Model Coefficient (slope): {model.coef_[0]:.2f}\")\n",
    "print(f\"Model Intercept: {model.intercept_:.2f}\")"
   ]
  },
  {
   "cell_type": "markdown",
   "id": "942e97be",
   "metadata": {},
   "source": [
    "\n",
    "\n",
    "This demonstrates that from data preparation (reshaping, splitting) to model training and predictions, NumPy arrays are the universal language that Scikit-learn speaks.\n",
    "\n",
    "-----\n",
    "\n",
    "You've now seen NumPy not just as a standalone tool, but as the powerful engine that integrates seamlessly with other essential libraries in the Python data science ecosystem. This synergy is what makes Python so incredibly effective for data analysis, visualization, and machine learning\\! 🎉\n",
    "\n",
    "Next up, it's time for you to take all these skills and apply them in a **real-world mini-project\\!** 🎢 Get ready to build something cool\\!\n",
    "\n",
    "-----"
   ]
  },
  {
   "cell_type": "markdown",
   "id": "29a90465",
   "metadata": {},
   "source": [
    "You got it\\! Let's wrap up this fantastic NumPy notebook with a section on best practices and common pitfalls, ensuring our learners not only know *how* to use NumPy but also *how to use it well*.\n",
    "\n",
    "Here's the content for **Section 5: Best Practices and Further Learning**, maintaining the detailed, interactive, and fun approach.\n",
    "\n",
    "\n",
    "-----\n",
    "\n",
    "## **Section 5: Best Practices and Further Learning** 🌟\n",
    "\n",
    "Phew\\! You've come a long, long way. You've mastered the basics, seen NumPy in action with real-world applications, and even dabbled in simulations and integrations. Now, it's time to refine your skills and learn some \"pro\" tips to write cleaner, faster, and more robust NumPy code. Think of this as polishing your NumPy superpowers\\! ✨\n"
   ]
  },
  {
   "cell_type": "markdown",
   "id": "771cc142",
   "metadata": {},
   "source": [
    "# **5.1 Best Practices for Writing NumPy Code** 📝\n",
    "\n",
    "Writing good code isn't just about getting it to run; it's about making it understandable, efficient, and maintainable. Here are some golden rules for your NumPy journey.\n",
    "\n",
    "#### **5.1.1 Readability and Commenting** 🧑‍💻\n",
    "\n",
    "Just like any other programming language, clear code is king\\! Even though NumPy operations can be concise, complex array manipulations can quickly become confusing if not properly explained.\n",
    "\n",
    "  * **Meaningful Variable Names:** Use names that describe the data they hold.\n",
    "      * ❌ `a = np.array([1,2,3])`\n",
    "      * ✅ `daily_sales = np.array([100, 120, 90])`\n",
    "  * **Comments:** Explain *why* you are doing something, especially for non-obvious logic. A good comment explains the intention, not just the \"what.\"\n",
    "  * **Whitespace:** Use blank lines to separate logical blocks of code.\n",
    "\n",
    "<!-- end list -->"
   ]
  },
  {
   "cell_type": "code",
   "execution_count": 115,
   "id": "1900014a",
   "metadata": {},
   "outputs": [
    {
     "name": "stdout",
     "output_type": "stream",
     "text": [
      "[5 7 9]\n",
      "Total daily visitors:\n",
      " [2700 2950 2550 3100]\n"
     ]
    }
   ],
   "source": [
    "import numpy as np\n",
    "\n",
    "# Bad Example ❌\n",
    "# c=a+b\n",
    "a = np.array([1, 2, 3])\n",
    "b = np.array([4, 5, 6])\n",
    "c = a + b\n",
    "print(c)\n",
    "\n",
    "# Good Example ✅\n",
    "# Define arrays for daily visitor counts for two different websites\n",
    "website_A_visitors = np.array([1500, 1600, 1450, 1700])\n",
    "website_B_visitors = np.array([1200, 1350, 1100, 1400])\n",
    "\n",
    "# Calculate the total daily visitors by summing the corresponding elements\n",
    "# This operation leverages NumPy's element-wise addition, which is very efficient.\n",
    "total_daily_visitors = website_A_visitors + website_B_visitors\n",
    "\n",
    "print(\"Total daily visitors:\\n\", total_daily_visitors)"
   ]
  },
  {
   "cell_type": "markdown",
   "id": "eb6c8bf2",
   "metadata": {},
   "source": [
    "\n",
    "**💡 Pro Tip:** Imagine someone else (or your future self\\!) reading your code a year from now. Will they understand it? If not, add more comments or improve variable names\\! 🕰️\n",
    "\n",
    "#### **5.1.2 Vectorization First Approach** 🏎️\n",
    "\n",
    "This is arguably the MOST important best practice in NumPy\\! **Vectorization** means performing operations on entire arrays (or parts of arrays) at once, rather than using Python `for` loops to process elements one by one. NumPy operations are implemented in highly optimized C and Fortran code under the hood, making them incredibly fast compared to pure Python loops.\n",
    "\n",
    "**Always strive for vectorization\\!**\n"
   ]
  },
  {
   "cell_type": "code",
   "execution_count": 116,
   "id": "e3864cca",
   "metadata": {},
   "outputs": [
    {
     "name": "stdout",
     "output_type": "stream",
     "text": [
      "Time taken with Python loop: 0.210595 seconds\n",
      "Time taken with NumPy vectorization: 0.003522 seconds\n"
     ]
    }
   ],
   "source": [
    "import numpy as np\n",
    "import time\n",
    "\n",
    "data_size = 1000000 # A million elements!\n",
    "\n",
    "# Create two large arrays\n",
    "array1 = np.random.rand(data_size)\n",
    "array2 = np.random.rand(data_size)\n",
    "\n",
    "# --- Non-Vectorized (Slow) Approach ---\n",
    "start_time_loop = time.time()\n",
    "result_loop = []\n",
    "for i in range(data_size):\n",
    "    result_loop.append(array1[i] + array2[i])\n",
    "end_time_loop = time.time()\n",
    "print(f\"Time taken with Python loop: {end_time_loop - start_time_loop:.6f} seconds\")\n",
    "\n",
    "# --- Vectorized (Fast) Approach ---\n",
    "start_time_vec = time.time()\n",
    "result_vec = array1 + array2 # NumPy handles the element-wise addition internally\n",
    "end_time_vec = time.time()\n",
    "print(f\"Time taken with NumPy vectorization: {end_time_vec - start_time_vec:.6f} seconds\")\n",
    "\n",
    "# Verify they are the same (approximately, due to floating point precision)\n",
    "# print(np.allclose(result_loop, result_vec))"
   ]
  },
  {
   "cell_type": "markdown",
   "id": "3b0afc94",
   "metadata": {},
   "source": [
    "\n",
    "You'll see a massive difference in speed, especially for large datasets. This is why NumPy is so powerful for scientific computing\\! 💪\n",
    "\n",
    "**Common Pitfall: The \"Python Loop Trap\"** If you find yourself writing `for` loops to iterate over NumPy array elements for calculations, stop\\! There's almost always a vectorized NumPy function or operation that can do it much faster.\n",
    "\n",
    "#### **5.1.3 Understanding Copy vs. View** 👀\n",
    "\n",
    "This is a subtle but critical concept that often trips up beginners (and even experienced users\\!). When you perform operations on NumPy arrays, sometimes you get a **copy** of the data, and sometimes you get a **view** of the original data.\n",
    "\n",
    "  * **Copy:** A new, independent piece of data in memory. Changes to the copy **do not** affect the original.\n",
    "  * **View:** A new array object that *looks at the same data* as the original array. Changes to the view **will** affect the original array, and vice versa\\! Think of it like looking through a window at the same object. 🖼️\n",
    "\n",
    "**When do you get a View?**\n",
    "Slicing (`arr[start:end]`) generally creates a view.\n",
    "\n",
    "**When do you get a Copy?**\n",
    "\n",
    "  * Using `.copy()` method explicitly.\n",
    "  * Most mathematical operations (like `arr + 5`).\n",
    "  * Boolean indexing (`arr[arr > 5]`).\n",
    "  * Reshaping if it requires data reordering.\n",
    "\n",
    "<!-- end list -->"
   ]
  },
  {
   "cell_type": "code",
   "execution_count": 117,
   "id": "86476f20",
   "metadata": {},
   "outputs": [
    {
     "name": "stdout",
     "output_type": "stream",
     "text": [
      "Original array: [1 2 3 4 5]\n",
      "View of array: [2 3 4]\n",
      "View after modification: [99  3  4]\n",
      "Original array after view modification: [ 1 99  3  4  5]\n",
      "------------------------------\n",
      "Original array for copy example: [10 20 30 40 50]\n",
      "Copy of array: [10 20 30 40 50]\n",
      "Copy after modification: [999  20  30  40  50]\n",
      "Original array after copy modification: [10 20 30 40 50]\n",
      "------------------------------\n",
      "Filtered elements (should be [99, 4, 5]): [99]\n",
      "Filtered elements after modification: [1000]\n",
      "Original array after filtered modification: [ 1 99  3  4  5]\n"
     ]
    }
   ],
   "source": [
    "import numpy as np\n",
    "\n",
    "original_array = np.array([1, 2, 3, 4, 5])\n",
    "print(\"Original array:\", original_array)\n",
    "\n",
    "# --- Example of a View (Slicing) ---\n",
    "view_of_array = original_array[1:4] # Elements 2, 3, 4\n",
    "print(\"View of array:\", view_of_array)\n",
    "\n",
    "# Modify the view\n",
    "view_of_array[0] = 99\n",
    "print(\"View after modification:\", view_of_array)\n",
    "print(\"Original array after view modification:\", original_array) # Ouch! Original changed!\n",
    "\n",
    "print(\"-\" * 30)\n",
    "\n",
    "# --- Example of a Copy ---\n",
    "original_array_copy = np.array([10, 20, 30, 40, 50])\n",
    "copy_of_array = original_array_copy.copy() # Explicitly create a copy\n",
    "print(\"Original array for copy example:\", original_array_copy)\n",
    "print(\"Copy of array:\", copy_of_array)\n",
    "\n",
    "# Modify the copy\n",
    "copy_of_array[0] = 999\n",
    "print(\"Copy after modification:\", copy_of_array)\n",
    "print(\"Original array after copy modification:\", original_array_copy) # Original is safe!\n",
    "\n",
    "print(\"-\" * 30)\n",
    "\n",
    "# --- Example of Copy (Boolean Indexing) ---\n",
    "# When you use boolean indexing, it generally returns a copy of the filtered elements\n",
    "filtered_elements = original_array[original_array > 5]\n",
    "print(\"Filtered elements (should be [99, 4, 5]):\", filtered_elements)\n",
    "\n",
    "# Try to modify a filtered element (it won't affect the original)\n",
    "if len(filtered_elements) > 0:\n",
    "    filtered_elements[0] = 1000\n",
    "    print(\"Filtered elements after modification:\", filtered_elements)\n",
    "    print(\"Original array after filtered modification:\", original_array) # Original still has 99, not 1000!"
   ]
  },
  {
   "cell_type": "markdown",
   "id": "c30fd357",
   "metadata": {},
   "source": [
    "\n",
    "**Common Pitfall:** Accidentally modifying `original_array` when you thought you were working on a separate copy\\! Always be aware if you're working with a copy or a view, especially when slicing. If in doubt and you *need* an independent version, use `.copy()`.\n",
    "\n",
    "### **5.2 Common Pitfalls and How to Avoid Them** 🚧\n",
    "\n",
    "Even with best practices, you might encounter some tricky situations. Knowing these common pitfalls can save you hours of debugging\\! 🤯\n",
    "\n",
    "#### **5.2.1 Unexpected Data Type Conversions** 🧩\n",
    "\n",
    "NumPy arrays are designed to hold homogeneous data (all elements of the same type). If you try to mix data types, NumPy will try to find a common, compatible type for all elements. This can sometimes lead to unexpected results.\n"
   ]
  },
  {
   "cell_type": "code",
   "execution_count": 118,
   "id": "0efc20ea",
   "metadata": {},
   "outputs": [
    {
     "name": "stdout",
     "output_type": "stream",
     "text": [
      "Integer array: [1 2 3]  (dtype: int64 )\n",
      "Mixed (int, float) array: [1.  2.5 3. ]  (dtype: float64 )\n",
      "Mixed (num, string) array: ['1' 'hello' '3']  (dtype: <U21 )\n"
     ]
    }
   ],
   "source": [
    "# All integers\n",
    "int_array = np.array([1, 2, 3])\n",
    "print(\"Integer array:\", int_array, \" (dtype:\", int_array.dtype, \")\")\n",
    "\n",
    "# Mixing integer and float -> all become float\n",
    "mixed_array_float = np.array([1, 2.5, 3])\n",
    "print(\"Mixed (int, float) array:\", mixed_array_float, \" (dtype:\", mixed_array_float.dtype, \")\")\n",
    "\n",
    "# Mixing number and string -> all become strings (less efficient for math!)\n",
    "mixed_array_string = np.array([1, 'hello', 3])\n",
    "print(\"Mixed (num, string) array:\", mixed_array_string, \" (dtype:\", mixed_array_string.dtype, \")\")\n",
    "\n",
    "# Pitfall: Unintended string conversion means you can't do math anymore!\n",
    "# print(mixed_array_string + 5) # This would raise an error!"
   ]
  },
  {
   "cell_type": "markdown",
   "id": "f453f255",
   "metadata": {},
   "source": [
    "\n",
    "**How to Avoid:**\n",
    "\n",
    "  * Be mindful of the data types you're putting into your arrays.\n",
    "  * Explicitly set the `dtype` when creating arrays if you know it: `np.array([1, 2, 3], dtype=np.float64)`.\n",
    "  * Check the `dtype` attribute (`my_array.dtype`) regularly.\n",
    "\n",
    "#### **5.2.2 Modifying Shared Views** 🤝\n",
    "\n",
    "We just covered this, but it's so important it deserves to be highlighted as a pitfall\\! Accidentally modifying the original array through a view is a very common source of bugs.\n"
   ]
  },
  {
   "cell_type": "code",
   "execution_count": 119,
   "id": "6375861b",
   "metadata": {},
   "outputs": [
    {
     "name": "stdout",
     "output_type": "stream",
     "text": [
      "Original data before modification: [10 20 30 40 50]\n",
      "Subset (view) before modification: [20 30 40]\n",
      "Original data after subset modification: [ 10 200  30  40  50]\n"
     ]
    }
   ],
   "source": [
    "data = np.array([10, 20, 30, 40, 50])\n",
    "subset = data[1:4] # This is a view!\n",
    "\n",
    "print(\"Original data before modification:\", data)\n",
    "print(\"Subset (view) before modification:\", subset)\n",
    "\n",
    "# Modify an element in the subset (the view)\n",
    "subset[0] = 200 # This modifies the original `data` array's second element!\n",
    "\n",
    "print(\"Original data after subset modification:\", data) # Oh no! 20 changed to 200!"
   ]
  },
  {
   "cell_type": "markdown",
   "id": "a6754b50",
   "metadata": {},
   "source": [
    "\n",
    "**How to Avoid:**\n",
    "\n",
    "  * If you need to ensure changes to a sliced array don't affect the original, explicitly create a copy using `.copy()`:\n",
    "    `subset = data[1:4].copy()`\n",
    "  * Understand when slicing creates a view vs. when operations create a copy.\n",
    "\n",
    "#### **5.2.3 Performance Bottlenecks** 🐢\n",
    "\n",
    "While NumPy is super fast, you can still create slow code if you don't use it wisely.\n",
    "\n",
    "  * **Excessive `for` loops:** As discussed in vectorization, avoid them\\!\n",
    "  * **Frequent creation of new arrays:** Creating and destroying many large arrays in a loop can be slow due to memory allocation and deallocation. Try to perform in-place operations or minimize intermediate arrays.\n",
    "  * **Unnecessary data type conversions:** Converting between dtypes can incur a performance penalty. Stick to consistent types.\n",
    "\n",
    "<!-- end list -->"
   ]
  },
  {
   "cell_type": "code",
   "execution_count": null,
   "id": "764c4496",
   "metadata": {},
   "outputs": [],
   "source": [
    "# Example of a potential bottleneck: Appending to arrays in a loop\n",
    "# This creates new arrays repeatedly, which is inefficient.\n",
    "# If you need to build an array incrementally, pre-allocate space or use Python lists\n",
    "# and convert to NumPy array once at the end.\n",
    "\n",
    "# Bad practice for building large arrays incrementally\n",
    "# (especially if total_size is huge and many appends happen)\n",
    "# If you run this for very large num_iterations, you'll see it's slow\n",
    "num_iterations = 10000\n",
    "my_list_for_np = []\n",
    "start_time_append = time.time()\n",
    "for i in range(num_iterations):\n",
    "    my_list_for_np.append(i * 2)\n",
    "final_array_bad = np.array(my_list_for_np)\n",
    "end_time_append = time.time()\n",
    "print(f\"Time taken to build array by appending to list then converting: {end_time_append - start_time_append:.6f} seconds\")\n",
    "\n",
    "# Better practice: pre-allocate or use vectorized operations directly if possible\n",
    "start_time_preallocate = time.time()\n",
    "# If you know the size beforehand, it's often better to pre-allocate\n",
    "# using np.empty, np.zeros, or np.arange, then fill it.\n",
    "# Or, even better, just generate it directly if it's a pattern\n",
    "final_array_good = np.arange(num_iterations) * 2\n",
    "end_time_preallocate = time.time()\n",
    "print(f\"Time taken to build array with vectorized operation: {end_time_preallocate - start_time_preallocate:.6f} seconds\")\n",
    "\n",
    "# You'll notice the vectorized approach is much faster, even for this simple case."
   ]
  },
  {
   "cell_type": "markdown",
   "id": "8aa70124",
   "metadata": {},
   "source": [
    "\n",
    "**How to Avoid:**\n",
    "\n",
    "  * **Embrace Vectorization:** This is your primary weapon against performance issues.\n",
    "  * **Profile Your Code:** For complex programs, use Python's `time` module or `cProfile` to identify where your code is spending the most time.\n",
    "  * **Read NumPy Documentation:** The official documentation often provides performance considerations and best practices for specific functions.\n",
    "\n",
    "-----\n",
    "\n",
    "### **5.3 Further Learning and Next Steps** 👣\n",
    "\n",
    "Congratulations\\! You've completed your beginner's guide to NumPy. You now have a solid foundation to tackle more advanced topics in data science and machine learning. Here are some ideas for your next steps:\n",
    "\n",
    "1.  **Practice, Practice, Practice\\!** The best way to learn is by doing. Try solving problems on platforms like HackerRank or LeetCode that involve array manipulations, or simply play around with data yourself.\n",
    "2.  **Dive into Pandas:** As we saw, Pandas is built on NumPy and is essential for data wrangling. Learning Pandas will unlock even more powerful data analysis capabilities.\n",
    "3.  **Explore Matplotlib and Seaborn:** Master data visualization to effectively communicate your insights.\n",
    "4.  **Learn Scikit-learn:** If you're interested in machine learning, Scikit-learn will be your best friend.\n",
    "5.  **Contribute to Open Source:** Once you feel confident, consider contributing to NumPy or other open-source projects\\! It's a great way to learn from others and give back to the community.\n",
    "6.  **Read the Official NumPy Documentation:** It's comprehensive and an excellent resource for detailed information on functions and their usage.\n",
    "\n",
    "**Recommended Resources:**\n",
    "\n",
    "  * **NumPy Official Documentation:** [https://numpy.org/doc/stable/](https://numpy.org/doc/stable/)\n",
    "  * **Pandas Official Documentation:** [https://pandas.pydata.org/docs/](https://pandas.pydata.org/docs/)\n",
    "  * **Matplotlib Official Documentation:** [https://matplotlib.org/stable/](https://matplotlib.org/stable/)\n",
    "  * **Scikit-learn Official Documentation:** [https://scikit-learn.org/stable/](https://scikit-learn.org/stable/)\n",
    "  * **Real Python NumPy Tutorial:** Search for \"Real Python NumPy\" - they have excellent, detailed articles.\n",
    "\n",
    "Keep exploring, keep coding, and remember that every expert was once a beginner\\! Happy NumPying\\! 🎉🚀\n",
    "\n",
    "-----"
   ]
  }
 ],
 "metadata": {
  "kernelspec": {
   "display_name": "Python 3",
   "language": "python",
   "name": "python3"
  },
  "language_info": {
   "codemirror_mode": {
    "name": "ipython",
    "version": 3
   },
   "file_extension": ".py",
   "mimetype": "text/x-python",
   "name": "python",
   "nbconvert_exporter": "python",
   "pygments_lexer": "ipython3",
   "version": "3.12.5"
  }
 },
 "nbformat": 4,
 "nbformat_minor": 5
}
