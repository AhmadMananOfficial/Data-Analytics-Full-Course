{
 "cells": [
  {
   "cell_type": "markdown",
   "id": "b33ede54",
   "metadata": {},
   "source": []
  },
  {
   "cell_type": "markdown",
   "id": "f3426e2e",
   "metadata": {},
   "source": [
    "## 🧠 Multiple Choice Questions\n",
    "\n",
    "Test your knowledge with these questions!\n",
    "\n",
    "\n",
    "\n",
    "---\n",
    "\n",
    "\n",
    "\n",
    "💡 **Final Tip:**\n",
    "SQL is your **gateway** to understanding and analyzing data efficiently. Mastering SQL gives you superpowers in data-driven roles. Keep practicing with real datasets and build mini-projects! 🧑‍💻📈\n",
    "\n",
    "Happy querying! 🎉\n",
    "\n",
    "---"
   ]
  },
  {
   "cell_type": "markdown",
   "id": "56887951",
   "metadata": {},
   "source": [
    "# 📊 Chapter 2: The Heart of SQL - The `SELECT` Statement\n",
    "\n",
    "Welcome to the second chapter of our SQL journey! Now that you understand the what and why of SQL, it's time to dive into the most fundamental and commonly used command: the `SELECT` statement. This is your primary tool for fetching data from a database. Think of yourself as a detective 🕵️, and the `SELECT` statement is your magnifying glass to inspect the clues (data) within your tables.\n",
    "\n",
    "---"
   ]
  },
  {
   "cell_type": "markdown",
   "id": "a175782c",
   "metadata": {},
   "source": [
    "## 🔍 Understanding `SELECT` and `FROM` Clauses\n",
    "\n",
    "The `SELECT` and `FROM` clauses are the inseparable duo of data retrieval. You can't have one without the other.\n",
    "\n",
    "* `SELECT`: Specifies the columns (or fields) you want to see.\n",
    "* `FROM`: Specifies the table where these columns are located.\n",
    "\n",
    "**Analogy:** Imagine you're at a food court (`FROM table_name`). The `SELECT` statement is you telling the vendor which specific dishes (`column1`, `column2`) you want on your plate.\n",
    "\n",
    "### Basic Syntax\n",
    "\n",
    "```sql\n",
    "SELECT column1, column2, ...\n",
    "FROM table_name;\n",
    "```\n",
    "\n",
    "### Selecting All Columns\n",
    "If you want to see every single column in a table, you can use the asterisk (`*`) wildcard. It's a handy shortcut!\n",
    "\n",
    "```sql\n",
    "SELECT *\n",
    "FROM table_name;\n",
    "```\n",
    "\n",
    "---"
   ]
  },
  {
   "cell_type": "markdown",
   "id": "a8a8613a",
   "metadata": {},
   "source": [
    "## 🧩 Exploring the `WHERE` Clause\n",
    "\n",
    "The `WHERE` clause is where the real magic happens. It allows you to filter your data and retrieve only the rows that meet specific conditions. It acts like a sieve, letting only the data you're interested in pass through.\n",
    "\n",
    "**Analogy:** You're back at the food court, but this time you have a dietary restriction. You tell the vendor, \"I want the chicken curry and rice (`SELECT`), but only if it's gluten-free (`WHERE` condition).\"\n",
    "\n",
    "### Basic Syntax\n",
    "\n",
    "```sql\n",
    "SELECT column1, column2, ...\n",
    "FROM table_name\n",
    "WHERE condition;\n",
    "```\n",
    "\n",
    "---"
   ]
  },
  {
   "cell_type": "markdown",
   "id": "967a118a",
   "metadata": {},
   "source": [
    "## 🔀 Logical Operators Deep Dive\n",
    "\n",
    "Logical operators are used in the `WHERE` clause to combine multiple conditions. This allows for more complex and specific filtering.\n",
    "\n",
    "* `AND`: Retrieves a record only if **all** conditions separated by `AND` are TRUE.\n",
    "* `OR`: Retrieves a record if **any** of the conditions separated by `OR` is TRUE.\n",
    "* `NOT`: Retrieves a record if the condition(s) is NOT TRUE.\n",
    "\n",
    "### Examples:\n",
    "Let's assume we have a `Users` table with columns: `Name`, `Age`, and `City`.\n",
    "\n",
    "* **Using `AND`**\n",
    "    To find users older than 25 who also live in 'New York':\n",
    "    ```sql\n",
    "    SELECT Name, Age, City FROM Users\n",
    "    WHERE Age > 25 AND City = 'New York';\n",
    "    ```\n",
    "\n",
    "* **Using `OR`**\n",
    "    To find users who are either younger than 18 or live in 'London':\n",
    "    ```sql\n",
    "    SELECT Name, Age, City FROM Users\n",
    "    WHERE Age < 18 OR City = 'London';\n",
    "    ```\n",
    "\n",
    "* **Using `NOT`**\n",
    "    To find users who do not live in 'Paris':\n",
    "    ```sql\n",
    "    SELECT Name, Age, City FROM Users\n",
    "    WHERE NOT City = 'Paris';\n",
    "    ```\n",
    "\n",
    "---"
   ]
  },
  {
   "cell_type": "markdown",
   "id": "b9b4bc8e",
   "metadata": {},
   "source": [
    "## 📏 Comparison Operators Explained\n",
    "\n",
    "Comparison operators are used in the `WHERE` clause to compare a column value with another value.\n",
    "\n",
    "| Operator | Description                    |\n",
    "| :------- | :----------------------------- |\n",
    "| `=`      | Equal to                       |\n",
    "| `>`      | Greater than                   |\n",
    "| `<`      | Less than                      |\n",
    "| `>=`     | Greater than or equal to       |\n",
    "| `<=`     | Less than or equal to       |\n",
    "| `<>` or `!=` | Not equal to               |\n",
    "| `BETWEEN`| Between a certain range        |\n",
    "| `LIKE`   | Search for a pattern           |\n",
    "| `IN`     | To specify multiple possible values for a column |\n",
    "\n",
    "---"
   ]
  },
  {
   "cell_type": "markdown",
   "id": "b4488d1f",
   "metadata": {},
   "source": [
    "## 💡 Practical Examples and Exercises\n",
    "\n",
    "Let's work with a hypothetical `Employees` table.\n",
    "\n",
    "**Table: `Employees`**\n",
    "\n",
    "| EmployeeID | FirstName | LastName | Department | Salary |\n",
    "| :--- | :--- | :--- | :--- | :--- |\n",
    "| 1 | Alice | Johnson | HR | 60000 |\n",
    "| 2 | Bob | Smith | Sales | 75000 |\n",
    "| 3 | Charlie | Brown | IT | 90000 |\n",
    "| 4 | Diana | Prince | Sales | 80000 |\n",
    "\n",
    "### Example Queries:\n",
    "\n",
    "1.  **Select the first and last names of all employees.**\n",
    "    ```sql\n",
    "    SELECT FirstName, LastName FROM Employees;\n",
    "    ```\n",
    "\n",
    "2.  **Select all information about employees in the 'Sales' department.**\n",
    "    ```sql\n",
    "    SELECT * FROM Employees WHERE Department = 'Sales';\n",
    "    ```\n",
    "\n",
    "3.  **Select the names of employees who earn more than $70,000.**\n",
    "    ```sql\n",
    "    SELECT FirstName, LastName FROM Employees WHERE Salary > 70000;\n",
    "    ```\n",
    "\n",
    "4.  **Select employees who work in 'Sales' AND earn more than $75,000.**\n",
    "    ```sql\n",
    "    SELECT * FROM Employees WHERE Department = 'Sales' AND Salary > 75000;\n",
    "    ```\n",
    "\n",
    "### 🧠 Your Turn! (Exercises)\n",
    "Try writing queries for the following tasks:\n",
    "1.  Select the `FirstName` and `Department` for all employees.\n",
    "2.  Find all employees who are NOT in the 'HR' department.\n",
    "3.  Find all employees whose `Salary` is between $50,000 and $80,000.\n",
    "\n",
    "---"
   ]
  },
  {
   "cell_type": "code",
   "execution_count": 2,
   "id": "ec3b5ede",
   "metadata": {},
   "outputs": [],
   "source": [
    "# Load the ipython-sql extension\n",
    "%load_ext sql\n",
    "\n",
    "# Connect to an in-memory SQLite database\n",
    "%sql sqlite://"
   ]
  },
  {
   "cell_type": "code",
   "execution_count": null,
   "id": "ec20307a",
   "metadata": {
    "vscode": {
     "languageId": "sql"
    }
   },
   "outputs": [],
   "source": [
    "%%sql\n",
    "CREATE TABLE Employees (\n",
    "    EmployeeID INTEGER PRIMARY KEY,\n",
    "    FirstName TEXT,\n",
    "    LastName TEXT,\n",
    "    Department TEXT,\n",
    "    Salary INTEGER\n",
    ");\n",
    "INSERT INTO Employees (EmployeeID, FirstName, LastName, Department, Salary) VALUES\n",
    "(1, 'Alice', 'Johnson', 'HR', 60000),\n",
    "(2, 'Bob', 'Smith', 'Sales', 75000),\n",
    "(3, 'Charlie', 'Brown', 'IT', 90000),\n",
    "(4, 'Diana', 'Prince', 'Sales', 80000);\n",
    "\n",
    "SELECT FirstName, LastName FROM Employees;\n",
    "\n",
    "SELECT * FROM Employees WHERE Department = 'Sales';\n",
    "\n",
    "SELECT FirstName, LastName FROM Employees WHERE Salary > 70000;"
   ]
  },
  {
   "cell_type": "code",
   "execution_count": null,
   "id": "e9d3e73d",
   "metadata": {
    "vscode": {
     "languageId": "sql"
    }
   },
   "outputs": [],
   "source": [
    "%%sql\n",
    "SELECT * FROM Employees WHERE Department = 'Sales' AND Salary > 75000;"
   ]
  },
  {
   "cell_type": "markdown",
   "id": "a5ab58b7",
   "metadata": {},
   "source": [
    "---\n",
    "## ❓ Multiple Choice Quiz\n",
    "\n",
    "Time to test your knowledge!\n",
    "\n",
    "1.  **Which clause is used to specify the table you want to query?**\n",
    "    * A) `SELECT`\n",
    "    * B) `TABLE`\n",
    "    * C) `FROM`\n",
    "    * D) `WHERE`\n",
    "\n",
    "2.  **How can you select all columns from a table named `Customers`?**\n",
    "    * A) `SELECT all FROM Customers;`\n",
    "    * B) `SELECT Customers.*;`\n",
    "    * C) `SELECT * FROM Customers;`\n",
    "    * D) `GET * FROM Customers;`\n",
    "\n",
    "3.  **The `WHERE` clause is used for...**\n",
    "    * A) Sorting the result set.\n",
    "    * B) Filtering records.\n",
    "    * C) Specifying the table.\n",
    "    * D) Selecting columns.\n",
    "\n",
    "4.  **Which query will select employees from the 'IT' department who earn exactly $90,000?**\n",
    "    * A) `SELECT * FROM Employees WHERE Department = 'IT' OR Salary = 90000;`\n",
    "    * B) `SELECT * FROM Employees WHERE Department = 'IT' AND Salary = 90000;`\n",
    "    * C) `SELECT * FROM Employees WHERE Department = 'IT' & Salary = 90000;`\n",
    "    * D) `SELECT * FROM Employees WHERE Department = 'IT', Salary = 90000;`\n",
    "\n",
    "5.  **Which operator would you use to find all employees whose last name is NOT 'Smith'?**\n",
    "    * A) `!=`\n",
    "    * B) `NOT IN`\n",
    "    * C) `EXCEPT`\n",
    "    * D) `NON`\n",
    "\n",
    "---\n",
    "\n",
    "### 🔑 Answer Key\n",
    "\n",
    "1.  **C) `FROM`** - The `FROM` clause specifies the source table.\n",
    "2.  **C) `SELECT * FROM Customers;`** - The asterisk (`*`) is a wildcard for all columns.\n",
    "3.  **B) Filtering records.** - The `WHERE` clause filters rows based on specified conditions.\n",
    "4.  **B) `SELECT * FROM Employees WHERE Department = 'IT' AND Salary = 90000;`** - The `AND` operator ensures that both conditions must be true.\n",
    "5.  **A) `!=`** - The `!=` or `<>` operator signifies 'not equal to'.\n",
    "\n",
    "Excellent work on completing this chapter! You now have the foundational skills to retrieve and filter data, which is a massive part of working with SQL. In the next chapter, we'll look at how to sort and organize your results. Keep up the great work! 🎉\n",
    "\n",
    "---"
   ]
  },
  {
   "cell_type": "markdown",
   "id": "0ed8c393",
   "metadata": {},
   "source": [
    "# 📊 Chapter 3: Organizing Your Data - Sorting and Limiting Results\n",
    "\n",
    "Fantastic work on mastering the `SELECT` statement! You're now a detective 🕵️ who can find specific clues. In this chapter, you'll learn how to be an *organized* detective, arranging your findings in a neat, meaningful order. We'll explore how to sort results with the `ORDER BY` clause and how to retrieve just the most important bits of information using the `LIMIT` clause.\n",
    "\n",
    "---"
   ]
  },
  {
   "cell_type": "markdown",
   "id": "eb50e964",
   "metadata": {},
   "source": [
    "## 🔢 The `ORDER BY` Clause Detailed Explanation\n",
    "\n",
    "By default, the rows in a query result aren't returned in any special order. The `ORDER BY` clause is your tool for sorting the result set based on one or more columns.\n",
    "\n",
    "**Analogy:** Imagine you have a stack of student exam papers. `ORDER BY` is like arranging them alphabetically by student name or from the highest score to the lowest.\n",
    "\n",
    "### Basic Syntax\n",
    "```sql\n",
    "SELECT column1, column2, ...\n",
    "FROM table_name\n",
    "ORDER BY column_to_sort_by;\n",
    "```\n",
    "\n",
    "---"
   ]
  },
  {
   "cell_type": "markdown",
   "id": "539f7fd9",
   "metadata": {},
   "source": [
    "## 📈 Sorting in Ascending and Descending Order\n",
    "\n",
    "You can sort data in two ways:\n",
    "* `ASC` (Ascending): From smallest to largest (A-Z, 0-9). This is the **default** sorting order, so you don't even have to type it!\n",
    "* `DESC` (Descending): From largest to smallest (Z-A, 9-0).\n",
    "\n",
    "### Sorting in Ascending Order (`ASC`)\n",
    "Let's sort our `Employees` table by `FirstName`.\n",
    "\n",
    "```sql\n",
    "SELECT FirstName, LastName, Salary\n",
    "FROM Employees\n",
    "ORDER BY FirstName ASC; -- 'ASC' is optional here\n",
    "```\n",
    "This would list employees from Alice to Diana.\n",
    "\n",
    "### Sorting in Descending Order (`DESC`)\n",
    "Now, let's find out who has the highest salary.\n",
    "\n",
    "```sql\n",
    "SELECT FirstName, LastName, Salary\n",
    "FROM Employees\n",
    "ORDER BY Salary DESC;\n",
    "```\n",
    "This would list Charlie first (90000) and Alice last (60000).\n",
    "\n",
    "### Sorting by Multiple Columns 🤯\n",
    "You can also sort by more than one column. The database will sort by the first column specified, and then for any rows that have the same value in the first column, it will sort them by the second column, and so on.\n",
    "\n",
    "Let's sort our `Products` table first by `Category` in descending order, and then by `Price` in ascending order.\n",
    "\n",
    "```sql\n",
    "SELECT ProductName, Category, Price\n",
    "FROM Products\n",
    "ORDER BY Category DESC, Price ASC;\n",
    "```\n",
    "\n",
    "---\n"
   ]
  },
  {
   "cell_type": "markdown",
   "id": "fa7d645a",
   "metadata": {},
   "source": [
    "## 🎯 `LIMIT` Clause Deep Dive\n",
    "\n",
    "What if you only want to see the top few results? The `LIMIT` clause is perfect for this. It restricts the number of rows returned by your query. This is incredibly useful for things like \"Top 10\" lists and for making your queries faster on huge datasets.\n",
    "\n",
    "**Analogy:** You've sorted your exam papers by score (`ORDER BY`). Now, you just want to grab the top 3 papers off the stack (`LIMIT 3`).\n",
    "\n",
    "### Basic Syntax\n",
    "\n",
    "```sql\n",
    "SELECT column1, column2, ...\n",
    "FROM table_name\n",
    "LIMIT number_of_rows;\n",
    "```\n",
    "**Note:** The syntax for `LIMIT` can vary across different SQL databases. For example, in SQL Server, you might use `TOP` instead (`SELECT TOP 10 ...`). We'll stick to the common `LIMIT` syntax.\n",
    "\n",
    "---"
   ]
  },
  {
   "cell_type": "markdown",
   "id": "ebefb7c7",
   "metadata": {},
   "source": [
    "## 🧩 Practical Scenarios and Combinations\n",
    "\n",
    "The real power comes when you combine `ORDER BY` and `LIMIT`.\n",
    "\n",
    "**Table: `Sales`**\n",
    "\n",
    "| SaleID | ProductID | Revenue | SaleDate |\n",
    "| :--- | :--- | :--- | :--- |\n",
    "| 1 | 101 | 500 | 2023-01-15 |\n",
    "| 2 | 102 | 1200 | 2023-01-16 |\n",
    "| 3 | 101 | 450 | 2023-01-17 |\n",
    "| 4 | 103 | 2500 | 2023-01-18 |\n",
    "\n",
    "### Scenarios:\n",
    "\n",
    "1.  **Find the Top 3 most profitable sales.**\n",
    "    Here, we need to sort by `Revenue` in descending order and then take the top 3.\n",
    "    ```sql\n",
    "    SELECT SaleID, ProductID, Revenue\n",
    "    FROM Sales\n",
    "    ORDER BY Revenue DESC\n",
    "    LIMIT 3;\n",
    "    ```\n",
    "\n",
    "2.  **Find the 5 most recent sales.**\n",
    "    We need to sort by `SaleDate` in descending order.\n",
    "    ```sql\n",
    "    SELECT SaleID, Revenue, SaleDate\n",
    "    FROM Sales\n",
    "    ORDER BY SaleDate DESC\n",
    "    LIMIT 5;\n",
    "    ```\n",
    "\n",
    "### ⚠️ A Note on Performance\n",
    "Sorting can be computationally expensive, especially on tables with millions of rows. When you ask a database to `ORDER BY` a column, it may need to read and rearrange a lot of data. If a column you frequently sort by is indexed, the process is much faster! Don't worry too much about indexes now, but it's a good concept to remember as you advance.\n",
    "\n",
    "---"
   ]
  },
  {
   "cell_type": "markdown",
   "id": "f9cfd8fd",
   "metadata": {},
   "source": [
    "## ❓ Multiple Choice Questions\n",
    "\n",
    "Let's test your new skills!\n",
    "\n",
    "1.  **Which keyword is used to sort the result-set in descending order?**\n",
    "    * A) `ASC`\n",
    "    * B) `DESCEND`\n",
    "    * C) `DESC`\n",
    "    * D) `ORDER DESC`\n",
    "\n",
    "2.  **What is the default sort order for the `ORDER BY` clause?**\n",
    "    * A) Descending\n",
    "    * B) There is no default\n",
    "    * C) Alphabetical\n",
    "    * D) Ascending\n",
    "\n",
    "3.  **How would you get the top 5 highest-paid employees from the `Employees` table?**\n",
    "    * A) `SELECT * FROM Employees LIMIT 5 ORDER BY Salary ASC;`\n",
    "    * B) `SELECT * FROM Employees ORDER BY Salary DESC LIMIT 5;`\n",
    "    * C) `SELECT TOP 5 * FROM Employees ORDER BY Salary;`\n",
    "    * D) `SELECT * FROM Employees ORDER BY Salary ASC LIMIT 5;`\n",
    "\n",
    "4.  **If you want to sort products by `Category` (A-Z) and then by `Price` (highest to lowest), what is the correct syntax?**\n",
    "    * A) `ORDER BY Category, Price DESC`\n",
    "    * B) `ORDER BY Category ASC, Price DESC`\n",
    "    * C) `ORDER BY Category; ORDER BY Price DESC`\n",
    "    * D) `ORDER BY Category DESC, Price ASC`\n",
    "\n",
    "5.  **The `LIMIT` clause is used to:**\n",
    "    * A) Restrict the columns in the result set.\n",
    "    * B) Restrict the rows in the result set.\n",
    "    * C) Restrict user access to a table.\n",
    "    * D) Set a limit on a column's value.\n",
    "\n",
    "---\n",
    "\n",
    "\n",
    "## 🔑 Answer Key\n",
    "\n",
    "**MCQ Answers:**\n",
    "1.  **C) `DESC`** - `DESC` is the keyword for descending order.\n",
    "2.  **D) Ascending** - If you don't specify `ASC` or `DESC`, the database defaults to ascending order.\n",
    "3.  **B) `SELECT * FROM Employees ORDER BY Salary DESC LIMIT 5;`** - You must first sort by salary in descending order to get the highest salaries at the top, and then limit the result to 5.\n",
    "4.  **B) `ORDER BY Category ASC, Price DESC`** - `ASC` is applied to `Category` (though it's default and optional), and `DESC` is applied to `Price`.\n",
    "5.  **B) Restrict the rows in the result set.** - `LIMIT` controls how many rows are returned.\n"
   ]
  },
  {
   "cell_type": "markdown",
   "id": "c4775876",
   "metadata": {},
   "source": [
    "## 🏆 Challenge Exercises\n",
    "\n",
    "Let's use the `Employees` table from the previous chapter.\n",
    "\n",
    "**Table: `Employees`**\n",
    "\n",
    "| EmployeeID | FirstName | LastName | Department | Salary |\n",
    "| :--- | :--- | :--- | :--- | :--- |\n",
    "| 1 | Alice | Johnson | HR | 60000 |\n",
    "| 2 | Bob | Smith | Sales | 75000 |\n",
    "| 3 | Charlie | Brown | IT | 90000 |\n",
    "| 4 | Diana | Prince | Sales | 80000 |\n",
    "\n",
    "1.  Write a query to select all employees, ordered by their `LastName` alphabetically.\n",
    "2.  Write a query to find the two employees with the lowest salaries.\n",
    "3.  Write a query to select all employees from the 'Sales' department, ordered by salary from highest to lowest.\n",
    "\n",
    "**Challenge Solutions:**\n",
    "1.  ```sql\n",
    "    SELECT * FROM Employees ORDER BY LastName ASC;\n",
    "    ```\n",
    "2.  ```sql\n",
    "    SELECT * FROM Employees ORDER BY Salary ASC LIMIT 2;\n",
    "    ```\n",
    "3.  ```sql\n",
    "    SELECT * FROM Employees WHERE Department = 'Sales' ORDER BY Salary DESC;\n",
    "    ```\n",
    "---\n"
   ]
  },
  {
   "cell_type": "code",
   "execution_count": 12,
   "id": "4907573e",
   "metadata": {
    "vscode": {
     "languageId": "sql"
    }
   },
   "outputs": [
    {
     "name": "stdout",
     "output_type": "stream",
     "text": [
      "The sql extension is already loaded. To reload it, use:\n",
      "  %reload_ext sql\n",
      "(sqlite3.OperationalError) unrecognized token: \"#\"\n",
      "[SQL: # Using SQLite for our examples]\n",
      "(Background on this error at: https://sqlalche.me/e/20/e3q8)\n"
     ]
    }
   ],
   "source": [
    "# Setup for Jupyter Notebook (Run this first!)\n",
    "%load_ext sql\n",
    "%sql sqlite:///tutorial.db  # Using SQLite for our examples"
   ]
  },
  {
   "cell_type": "code",
   "execution_count": 18,
   "id": "8d3472ac",
   "metadata": {},
   "outputs": [
    {
     "name": "stdout",
     "output_type": "stream",
     "text": [
      "   sqlite://\n",
      " * sqlite:///tutorial.db\n",
      "Done.\n"
     ]
    },
    {
     "data": {
      "text/plain": [
       "[]"
      ]
     },
     "execution_count": 18,
     "metadata": {},
     "output_type": "execute_result"
    }
   ],
   "source": [
    "%%sql\n",
    "DROP TABLE IF EXISTS employees;"
   ]
  },
  {
   "cell_type": "code",
   "execution_count": 25,
   "id": "4812ea94",
   "metadata": {
    "vscode": {
     "languageId": "sql"
    }
   },
   "outputs": [
    {
     "name": "stdout",
     "output_type": "stream",
     "text": [
      "   sqlite://\n",
      " * sqlite:///tutorial.db\n",
      "Done.\n",
      "Done.\n"
     ]
    },
    {
     "ename": "KeyError",
     "evalue": "'DEFAULT'",
     "output_type": "error",
     "traceback": [
      "\u001b[31m---------------------------------------------------------------------------\u001b[39m",
      "\u001b[31mKeyError\u001b[39m                                  Traceback (most recent call last)",
      "\u001b[36mCell\u001b[39m\u001b[36m \u001b[39m\u001b[32mIn[25]\u001b[39m\u001b[32m, line 1\u001b[39m\n\u001b[32m----> \u001b[39m\u001b[32m1\u001b[39m \u001b[43mget_ipython\u001b[49m\u001b[43m(\u001b[49m\u001b[43m)\u001b[49m\u001b[43m.\u001b[49m\u001b[43mrun_cell_magic\u001b[49m\u001b[43m(\u001b[49m\u001b[33;43m'\u001b[39;49m\u001b[33;43msql\u001b[39;49m\u001b[33;43m'\u001b[39;49m\u001b[43m,\u001b[49m\u001b[43m \u001b[49m\u001b[33;43m'\u001b[39;49m\u001b[33;43m'\u001b[39;49m\u001b[43m,\u001b[49m\u001b[43m \u001b[49m\u001b[33;43m'\u001b[39;49m\u001b[33;43mCREATE TABLE IF NOT EXISTS Employ (\u001b[39;49m\u001b[38;5;130;43;01m\\n\u001b[39;49;00m\u001b[33;43m    emp_id INTEGER PRIMARY KEY,\u001b[39;49m\u001b[38;5;130;43;01m\\n\u001b[39;49;00m\u001b[33;43m    first_name TEXT,\u001b[39;49m\u001b[38;5;130;43;01m\\n\u001b[39;49;00m\u001b[33;43m    last_name TEXT,\u001b[39;49m\u001b[38;5;130;43;01m\\n\u001b[39;49;00m\u001b[33;43m    salary REAL,\u001b[39;49m\u001b[38;5;130;43;01m\\n\u001b[39;49;00m\u001b[33;43m    hire_date TEXT\u001b[39;49m\u001b[38;5;130;43;01m\\n\u001b[39;49;00m\u001b[33;43m);\u001b[39;49m\u001b[38;5;130;43;01m\\n\u001b[39;49;00m\u001b[38;5;130;43;01m\\n\u001b[39;49;00m\u001b[33;43mSELECT * FROM Employ;\u001b[39;49m\u001b[38;5;130;43;01m\\n\u001b[39;49;00m\u001b[33;43m'\u001b[39;49m\u001b[43m)\u001b[49m\n",
      "\u001b[36mFile \u001b[39m\u001b[32m~\\AppData\\Roaming\\Python\\Python312\\site-packages\\IPython\\core\\interactiveshell.py:2547\u001b[39m, in \u001b[36mInteractiveShell.run_cell_magic\u001b[39m\u001b[34m(self, magic_name, line, cell)\u001b[39m\n\u001b[32m   2545\u001b[39m \u001b[38;5;28;01mwith\u001b[39;00m \u001b[38;5;28mself\u001b[39m.builtin_trap:\n\u001b[32m   2546\u001b[39m     args = (magic_arg_s, cell)\n\u001b[32m-> \u001b[39m\u001b[32m2547\u001b[39m     result = \u001b[43mfn\u001b[49m\u001b[43m(\u001b[49m\u001b[43m*\u001b[49m\u001b[43margs\u001b[49m\u001b[43m,\u001b[49m\u001b[43m \u001b[49m\u001b[43m*\u001b[49m\u001b[43m*\u001b[49m\u001b[43mkwargs\u001b[49m\u001b[43m)\u001b[49m\n\u001b[32m   2549\u001b[39m \u001b[38;5;66;03m# The code below prevents the output from being displayed\u001b[39;00m\n\u001b[32m   2550\u001b[39m \u001b[38;5;66;03m# when using magics with decorator @output_can_be_silenced\u001b[39;00m\n\u001b[32m   2551\u001b[39m \u001b[38;5;66;03m# when the last Python token in the expression is a ';'.\u001b[39;00m\n\u001b[32m   2552\u001b[39m \u001b[38;5;28;01mif\u001b[39;00m \u001b[38;5;28mgetattr\u001b[39m(fn, magic.MAGIC_OUTPUT_CAN_BE_SILENCED, \u001b[38;5;28;01mFalse\u001b[39;00m):\n",
      "\u001b[36mFile \u001b[39m\u001b[32mc:\\Users\\GNG\\AppData\\Local\\Programs\\Python\\Python312\\Lib\\site-packages\\sql\\magic.py:219\u001b[39m, in \u001b[36mSqlMagic.execute\u001b[39m\u001b[34m(self, line, cell, local_ns)\u001b[39m\n\u001b[32m    216\u001b[39m     \u001b[38;5;28;01mreturn\u001b[39;00m\n\u001b[32m    218\u001b[39m \u001b[38;5;28;01mtry\u001b[39;00m:\n\u001b[32m--> \u001b[39m\u001b[32m219\u001b[39m     result = \u001b[43msql\u001b[49m\u001b[43m.\u001b[49m\u001b[43mrun\u001b[49m\u001b[43m.\u001b[49m\u001b[43mrun\u001b[49m\u001b[43m(\u001b[49m\u001b[43mconn\u001b[49m\u001b[43m,\u001b[49m\u001b[43m \u001b[49m\u001b[43mparsed\u001b[49m\u001b[43m[\u001b[49m\u001b[33;43m\"\u001b[39;49m\u001b[33;43msql\u001b[39;49m\u001b[33;43m\"\u001b[39;49m\u001b[43m]\u001b[49m\u001b[43m,\u001b[49m\u001b[43m \u001b[49m\u001b[38;5;28;43mself\u001b[39;49m\u001b[43m,\u001b[49m\u001b[43m \u001b[49m\u001b[43muser_ns\u001b[49m\u001b[43m)\u001b[49m\n\u001b[32m    221\u001b[39m     \u001b[38;5;28;01mif\u001b[39;00m (\n\u001b[32m    222\u001b[39m         result \u001b[38;5;129;01mis\u001b[39;00m \u001b[38;5;129;01mnot\u001b[39;00m \u001b[38;5;28;01mNone\u001b[39;00m\n\u001b[32m    223\u001b[39m         \u001b[38;5;129;01mand\u001b[39;00m \u001b[38;5;129;01mnot\u001b[39;00m \u001b[38;5;28misinstance\u001b[39m(result, \u001b[38;5;28mstr\u001b[39m)\n\u001b[32m   (...)\u001b[39m\u001b[32m    226\u001b[39m         \u001b[38;5;66;03m# Instead of returning values, set variables directly in the\u001b[39;00m\n\u001b[32m    227\u001b[39m         \u001b[38;5;66;03m# user's namespace. Variable names given by column names\u001b[39;00m\n\u001b[32m    229\u001b[39m         \u001b[38;5;28;01mif\u001b[39;00m \u001b[38;5;28mself\u001b[39m.autopandas:\n",
      "\u001b[36mFile \u001b[39m\u001b[32mc:\\Users\\GNG\\AppData\\Local\\Programs\\Python\\Python312\\Lib\\site-packages\\sql\\run.py:374\u001b[39m, in \u001b[36mrun\u001b[39m\u001b[34m(conn, sql, config, user_namespace)\u001b[39m\n\u001b[32m    372\u001b[39m     \u001b[38;5;28;01mif\u001b[39;00m result \u001b[38;5;129;01mand\u001b[39;00m config.feedback:\n\u001b[32m    373\u001b[39m         \u001b[38;5;28mprint\u001b[39m(interpret_rowcount(result.rowcount))\n\u001b[32m--> \u001b[39m\u001b[32m374\u001b[39m resultset = \u001b[43mResultSet\u001b[49m\u001b[43m(\u001b[49m\u001b[43mresult\u001b[49m\u001b[43m,\u001b[49m\u001b[43m \u001b[49m\u001b[43mconfig\u001b[49m\u001b[43m)\u001b[49m\n\u001b[32m    375\u001b[39m \u001b[38;5;28;01mif\u001b[39;00m config.autopandas:\n\u001b[32m    376\u001b[39m     \u001b[38;5;28;01mreturn\u001b[39;00m resultset.DataFrame()\n",
      "\u001b[36mFile \u001b[39m\u001b[32mc:\\Users\\GNG\\AppData\\Local\\Programs\\Python\\Python312\\Lib\\site-packages\\sql\\run.py:116\u001b[39m, in \u001b[36mResultSet.__init__\u001b[39m\u001b[34m(self, sqlaproxy, config)\u001b[39m\n\u001b[32m    114\u001b[39m         \u001b[38;5;28mlist\u001b[39m.\u001b[34m__init__\u001b[39m(\u001b[38;5;28mself\u001b[39m, sqlaproxy.fetchall())\n\u001b[32m    115\u001b[39m     \u001b[38;5;28mself\u001b[39m.field_names = unduplicate_field_names(\u001b[38;5;28mself\u001b[39m.keys)\n\u001b[32m--> \u001b[39m\u001b[32m116\u001b[39m     \u001b[38;5;28mself\u001b[39m.pretty = PrettyTable(\u001b[38;5;28mself\u001b[39m.field_names, style=\u001b[43mprettytable\u001b[49m\u001b[43m.\u001b[49m\u001b[34;43m__dict__\u001b[39;49m\u001b[43m[\u001b[49m\u001b[43mconfig\u001b[49m\u001b[43m.\u001b[49m\u001b[43mstyle\u001b[49m\u001b[43m.\u001b[49m\u001b[43mupper\u001b[49m\u001b[43m(\u001b[49m\u001b[43m)\u001b[49m\u001b[43m]\u001b[49m)\n\u001b[32m    117\u001b[39m \u001b[38;5;28;01melse\u001b[39;00m:\n\u001b[32m    118\u001b[39m     \u001b[38;5;28mlist\u001b[39m.\u001b[34m__init__\u001b[39m(\u001b[38;5;28mself\u001b[39m, [])\n",
      "\u001b[31mKeyError\u001b[39m: 'DEFAULT'"
     ]
    }
   ],
   "source": [
    "%%sql\n",
    "CREATE TABLE IF NOT EXISTS Employ (\n",
    "    emp_id INTEGER PRIMARY KEY,\n",
    "    first_name TEXT,\n",
    "    last_name TEXT,\n",
    "    salary REAL,\n",
    "    hire_date TEXT\n",
    ");\n",
    "\n",
    "SELECT * FROM Employ;"
   ]
  },
  {
   "cell_type": "code",
   "execution_count": null,
   "id": "ba3763df",
   "metadata": {},
   "outputs": [],
   "source": [
    "%%sql\n"
   ]
  }
 ],
 "metadata": {
  "kernelspec": {
   "display_name": "Python 3",
   "language": "python",
   "name": "python3"
  },
  "language_info": {
   "codemirror_mode": {
    "name": "ipython",
    "version": 3
   },
   "file_extension": ".py",
   "mimetype": "text/x-python",
   "name": "python",
   "nbconvert_exporter": "python",
   "pygments_lexer": "ipython3",
   "version": "3.12.5"
  }
 },
 "nbformat": 4,
 "nbformat_minor": 5
}
